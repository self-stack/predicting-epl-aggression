{
 "metadata": {
  "language_info": {
   "codemirror_mode": {
    "name": "ipython",
    "version": 3
   },
   "file_extension": ".py",
   "mimetype": "text/x-python",
   "name": "python",
   "nbconvert_exporter": "python",
   "pygments_lexer": "ipython3",
   "version": "3.7.6-final"
  },
  "orig_nbformat": 2,
  "kernelspec": {
   "name": "python3",
   "display_name": "Python 3"
  }
 },
 "nbformat": 4,
 "nbformat_minor": 2,
 "cells": [
  {
   "cell_type": "code",
   "execution_count": 1,
   "metadata": {},
   "outputs": [],
   "source": [
    "import pandas as pd\n",
    "import numpy as np\n",
    "import df_build as build"
   ]
  },
  {
   "cell_type": "code",
   "execution_count": 2,
   "metadata": {},
   "outputs": [],
   "source": [
    "team = 'Man City'\n",
    "opponent = 'Man United'"
   ]
  },
  {
   "cell_type": "code",
   "execution_count": 3,
   "metadata": {},
   "outputs": [],
   "source": [
    "season_20_19_team_options = ['Arsenal', 'Aston Villa', 'Brighton', 'Burnley', 'Chelsea', 'Crystal Palace', 'Everton', 'Fulham', 'Leicester', 'Liverpool', 'Man City', 'Man United', 'Newcastle', 'Southhampton', 'Tottenham', 'West Brom', 'West Ham', 'Wolves']"
   ]
  },
  {
   "cell_type": "code",
   "execution_count": 4,
   "metadata": {},
   "outputs": [],
   "source": [
    "game_stats = build.csv_to_df()"
   ]
  },
  {
   "cell_type": "code",
   "execution_count": 5,
   "metadata": {},
   "outputs": [],
   "source": [
    "team_focus = build.df_team_focus(game_stats, team)"
   ]
  },
  {
   "cell_type": "markdown",
   "metadata": {},
   "source": [
    "## Modeling"
   ]
  },
  {
   "cell_type": "code",
   "execution_count": 2,
   "metadata": {},
   "outputs": [
    {
     "output_type": "error",
     "ename": "ModuleNotFoundError",
     "evalue": "No module named 'imblearn'",
     "traceback": [
      "\u001b[0;31m---------------------------------------------------------------------------\u001b[0m",
      "\u001b[0;31mModuleNotFoundError\u001b[0m                       Traceback (most recent call last)",
      "\u001b[0;32m<ipython-input-2-f327d60d7013>\u001b[0m in \u001b[0;36m<module>\u001b[0;34m\u001b[0m\n\u001b[0;32m----> 1\u001b[0;31m \u001b[0;32mimport\u001b[0m \u001b[0mimblearn\u001b[0m\u001b[0;34m\u001b[0m\u001b[0;34m\u001b[0m\u001b[0m\n\u001b[0m",
      "\u001b[0;31mModuleNotFoundError\u001b[0m: No module named 'imblearn'"
     ]
    }
   ],
   "source": [
    "import imblearn"
   ]
  },
  {
   "cell_type": "code",
   "execution_count": 6,
   "metadata": {},
   "outputs": [],
   "source": [
    "model_data = team_focus.copy()"
   ]
  },
  {
   "cell_type": "code",
   "execution_count": 7,
   "metadata": {},
   "outputs": [
    {
     "output_type": "execute_result",
     "data": {
      "text/plain": "            home_advan  team_shots  team_target_shots  team_goals  team_fouls  \\\nDate                                                                            \n2019-12-05       False          20                  9           4           8   \n2019-10-02        True          15                  9           6           9   \n2019-09-03        True          19                  9           3          11   \n2019-06-05        True          19                  5           1          12   \n2019-06-02       False          15                  4           2           6   \n\n            team_corners  team_yellows  team_reds   opponent  oppon_shots  \\\nDate                                                                        \n2019-12-05             6             0          0   Brighton            6   \n2019-10-02             2             1          0    Chelsea           12   \n2019-09-03             9             1          0    Watford            2   \n2019-06-05            11             3          0  Leicester            7   \n2019-06-02             6             1          0    Everton            4   \n\n            oppon_target_shots  oppon_goals  oppon_fouls  oppon_corners  \\\nDate                                                                      \n2019-12-05                   2            1           12              2   \n2019-10-02                   4            0           13              2   \n2019-09-03                   1            1            7              1   \n2019-06-05                   2            0            5              0   \n2019-06-02                   1            0           12              5   \n\n            oppon_yellows  oppon_reds  season_num  \nDate                                               \n2019-12-05              0           0          10  \n2019-10-02              2           0          10  \n2019-09-03              1           0          10  \n2019-06-05              2           0          10  \n2019-06-02              1           0          10  ",
      "text/html": "<div>\n<style scoped>\n    .dataframe tbody tr th:only-of-type {\n        vertical-align: middle;\n    }\n\n    .dataframe tbody tr th {\n        vertical-align: top;\n    }\n\n    .dataframe thead th {\n        text-align: right;\n    }\n</style>\n<table border=\"1\" class=\"dataframe\">\n  <thead>\n    <tr style=\"text-align: right;\">\n      <th></th>\n      <th>home_advan</th>\n      <th>team_shots</th>\n      <th>team_target_shots</th>\n      <th>team_goals</th>\n      <th>team_fouls</th>\n      <th>team_corners</th>\n      <th>team_yellows</th>\n      <th>team_reds</th>\n      <th>opponent</th>\n      <th>oppon_shots</th>\n      <th>oppon_target_shots</th>\n      <th>oppon_goals</th>\n      <th>oppon_fouls</th>\n      <th>oppon_corners</th>\n      <th>oppon_yellows</th>\n      <th>oppon_reds</th>\n      <th>season_num</th>\n    </tr>\n    <tr>\n      <th>Date</th>\n      <th></th>\n      <th></th>\n      <th></th>\n      <th></th>\n      <th></th>\n      <th></th>\n      <th></th>\n      <th></th>\n      <th></th>\n      <th></th>\n      <th></th>\n      <th></th>\n      <th></th>\n      <th></th>\n      <th></th>\n      <th></th>\n      <th></th>\n    </tr>\n  </thead>\n  <tbody>\n    <tr>\n      <th>2019-12-05</th>\n      <td>False</td>\n      <td>20</td>\n      <td>9</td>\n      <td>4</td>\n      <td>8</td>\n      <td>6</td>\n      <td>0</td>\n      <td>0</td>\n      <td>Brighton</td>\n      <td>6</td>\n      <td>2</td>\n      <td>1</td>\n      <td>12</td>\n      <td>2</td>\n      <td>0</td>\n      <td>0</td>\n      <td>10</td>\n    </tr>\n    <tr>\n      <th>2019-10-02</th>\n      <td>True</td>\n      <td>15</td>\n      <td>9</td>\n      <td>6</td>\n      <td>9</td>\n      <td>2</td>\n      <td>1</td>\n      <td>0</td>\n      <td>Chelsea</td>\n      <td>12</td>\n      <td>4</td>\n      <td>0</td>\n      <td>13</td>\n      <td>2</td>\n      <td>2</td>\n      <td>0</td>\n      <td>10</td>\n    </tr>\n    <tr>\n      <th>2019-09-03</th>\n      <td>True</td>\n      <td>19</td>\n      <td>9</td>\n      <td>3</td>\n      <td>11</td>\n      <td>9</td>\n      <td>1</td>\n      <td>0</td>\n      <td>Watford</td>\n      <td>2</td>\n      <td>1</td>\n      <td>1</td>\n      <td>7</td>\n      <td>1</td>\n      <td>1</td>\n      <td>0</td>\n      <td>10</td>\n    </tr>\n    <tr>\n      <th>2019-06-05</th>\n      <td>True</td>\n      <td>19</td>\n      <td>5</td>\n      <td>1</td>\n      <td>12</td>\n      <td>11</td>\n      <td>3</td>\n      <td>0</td>\n      <td>Leicester</td>\n      <td>7</td>\n      <td>2</td>\n      <td>0</td>\n      <td>5</td>\n      <td>0</td>\n      <td>2</td>\n      <td>0</td>\n      <td>10</td>\n    </tr>\n    <tr>\n      <th>2019-06-02</th>\n      <td>False</td>\n      <td>15</td>\n      <td>4</td>\n      <td>2</td>\n      <td>6</td>\n      <td>6</td>\n      <td>1</td>\n      <td>0</td>\n      <td>Everton</td>\n      <td>4</td>\n      <td>1</td>\n      <td>0</td>\n      <td>12</td>\n      <td>5</td>\n      <td>1</td>\n      <td>0</td>\n      <td>10</td>\n    </tr>\n  </tbody>\n</table>\n</div>"
     },
     "metadata": {},
     "execution_count": 7
    }
   ],
   "source": [
    "model_data.head()"
   ]
  },
  {
   "cell_type": "code",
   "execution_count": 8,
   "metadata": {},
   "outputs": [],
   "source": [
    "game_to_predict = '2019-10-02'"
   ]
  },
  {
   "cell_type": "code",
   "execution_count": 9,
   "metadata": {},
   "outputs": [],
   "source": [
    "model_data = team_focus[team_focus.index <='2019-10-02']"
   ]
  },
  {
   "cell_type": "code",
   "execution_count": 10,
   "metadata": {},
   "outputs": [
    {
     "output_type": "execute_result",
     "data": {
      "text/plain": "            home_advan  team_shots  team_target_shots  team_goals  team_fouls  \\\nDate                                                                            \n2019-10-02        True          15                  9           6           9   \n2019-09-03        True          19                  9           3          11   \n2019-06-05        True          19                  5           1          12   \n2019-06-02       False          15                  4           2           6   \n2019-04-28       False          25                  7           1           7   \n\n            team_corners  team_yellows  team_reds   opponent  oppon_shots  \\\nDate                                                                        \n2019-10-02             2             1          0    Chelsea           12   \n2019-09-03             9             1          0    Watford            2   \n2019-06-05            11             3          0  Leicester            7   \n2019-06-02             6             1          0    Everton            4   \n2019-04-28             6             1          0    Burnley            2   \n\n            oppon_target_shots  oppon_goals  oppon_fouls  oppon_corners  \\\nDate                                                                      \n2019-10-02                   4            0           13              2   \n2019-09-03                   1            1            7              1   \n2019-06-05                   2            0            5              0   \n2019-06-02                   1            0           12              5   \n2019-04-28                   0            0            5              0   \n\n            oppon_yellows  oppon_reds  season_num  \nDate                                               \n2019-10-02              2           0          10  \n2019-09-03              1           0          10  \n2019-06-05              2           0          10  \n2019-06-02              1           0          10  \n2019-04-28              1           0          10  ",
      "text/html": "<div>\n<style scoped>\n    .dataframe tbody tr th:only-of-type {\n        vertical-align: middle;\n    }\n\n    .dataframe tbody tr th {\n        vertical-align: top;\n    }\n\n    .dataframe thead th {\n        text-align: right;\n    }\n</style>\n<table border=\"1\" class=\"dataframe\">\n  <thead>\n    <tr style=\"text-align: right;\">\n      <th></th>\n      <th>home_advan</th>\n      <th>team_shots</th>\n      <th>team_target_shots</th>\n      <th>team_goals</th>\n      <th>team_fouls</th>\n      <th>team_corners</th>\n      <th>team_yellows</th>\n      <th>team_reds</th>\n      <th>opponent</th>\n      <th>oppon_shots</th>\n      <th>oppon_target_shots</th>\n      <th>oppon_goals</th>\n      <th>oppon_fouls</th>\n      <th>oppon_corners</th>\n      <th>oppon_yellows</th>\n      <th>oppon_reds</th>\n      <th>season_num</th>\n    </tr>\n    <tr>\n      <th>Date</th>\n      <th></th>\n      <th></th>\n      <th></th>\n      <th></th>\n      <th></th>\n      <th></th>\n      <th></th>\n      <th></th>\n      <th></th>\n      <th></th>\n      <th></th>\n      <th></th>\n      <th></th>\n      <th></th>\n      <th></th>\n      <th></th>\n      <th></th>\n    </tr>\n  </thead>\n  <tbody>\n    <tr>\n      <th>2019-10-02</th>\n      <td>True</td>\n      <td>15</td>\n      <td>9</td>\n      <td>6</td>\n      <td>9</td>\n      <td>2</td>\n      <td>1</td>\n      <td>0</td>\n      <td>Chelsea</td>\n      <td>12</td>\n      <td>4</td>\n      <td>0</td>\n      <td>13</td>\n      <td>2</td>\n      <td>2</td>\n      <td>0</td>\n      <td>10</td>\n    </tr>\n    <tr>\n      <th>2019-09-03</th>\n      <td>True</td>\n      <td>19</td>\n      <td>9</td>\n      <td>3</td>\n      <td>11</td>\n      <td>9</td>\n      <td>1</td>\n      <td>0</td>\n      <td>Watford</td>\n      <td>2</td>\n      <td>1</td>\n      <td>1</td>\n      <td>7</td>\n      <td>1</td>\n      <td>1</td>\n      <td>0</td>\n      <td>10</td>\n    </tr>\n    <tr>\n      <th>2019-06-05</th>\n      <td>True</td>\n      <td>19</td>\n      <td>5</td>\n      <td>1</td>\n      <td>12</td>\n      <td>11</td>\n      <td>3</td>\n      <td>0</td>\n      <td>Leicester</td>\n      <td>7</td>\n      <td>2</td>\n      <td>0</td>\n      <td>5</td>\n      <td>0</td>\n      <td>2</td>\n      <td>0</td>\n      <td>10</td>\n    </tr>\n    <tr>\n      <th>2019-06-02</th>\n      <td>False</td>\n      <td>15</td>\n      <td>4</td>\n      <td>2</td>\n      <td>6</td>\n      <td>6</td>\n      <td>1</td>\n      <td>0</td>\n      <td>Everton</td>\n      <td>4</td>\n      <td>1</td>\n      <td>0</td>\n      <td>12</td>\n      <td>5</td>\n      <td>1</td>\n      <td>0</td>\n      <td>10</td>\n    </tr>\n    <tr>\n      <th>2019-04-28</th>\n      <td>False</td>\n      <td>25</td>\n      <td>7</td>\n      <td>1</td>\n      <td>7</td>\n      <td>6</td>\n      <td>1</td>\n      <td>0</td>\n      <td>Burnley</td>\n      <td>2</td>\n      <td>0</td>\n      <td>0</td>\n      <td>5</td>\n      <td>0</td>\n      <td>1</td>\n      <td>0</td>\n      <td>10</td>\n    </tr>\n  </tbody>\n</table>\n</div>"
     },
     "metadata": {},
     "execution_count": 10
    }
   ],
   "source": [
    "model_data.head()"
   ]
  },
  {
   "cell_type": "code",
   "execution_count": 11,
   "metadata": {},
   "outputs": [],
   "source": [
    "y = model_data.pop('team_reds')"
   ]
  },
  {
   "cell_type": "code",
   "execution_count": 12,
   "metadata": {},
   "outputs": [],
   "source": [
    "y_test = y[:100]\n",
    "y_train = y[100:]"
   ]
  },
  {
   "cell_type": "code",
   "execution_count": 13,
   "metadata": {},
   "outputs": [
    {
     "output_type": "execute_result",
     "data": {
      "text/plain": "            home_advan  team_shots  team_target_shots  team_goals  team_fouls  \\\nDate                                                                            \n2019-10-02        True          15                  9           6           9   \n2019-09-03        True          19                  9           3          11   \n2019-06-05        True          19                  5           1          12   \n2019-06-02       False          15                  4           2           6   \n2019-04-28       False          25                  7           1           7   \n\n            team_corners  team_yellows  oppon_shots  oppon_target_shots  \\\nDate                                                                      \n2019-10-02             2             1           12                   4   \n2019-09-03             9             1            2                   1   \n2019-06-05            11             3            7                   2   \n2019-06-02             6             1            4                   1   \n2019-04-28             6             1            2                   0   \n\n            oppon_goals  oppon_fouls  oppon_corners  oppon_yellows  oppon_reds  \nDate                                                                            \n2019-10-02            0           13              2              2           0  \n2019-09-03            1            7              1              1           0  \n2019-06-05            0            5              0              2           0  \n2019-06-02            0           12              5              1           0  \n2019-04-28            0            5              0              1           0  ",
      "text/html": "<div>\n<style scoped>\n    .dataframe tbody tr th:only-of-type {\n        vertical-align: middle;\n    }\n\n    .dataframe tbody tr th {\n        vertical-align: top;\n    }\n\n    .dataframe thead th {\n        text-align: right;\n    }\n</style>\n<table border=\"1\" class=\"dataframe\">\n  <thead>\n    <tr style=\"text-align: right;\">\n      <th></th>\n      <th>home_advan</th>\n      <th>team_shots</th>\n      <th>team_target_shots</th>\n      <th>team_goals</th>\n      <th>team_fouls</th>\n      <th>team_corners</th>\n      <th>team_yellows</th>\n      <th>oppon_shots</th>\n      <th>oppon_target_shots</th>\n      <th>oppon_goals</th>\n      <th>oppon_fouls</th>\n      <th>oppon_corners</th>\n      <th>oppon_yellows</th>\n      <th>oppon_reds</th>\n    </tr>\n    <tr>\n      <th>Date</th>\n      <th></th>\n      <th></th>\n      <th></th>\n      <th></th>\n      <th></th>\n      <th></th>\n      <th></th>\n      <th></th>\n      <th></th>\n      <th></th>\n      <th></th>\n      <th></th>\n      <th></th>\n      <th></th>\n    </tr>\n  </thead>\n  <tbody>\n    <tr>\n      <th>2019-10-02</th>\n      <td>True</td>\n      <td>15</td>\n      <td>9</td>\n      <td>6</td>\n      <td>9</td>\n      <td>2</td>\n      <td>1</td>\n      <td>12</td>\n      <td>4</td>\n      <td>0</td>\n      <td>13</td>\n      <td>2</td>\n      <td>2</td>\n      <td>0</td>\n    </tr>\n    <tr>\n      <th>2019-09-03</th>\n      <td>True</td>\n      <td>19</td>\n      <td>9</td>\n      <td>3</td>\n      <td>11</td>\n      <td>9</td>\n      <td>1</td>\n      <td>2</td>\n      <td>1</td>\n      <td>1</td>\n      <td>7</td>\n      <td>1</td>\n      <td>1</td>\n      <td>0</td>\n    </tr>\n    <tr>\n      <th>2019-06-05</th>\n      <td>True</td>\n      <td>19</td>\n      <td>5</td>\n      <td>1</td>\n      <td>12</td>\n      <td>11</td>\n      <td>3</td>\n      <td>7</td>\n      <td>2</td>\n      <td>0</td>\n      <td>5</td>\n      <td>0</td>\n      <td>2</td>\n      <td>0</td>\n    </tr>\n    <tr>\n      <th>2019-06-02</th>\n      <td>False</td>\n      <td>15</td>\n      <td>4</td>\n      <td>2</td>\n      <td>6</td>\n      <td>6</td>\n      <td>1</td>\n      <td>4</td>\n      <td>1</td>\n      <td>0</td>\n      <td>12</td>\n      <td>5</td>\n      <td>1</td>\n      <td>0</td>\n    </tr>\n    <tr>\n      <th>2019-04-28</th>\n      <td>False</td>\n      <td>25</td>\n      <td>7</td>\n      <td>1</td>\n      <td>7</td>\n      <td>6</td>\n      <td>1</td>\n      <td>2</td>\n      <td>0</td>\n      <td>0</td>\n      <td>5</td>\n      <td>0</td>\n      <td>1</td>\n      <td>0</td>\n    </tr>\n  </tbody>\n</table>\n</div>"
     },
     "metadata": {},
     "execution_count": 13
    }
   ],
   "source": [
    "X = model_data.drop(['opponent', 'season_num'], axis=1)\n",
    "X.head()"
   ]
  },
  {
   "cell_type": "code",
   "execution_count": 14,
   "metadata": {},
   "outputs": [
    {
     "output_type": "execute_result",
     "data": {
      "text/plain": "            home_advan  team_shots  team_target_shots  team_goals  team_fouls  \\\nDate                                                                            \n2019-10-02         NaN         NaN                NaN         NaN         NaN   \n2019-09-03         NaN         NaN                NaN         NaN         NaN   \n2019-06-05    1.000000   17.666667           7.666667    3.333333   10.666667   \n2019-06-02    0.666667   17.666667           6.000000    2.000000    9.666667   \n2019-04-28    0.333333   19.666667           5.333333    1.333333    8.333333   \n...                ...         ...                ...         ...         ...   \n2009-09-20    0.333333   13.000000           8.333333    2.333333   13.333333   \n2009-09-12    0.666667   13.333333           8.000000    3.333333   15.000000   \n2009-08-30    0.333333   10.666667           6.666667    2.666667   11.333333   \n2009-08-22    0.666667   12.666667           8.333333    2.000000    9.000000   \n2009-08-15    0.333333   12.000000           8.000000    1.333333    7.666667   \n\n            team_corners  team_yellows  oppon_shots  oppon_target_shots  \\\nDate                                                                      \n2019-10-02           NaN           NaN          NaN                 NaN   \n2019-09-03           NaN           NaN          NaN                 NaN   \n2019-06-05      7.333333      1.666667     7.000000            2.333333   \n2019-06-02      8.666667      1.666667     4.333333            1.333333   \n2019-04-28      7.666667      1.666667     4.333333            1.000000   \n...                  ...           ...          ...                 ...   \n2009-09-20      6.000000      1.666667    15.000000            8.333333   \n2009-09-12      5.000000      2.000000    17.333333            9.333333   \n2009-08-30      5.000000      2.000000    17.000000            8.666667   \n2009-08-22      6.333333      1.333333    13.333333            5.666667   \n2009-08-15      6.666667      0.666667    12.666667            5.666667   \n\n            oppon_goals  oppon_fouls  oppon_corners  oppon_yellows  oppon_reds  \nDate                                                                            \n2019-10-02          NaN          NaN            NaN            NaN         NaN  \n2019-09-03          NaN          NaN            NaN            NaN         NaN  \n2019-06-05     0.333333     8.333333       1.000000       1.666667         0.0  \n2019-06-02     0.333333     8.000000       2.000000       1.333333         0.0  \n2019-04-28     0.000000     7.333333       1.666667       1.333333         0.0  \n...                 ...          ...            ...            ...         ...  \n2009-09-20     2.000000    13.000000       7.333333       1.333333         0.0  \n2009-09-12     2.333333    13.666667       9.333333       1.666667         0.0  \n2009-08-30     2.000000    13.000000       8.666667       2.000000         0.0  \n2009-08-22     0.666667    11.666667       7.000000       1.666667         0.0  \n2009-08-15     0.000000    11.666667       4.666667       1.666667         0.0  \n\n[379 rows x 14 columns]",
      "text/html": "<div>\n<style scoped>\n    .dataframe tbody tr th:only-of-type {\n        vertical-align: middle;\n    }\n\n    .dataframe tbody tr th {\n        vertical-align: top;\n    }\n\n    .dataframe thead th {\n        text-align: right;\n    }\n</style>\n<table border=\"1\" class=\"dataframe\">\n  <thead>\n    <tr style=\"text-align: right;\">\n      <th></th>\n      <th>home_advan</th>\n      <th>team_shots</th>\n      <th>team_target_shots</th>\n      <th>team_goals</th>\n      <th>team_fouls</th>\n      <th>team_corners</th>\n      <th>team_yellows</th>\n      <th>oppon_shots</th>\n      <th>oppon_target_shots</th>\n      <th>oppon_goals</th>\n      <th>oppon_fouls</th>\n      <th>oppon_corners</th>\n      <th>oppon_yellows</th>\n      <th>oppon_reds</th>\n    </tr>\n    <tr>\n      <th>Date</th>\n      <th></th>\n      <th></th>\n      <th></th>\n      <th></th>\n      <th></th>\n      <th></th>\n      <th></th>\n      <th></th>\n      <th></th>\n      <th></th>\n      <th></th>\n      <th></th>\n      <th></th>\n      <th></th>\n    </tr>\n  </thead>\n  <tbody>\n    <tr>\n      <th>2019-10-02</th>\n      <td>NaN</td>\n      <td>NaN</td>\n      <td>NaN</td>\n      <td>NaN</td>\n      <td>NaN</td>\n      <td>NaN</td>\n      <td>NaN</td>\n      <td>NaN</td>\n      <td>NaN</td>\n      <td>NaN</td>\n      <td>NaN</td>\n      <td>NaN</td>\n      <td>NaN</td>\n      <td>NaN</td>\n    </tr>\n    <tr>\n      <th>2019-09-03</th>\n      <td>NaN</td>\n      <td>NaN</td>\n      <td>NaN</td>\n      <td>NaN</td>\n      <td>NaN</td>\n      <td>NaN</td>\n      <td>NaN</td>\n      <td>NaN</td>\n      <td>NaN</td>\n      <td>NaN</td>\n      <td>NaN</td>\n      <td>NaN</td>\n      <td>NaN</td>\n      <td>NaN</td>\n    </tr>\n    <tr>\n      <th>2019-06-05</th>\n      <td>1.000000</td>\n      <td>17.666667</td>\n      <td>7.666667</td>\n      <td>3.333333</td>\n      <td>10.666667</td>\n      <td>7.333333</td>\n      <td>1.666667</td>\n      <td>7.000000</td>\n      <td>2.333333</td>\n      <td>0.333333</td>\n      <td>8.333333</td>\n      <td>1.000000</td>\n      <td>1.666667</td>\n      <td>0.0</td>\n    </tr>\n    <tr>\n      <th>2019-06-02</th>\n      <td>0.666667</td>\n      <td>17.666667</td>\n      <td>6.000000</td>\n      <td>2.000000</td>\n      <td>9.666667</td>\n      <td>8.666667</td>\n      <td>1.666667</td>\n      <td>4.333333</td>\n      <td>1.333333</td>\n      <td>0.333333</td>\n      <td>8.000000</td>\n      <td>2.000000</td>\n      <td>1.333333</td>\n      <td>0.0</td>\n    </tr>\n    <tr>\n      <th>2019-04-28</th>\n      <td>0.333333</td>\n      <td>19.666667</td>\n      <td>5.333333</td>\n      <td>1.333333</td>\n      <td>8.333333</td>\n      <td>7.666667</td>\n      <td>1.666667</td>\n      <td>4.333333</td>\n      <td>1.000000</td>\n      <td>0.000000</td>\n      <td>7.333333</td>\n      <td>1.666667</td>\n      <td>1.333333</td>\n      <td>0.0</td>\n    </tr>\n    <tr>\n      <th>...</th>\n      <td>...</td>\n      <td>...</td>\n      <td>...</td>\n      <td>...</td>\n      <td>...</td>\n      <td>...</td>\n      <td>...</td>\n      <td>...</td>\n      <td>...</td>\n      <td>...</td>\n      <td>...</td>\n      <td>...</td>\n      <td>...</td>\n      <td>...</td>\n    </tr>\n    <tr>\n      <th>2009-09-20</th>\n      <td>0.333333</td>\n      <td>13.000000</td>\n      <td>8.333333</td>\n      <td>2.333333</td>\n      <td>13.333333</td>\n      <td>6.000000</td>\n      <td>1.666667</td>\n      <td>15.000000</td>\n      <td>8.333333</td>\n      <td>2.000000</td>\n      <td>13.000000</td>\n      <td>7.333333</td>\n      <td>1.333333</td>\n      <td>0.0</td>\n    </tr>\n    <tr>\n      <th>2009-09-12</th>\n      <td>0.666667</td>\n      <td>13.333333</td>\n      <td>8.000000</td>\n      <td>3.333333</td>\n      <td>15.000000</td>\n      <td>5.000000</td>\n      <td>2.000000</td>\n      <td>17.333333</td>\n      <td>9.333333</td>\n      <td>2.333333</td>\n      <td>13.666667</td>\n      <td>9.333333</td>\n      <td>1.666667</td>\n      <td>0.0</td>\n    </tr>\n    <tr>\n      <th>2009-08-30</th>\n      <td>0.333333</td>\n      <td>10.666667</td>\n      <td>6.666667</td>\n      <td>2.666667</td>\n      <td>11.333333</td>\n      <td>5.000000</td>\n      <td>2.000000</td>\n      <td>17.000000</td>\n      <td>8.666667</td>\n      <td>2.000000</td>\n      <td>13.000000</td>\n      <td>8.666667</td>\n      <td>2.000000</td>\n      <td>0.0</td>\n    </tr>\n    <tr>\n      <th>2009-08-22</th>\n      <td>0.666667</td>\n      <td>12.666667</td>\n      <td>8.333333</td>\n      <td>2.000000</td>\n      <td>9.000000</td>\n      <td>6.333333</td>\n      <td>1.333333</td>\n      <td>13.333333</td>\n      <td>5.666667</td>\n      <td>0.666667</td>\n      <td>11.666667</td>\n      <td>7.000000</td>\n      <td>1.666667</td>\n      <td>0.0</td>\n    </tr>\n    <tr>\n      <th>2009-08-15</th>\n      <td>0.333333</td>\n      <td>12.000000</td>\n      <td>8.000000</td>\n      <td>1.333333</td>\n      <td>7.666667</td>\n      <td>6.666667</td>\n      <td>0.666667</td>\n      <td>12.666667</td>\n      <td>5.666667</td>\n      <td>0.000000</td>\n      <td>11.666667</td>\n      <td>4.666667</td>\n      <td>1.666667</td>\n      <td>0.0</td>\n    </tr>\n  </tbody>\n</table>\n<p>379 rows × 14 columns</p>\n</div>"
     },
     "metadata": {},
     "execution_count": 14
    }
   ],
   "source": [
    "X.rolling(3).mean()"
   ]
  },
  {
   "cell_type": "code",
   "execution_count": null,
   "metadata": {},
   "outputs": [],
   "source": []
  }
 ]
}