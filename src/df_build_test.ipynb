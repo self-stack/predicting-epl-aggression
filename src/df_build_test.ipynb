{
 "metadata": {
  "language_info": {
   "codemirror_mode": {
    "name": "ipython",
    "version": 3
   },
   "file_extension": ".py",
   "mimetype": "text/x-python",
   "name": "python",
   "nbconvert_exporter": "python",
   "pygments_lexer": "ipython3",
   "version": "3.7.6-final"
  },
  "orig_nbformat": 2,
  "kernelspec": {
   "name": "python3",
   "display_name": "Python 3"
  }
 },
 "nbformat": 4,
 "nbformat_minor": 2,
 "cells": [
  {
   "cell_type": "code",
   "execution_count": 1,
   "metadata": {},
   "outputs": [],
   "source": [
    "import pandas as pd\n",
    "import numpy as np\n",
    "import df_build"
   ]
  },
  {
   "cell_type": "code",
   "execution_count": 2,
   "metadata": {},
   "outputs": [],
   "source": [
    "team = 'Man City'\n",
    "opponent = 'Man United'"
   ]
  },
  {
   "cell_type": "code",
   "execution_count": 3,
   "metadata": {},
   "outputs": [],
   "source": [
    "season_20_19_team_options = ['Arsenal', 'Aston Villa', 'Brighton', 'Burnley', 'Chelsea', 'Crystal Palace', 'Everton', 'Fulham', 'Leicester', 'Liverpool', 'Man City', 'Man United', 'Newcastle', 'Southhampton', 'Tottenham', 'West Brom', 'West Ham', 'Wolves']"
   ]
  },
  {
   "cell_type": "code",
   "execution_count": 4,
   "metadata": {},
   "outputs": [],
   "source": [
    "game_stats = df_build.csv_to_df()"
   ]
  },
  {
   "cell_type": "code",
   "execution_count": 5,
   "metadata": {},
   "outputs": [],
   "source": [
    "team_focus = df_build.df_team_focus(game_stats, team)"
   ]
  },
  {
   "cell_type": "code",
   "execution_count": 6,
   "metadata": {
    "tags": []
   },
   "outputs": [
    {
     "output_type": "stream",
     "name": "stdout",
     "text": "<class 'pandas.core.frame.DataFrame'>\nDatetimeIndex: 380 entries, 2019-12-05 to 2009-08-15\nData columns (total 17 columns):\n #   Column              Non-Null Count  Dtype \n---  ------              --------------  ----- \n 0   home_advan          380 non-null    bool  \n 1   team_shots          380 non-null    int64 \n 2   team_target_shots   380 non-null    int64 \n 3   team_goals          380 non-null    int64 \n 4   team_fouls          380 non-null    int64 \n 5   team_corners        380 non-null    int64 \n 6   team_yellows        380 non-null    int64 \n 7   team_reds           380 non-null    int64 \n 8   opponent            380 non-null    object\n 9   oppon_shots         380 non-null    int64 \n 10  oppon_target_shots  380 non-null    int64 \n 11  oppon_goals         380 non-null    int64 \n 12  oppon_fouls         380 non-null    int64 \n 13  oppon_corners       380 non-null    int64 \n 14  oppon_yellows       380 non-null    int64 \n 15  oppon_reds          380 non-null    int64 \n 16  season_num          380 non-null    int64 \ndtypes: bool(1), int64(15), object(1)\nmemory usage: 50.8+ KB\n"
    }
   ],
   "source": [
    "team_focus.info()"
   ]
  },
  {
   "cell_type": "code",
   "execution_count": 7,
   "metadata": {},
   "outputs": [
    {
     "output_type": "execute_result",
     "data": {
      "text/plain": "            home_advan  team_shots  team_target_shots  team_goals  team_fouls  \\\nDate                                                                            \n2019-12-05       False          20                  9           4           8   \n2019-10-02        True          15                  9           6           9   \n2019-09-03        True          19                  9           3          11   \n2019-06-05        True          19                  5           1          12   \n2019-06-02       False          15                  4           2           6   \n...                ...         ...                ...         ...         ...   \n2009-09-20       False          10                  6           3          14   \n2009-09-12        True          10                  6           4          13   \n2009-08-30       False          12                  8           1           7   \n2009-08-22        True          16                 11           1           7   \n2009-08-15       False           8                  5           2           9   \n\n            team_corners  team_yellows  team_reds    opponent  oppon_shots  \\\nDate                                                                         \n2019-12-05             6             0          0    Brighton            6   \n2019-10-02             2             1          0     Chelsea           12   \n2019-09-03             9             1          0     Watford            2   \n2019-06-05            11             3          0   Leicester            7   \n2019-06-02             6             1          0     Everton            4   \n...                  ...           ...        ...         ...          ...   \n2009-09-20             1             2          0  Man United           21   \n2009-09-12             3             3          0     Arsenal           19   \n2009-08-30            11             1          0  Portsmouth           11   \n2009-08-22             5             0          0      Wolves           10   \n2009-08-15             4             1          0   Blackburn           17   \n\n            oppon_target_shots  oppon_goals  oppon_fouls  oppon_corners  \\\nDate                                                                      \n2019-12-05                   2            1           12              2   \n2019-10-02                   4            0           13              2   \n2019-09-03                   1            1            7              1   \n2019-06-05                   2            0            5              0   \n2019-06-02                   1            0           12              5   \n...                        ...          ...          ...            ...   \n2009-09-20                  11            4           15             11   \n2009-09-12                   9            2           12             12   \n2009-08-30                   6            0           12              3   \n2009-08-22                   2            0           11              6   \n2009-08-15                   9            0           12              5   \n\n            oppon_yellows  oppon_reds  season_num  \nDate                                               \n2019-12-05              0           0          10  \n2019-10-02              2           0          10  \n2019-09-03              1           0          10  \n2019-06-05              2           0          10  \n2019-06-02              1           0          10  \n...                   ...         ...         ...  \n2009-09-20              2           0           1  \n2009-09-12              2           0           1  \n2009-08-30              2           0           1  \n2009-08-22              1           0           1  \n2009-08-15              2           0           1  \n\n[380 rows x 17 columns]",
      "text/html": "<div>\n<style scoped>\n    .dataframe tbody tr th:only-of-type {\n        vertical-align: middle;\n    }\n\n    .dataframe tbody tr th {\n        vertical-align: top;\n    }\n\n    .dataframe thead th {\n        text-align: right;\n    }\n</style>\n<table border=\"1\" class=\"dataframe\">\n  <thead>\n    <tr style=\"text-align: right;\">\n      <th></th>\n      <th>home_advan</th>\n      <th>team_shots</th>\n      <th>team_target_shots</th>\n      <th>team_goals</th>\n      <th>team_fouls</th>\n      <th>team_corners</th>\n      <th>team_yellows</th>\n      <th>team_reds</th>\n      <th>opponent</th>\n      <th>oppon_shots</th>\n      <th>oppon_target_shots</th>\n      <th>oppon_goals</th>\n      <th>oppon_fouls</th>\n      <th>oppon_corners</th>\n      <th>oppon_yellows</th>\n      <th>oppon_reds</th>\n      <th>season_num</th>\n    </tr>\n    <tr>\n      <th>Date</th>\n      <th></th>\n      <th></th>\n      <th></th>\n      <th></th>\n      <th></th>\n      <th></th>\n      <th></th>\n      <th></th>\n      <th></th>\n      <th></th>\n      <th></th>\n      <th></th>\n      <th></th>\n      <th></th>\n      <th></th>\n      <th></th>\n      <th></th>\n    </tr>\n  </thead>\n  <tbody>\n    <tr>\n      <th>2019-12-05</th>\n      <td>False</td>\n      <td>20</td>\n      <td>9</td>\n      <td>4</td>\n      <td>8</td>\n      <td>6</td>\n      <td>0</td>\n      <td>0</td>\n      <td>Brighton</td>\n      <td>6</td>\n      <td>2</td>\n      <td>1</td>\n      <td>12</td>\n      <td>2</td>\n      <td>0</td>\n      <td>0</td>\n      <td>10</td>\n    </tr>\n    <tr>\n      <th>2019-10-02</th>\n      <td>True</td>\n      <td>15</td>\n      <td>9</td>\n      <td>6</td>\n      <td>9</td>\n      <td>2</td>\n      <td>1</td>\n      <td>0</td>\n      <td>Chelsea</td>\n      <td>12</td>\n      <td>4</td>\n      <td>0</td>\n      <td>13</td>\n      <td>2</td>\n      <td>2</td>\n      <td>0</td>\n      <td>10</td>\n    </tr>\n    <tr>\n      <th>2019-09-03</th>\n      <td>True</td>\n      <td>19</td>\n      <td>9</td>\n      <td>3</td>\n      <td>11</td>\n      <td>9</td>\n      <td>1</td>\n      <td>0</td>\n      <td>Watford</td>\n      <td>2</td>\n      <td>1</td>\n      <td>1</td>\n      <td>7</td>\n      <td>1</td>\n      <td>1</td>\n      <td>0</td>\n      <td>10</td>\n    </tr>\n    <tr>\n      <th>2019-06-05</th>\n      <td>True</td>\n      <td>19</td>\n      <td>5</td>\n      <td>1</td>\n      <td>12</td>\n      <td>11</td>\n      <td>3</td>\n      <td>0</td>\n      <td>Leicester</td>\n      <td>7</td>\n      <td>2</td>\n      <td>0</td>\n      <td>5</td>\n      <td>0</td>\n      <td>2</td>\n      <td>0</td>\n      <td>10</td>\n    </tr>\n    <tr>\n      <th>2019-06-02</th>\n      <td>False</td>\n      <td>15</td>\n      <td>4</td>\n      <td>2</td>\n      <td>6</td>\n      <td>6</td>\n      <td>1</td>\n      <td>0</td>\n      <td>Everton</td>\n      <td>4</td>\n      <td>1</td>\n      <td>0</td>\n      <td>12</td>\n      <td>5</td>\n      <td>1</td>\n      <td>0</td>\n      <td>10</td>\n    </tr>\n    <tr>\n      <th>...</th>\n      <td>...</td>\n      <td>...</td>\n      <td>...</td>\n      <td>...</td>\n      <td>...</td>\n      <td>...</td>\n      <td>...</td>\n      <td>...</td>\n      <td>...</td>\n      <td>...</td>\n      <td>...</td>\n      <td>...</td>\n      <td>...</td>\n      <td>...</td>\n      <td>...</td>\n      <td>...</td>\n      <td>...</td>\n    </tr>\n    <tr>\n      <th>2009-09-20</th>\n      <td>False</td>\n      <td>10</td>\n      <td>6</td>\n      <td>3</td>\n      <td>14</td>\n      <td>1</td>\n      <td>2</td>\n      <td>0</td>\n      <td>Man United</td>\n      <td>21</td>\n      <td>11</td>\n      <td>4</td>\n      <td>15</td>\n      <td>11</td>\n      <td>2</td>\n      <td>0</td>\n      <td>1</td>\n    </tr>\n    <tr>\n      <th>2009-09-12</th>\n      <td>True</td>\n      <td>10</td>\n      <td>6</td>\n      <td>4</td>\n      <td>13</td>\n      <td>3</td>\n      <td>3</td>\n      <td>0</td>\n      <td>Arsenal</td>\n      <td>19</td>\n      <td>9</td>\n      <td>2</td>\n      <td>12</td>\n      <td>12</td>\n      <td>2</td>\n      <td>0</td>\n      <td>1</td>\n    </tr>\n    <tr>\n      <th>2009-08-30</th>\n      <td>False</td>\n      <td>12</td>\n      <td>8</td>\n      <td>1</td>\n      <td>7</td>\n      <td>11</td>\n      <td>1</td>\n      <td>0</td>\n      <td>Portsmouth</td>\n      <td>11</td>\n      <td>6</td>\n      <td>0</td>\n      <td>12</td>\n      <td>3</td>\n      <td>2</td>\n      <td>0</td>\n      <td>1</td>\n    </tr>\n    <tr>\n      <th>2009-08-22</th>\n      <td>True</td>\n      <td>16</td>\n      <td>11</td>\n      <td>1</td>\n      <td>7</td>\n      <td>5</td>\n      <td>0</td>\n      <td>0</td>\n      <td>Wolves</td>\n      <td>10</td>\n      <td>2</td>\n      <td>0</td>\n      <td>11</td>\n      <td>6</td>\n      <td>1</td>\n      <td>0</td>\n      <td>1</td>\n    </tr>\n    <tr>\n      <th>2009-08-15</th>\n      <td>False</td>\n      <td>8</td>\n      <td>5</td>\n      <td>2</td>\n      <td>9</td>\n      <td>4</td>\n      <td>1</td>\n      <td>0</td>\n      <td>Blackburn</td>\n      <td>17</td>\n      <td>9</td>\n      <td>0</td>\n      <td>12</td>\n      <td>5</td>\n      <td>2</td>\n      <td>0</td>\n      <td>1</td>\n    </tr>\n  </tbody>\n</table>\n<p>380 rows × 17 columns</p>\n</div>"
     },
     "metadata": {},
     "execution_count": 7
    }
   ],
   "source": [
    "team_focus"
   ]
  },
  {
   "cell_type": "code",
   "execution_count": null,
   "metadata": {},
   "outputs": [],
   "source": []
  }
 ]
}