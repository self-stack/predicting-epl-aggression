{
 "metadata": {
  "language_info": {
   "codemirror_mode": {
    "name": "ipython",
    "version": 3
   },
   "file_extension": ".py",
   "mimetype": "text/x-python",
   "name": "python",
   "nbconvert_exporter": "python",
   "pygments_lexer": "ipython3",
   "version": "3.7.6-final"
  },
  "orig_nbformat": 2,
  "kernelspec": {
   "name": "python3",
   "display_name": "Python 3"
  }
 },
 "nbformat": 4,
 "nbformat_minor": 2,
 "cells": [
  {
   "cell_type": "code",
   "execution_count": 19,
   "metadata": {},
   "outputs": [],
   "source": [
    "import pandas as pd\n",
    "import numpy as np\n",
    "import matplotlib.pyplot as plt\n",
    "import home_v_away as script"
   ]
  },
  {
   "cell_type": "code",
   "execution_count": 4,
   "metadata": {
    "tags": []
   },
   "outputs": [
    {
     "output_type": "stream",
     "name": "stdout",
     "text": "\n\nProvided 23 Features\n"
    }
   ],
   "source": [
    "df, team_options = script.csv_to_df()"
   ]
  },
  {
   "cell_type": "code",
   "execution_count": 32,
   "metadata": {},
   "outputs": [
    {
     "output_type": "execute_result",
     "data": {
      "text/plain": "                HomeTeam        AwayTeam  Final_Goals_H  Final_Goals_A  \\\nDate                                                                     \n2018-10-08    Man United       Leicester              2              1   \n2018-11-08   Bournemouth         Cardiff              2              0   \n2018-11-08        Fulham  Crystal Palace              0              2   \n2018-11-08  Huddersfield         Chelsea              0              3   \n2018-11-08     Newcastle       Tottenham              1              2   \n\n           Final_Result  Shots_H  Shots_A  Target_Shots_H  Target_Shots_A  \\\nDate                                                                        \n2018-10-08            H        8       13               6               4   \n2018-11-08            H       12       10               4               1   \n2018-11-08            A       15       10               6               9   \n2018-11-08            A        6       13               1               4   \n2018-11-08            A       15       15               2               5   \n\n            Fouls_H  Fouls_A  Corners_H  Corners_A  Yellow_H  Yellow_A  Red_H  \\\nDate                                                                            \n2018-10-08       11        8          2          5         2         1      0   \n2018-11-08       11        9          7          4         1         1      0   \n2018-11-08        9       11          5          5         1         2      0   \n2018-11-08        9        8          2          5         2         1      0   \n2018-11-08       11       12          3          5         2         2      0   \n\n            Red_A  Season  \nDate                       \n2018-10-08      0      10  \n2018-11-08      0      10  \n2018-11-08      0      10  \n2018-11-08      0      10  \n2018-11-08      0      10  ",
      "text/html": "<div>\n<style scoped>\n    .dataframe tbody tr th:only-of-type {\n        vertical-align: middle;\n    }\n\n    .dataframe tbody tr th {\n        vertical-align: top;\n    }\n\n    .dataframe thead th {\n        text-align: right;\n    }\n</style>\n<table border=\"1\" class=\"dataframe\">\n  <thead>\n    <tr style=\"text-align: right;\">\n      <th></th>\n      <th>HomeTeam</th>\n      <th>AwayTeam</th>\n      <th>Final_Goals_H</th>\n      <th>Final_Goals_A</th>\n      <th>Final_Result</th>\n      <th>Shots_H</th>\n      <th>Shots_A</th>\n      <th>Target_Shots_H</th>\n      <th>Target_Shots_A</th>\n      <th>Fouls_H</th>\n      <th>Fouls_A</th>\n      <th>Corners_H</th>\n      <th>Corners_A</th>\n      <th>Yellow_H</th>\n      <th>Yellow_A</th>\n      <th>Red_H</th>\n      <th>Red_A</th>\n      <th>Season</th>\n    </tr>\n    <tr>\n      <th>Date</th>\n      <th></th>\n      <th></th>\n      <th></th>\n      <th></th>\n      <th></th>\n      <th></th>\n      <th></th>\n      <th></th>\n      <th></th>\n      <th></th>\n      <th></th>\n      <th></th>\n      <th></th>\n      <th></th>\n      <th></th>\n      <th></th>\n      <th></th>\n      <th></th>\n    </tr>\n  </thead>\n  <tbody>\n    <tr>\n      <th>2018-10-08</th>\n      <td>Man United</td>\n      <td>Leicester</td>\n      <td>2</td>\n      <td>1</td>\n      <td>H</td>\n      <td>8</td>\n      <td>13</td>\n      <td>6</td>\n      <td>4</td>\n      <td>11</td>\n      <td>8</td>\n      <td>2</td>\n      <td>5</td>\n      <td>2</td>\n      <td>1</td>\n      <td>0</td>\n      <td>0</td>\n      <td>10</td>\n    </tr>\n    <tr>\n      <th>2018-11-08</th>\n      <td>Bournemouth</td>\n      <td>Cardiff</td>\n      <td>2</td>\n      <td>0</td>\n      <td>H</td>\n      <td>12</td>\n      <td>10</td>\n      <td>4</td>\n      <td>1</td>\n      <td>11</td>\n      <td>9</td>\n      <td>7</td>\n      <td>4</td>\n      <td>1</td>\n      <td>1</td>\n      <td>0</td>\n      <td>0</td>\n      <td>10</td>\n    </tr>\n    <tr>\n      <th>2018-11-08</th>\n      <td>Fulham</td>\n      <td>Crystal Palace</td>\n      <td>0</td>\n      <td>2</td>\n      <td>A</td>\n      <td>15</td>\n      <td>10</td>\n      <td>6</td>\n      <td>9</td>\n      <td>9</td>\n      <td>11</td>\n      <td>5</td>\n      <td>5</td>\n      <td>1</td>\n      <td>2</td>\n      <td>0</td>\n      <td>0</td>\n      <td>10</td>\n    </tr>\n    <tr>\n      <th>2018-11-08</th>\n      <td>Huddersfield</td>\n      <td>Chelsea</td>\n      <td>0</td>\n      <td>3</td>\n      <td>A</td>\n      <td>6</td>\n      <td>13</td>\n      <td>1</td>\n      <td>4</td>\n      <td>9</td>\n      <td>8</td>\n      <td>2</td>\n      <td>5</td>\n      <td>2</td>\n      <td>1</td>\n      <td>0</td>\n      <td>0</td>\n      <td>10</td>\n    </tr>\n    <tr>\n      <th>2018-11-08</th>\n      <td>Newcastle</td>\n      <td>Tottenham</td>\n      <td>1</td>\n      <td>2</td>\n      <td>A</td>\n      <td>15</td>\n      <td>15</td>\n      <td>2</td>\n      <td>5</td>\n      <td>11</td>\n      <td>12</td>\n      <td>3</td>\n      <td>5</td>\n      <td>2</td>\n      <td>2</td>\n      <td>0</td>\n      <td>0</td>\n      <td>10</td>\n    </tr>\n  </tbody>\n</table>\n</div>"
     },
     "metadata": {},
     "execution_count": 32
    }
   ],
   "source": [
    "df.head()"
   ]
  },
  {
   "cell_type": "code",
   "execution_count": 101,
   "metadata": {},
   "outputs": [
    {
     "output_type": "execute_result",
     "data": {
      "text/plain": "['Arsenal',\n 'Aston Villa',\n 'Birmingham',\n 'Blackburn',\n 'Blackpool',\n 'Bolton',\n 'Bournemouth',\n 'Brighton',\n 'Burnley',\n 'Cardiff',\n 'Chelsea',\n 'Crystal Palace',\n 'Everton',\n 'Fulham',\n 'Huddersfield',\n 'Hull',\n 'Leicester',\n 'Liverpool',\n 'Man City',\n 'Man United',\n 'Middlesbrough',\n 'Newcastle',\n 'Norwich',\n 'Portsmouth',\n 'QPR',\n 'Reading',\n 'Southampton',\n 'Stoke',\n 'Sunderland',\n 'Swansea',\n 'Tottenham',\n 'Watford',\n 'West Brom',\n 'West Ham',\n 'Wigan',\n 'Wolves']"
     },
     "metadata": {},
     "execution_count": 101
    }
   ],
   "source": [
    "sorted(team_options) #from 10 season df"
   ]
  },
  {
   "cell_type": "code",
   "execution_count": 103,
   "metadata": {},
   "outputs": [
    {
     "output_type": "execute_result",
     "data": {
      "text/plain": "18"
     },
     "metadata": {},
     "execution_count": 103
    }
   ],
   "source": [
    "coming_season_team_options = ['Arsenal', 'Aston Villa', 'Brighton', 'Burnley', 'Chelsea', 'Crystal Palace', 'Everton', 'Fulham', 'Leicester', 'Liverpool', 'Man City', 'Man United', 'Newcastle', 'Southhampton', 'Tottenham', 'West Brom', 'West Ham', 'Wolves']\n",
    "len(coming_season_team_options)\n",
    "# missing leeds & sheffield from dataset"
   ]
  },
  {
   "cell_type": "code",
   "execution_count": 6,
   "metadata": {},
   "outputs": [],
   "source": [
    "team = 'Man City'"
   ]
  },
  {
   "cell_type": "code",
   "execution_count": 39,
   "metadata": {
    "tags": []
   },
   "outputs": [
    {
     "output_type": "stream",
     "name": "stdout",
     "text": "<class 'pandas.core.frame.DataFrame'>\nDatetimeIndex: 190 entries, 2018-08-19 to 2010-05-05\nData columns (total 18 columns):\n #   Column          Non-Null Count  Dtype \n---  ------          --------------  ----- \n 0   HomeTeam        190 non-null    object\n 1   AwayTeam        190 non-null    object\n 2   Final_Goals_H   190 non-null    int64 \n 3   Final_Goals_A   190 non-null    int64 \n 4   Final_Result    190 non-null    object\n 5   Shots_H         190 non-null    int64 \n 6   Shots_A         190 non-null    int64 \n 7   Target_Shots_H  190 non-null    int64 \n 8   Target_Shots_A  190 non-null    int64 \n 9   Fouls_H         190 non-null    int64 \n 10  Fouls_A         190 non-null    int64 \n 11  Corners_H       190 non-null    int64 \n 12  Corners_A       190 non-null    int64 \n 13  Yellow_H        190 non-null    int64 \n 14  Yellow_A        190 non-null    int64 \n 15  Red_H           190 non-null    int64 \n 16  Red_A           190 non-null    int64 \n 17  Season          190 non-null    int64 \ndtypes: int64(15), object(3)\nmemory usage: 33.2+ KB\n"
    }
   ],
   "source": [
    "home.info()"
   ]
  },
  {
   "cell_type": "code",
   "execution_count": 41,
   "metadata": {},
   "outputs": [],
   "source": [
    "record_test = pd.concat([home, away])"
   ]
  },
  {
   "cell_type": "code",
   "execution_count": 43,
   "metadata": {},
   "outputs": [
    {
     "output_type": "execute_result",
     "data": {
      "text/plain": "(array(['Man City', 'Arsenal', 'Wolves', 'Cardiff', 'Liverpool',\n        'Tottenham', 'West Ham', 'Watford', 'Chelsea', 'Leicester',\n        'Southampton', 'Huddersfield', 'Newcastle', 'Everton',\n        'Bournemouth', 'Fulham', 'Crystal Palace', 'Man United', 'Burnley',\n        'Brighton', 'West Brom', 'Swansea', 'Stoke', 'Hull', 'Sunderland',\n        'Middlesbrough', 'Aston Villa', 'Norwich', 'QPR', 'Wigan',\n        'Reading', 'Bolton', 'Blackburn', 'Blackpool', 'Birmingham',\n        'Portsmouth'], dtype=object),\n array(['Huddersfield', 'Newcastle', 'Fulham', 'Brighton', 'Burnley',\n        'Southampton', 'Man United', 'Bournemouth', 'Everton',\n        'Crystal Palace', 'Liverpool', 'Wolves', 'Arsenal', 'Chelsea',\n        'West Ham', 'Watford', 'Cardiff', 'Tottenham', 'Leicester',\n        'Stoke', 'West Brom', 'Swansea', 'Sunderland', 'Middlesbrough',\n        'Hull', 'Norwich', 'Aston Villa', 'QPR', 'Reading', 'Wigan',\n        'Blackburn', 'Bolton', 'Birmingham', 'Blackpool', 'Portsmouth',\n        'Man City'], dtype=object))"
     },
     "metadata": {},
     "execution_count": 43
    }
   ],
   "source": [
    "record_test.HomeTeam.unique(), record_test.AwayTeam.unique()"
   ]
  },
  {
   "cell_type": "code",
   "execution_count": 47,
   "metadata": {},
   "outputs": [],
   "source": [
    "record_test['Home_Field_Advantage'] = np.where(record_test.HomeTeam == team, 1, 0)\n",
    "record_test.Home_Field_Advantage = record_test.Home_Field_Advantage.astype(dtype='bool')"
   ]
  },
  {
   "cell_type": "code",
   "execution_count": 50,
   "metadata": {
    "tags": []
   },
   "outputs": [
    {
     "output_type": "stream",
     "name": "stdout",
     "text": "<class 'pandas.core.frame.DataFrame'>\nDatetimeIndex: 380 entries, 2018-08-19 to 2010-05-09\nData columns (total 19 columns):\n #   Column                Non-Null Count  Dtype \n---  ------                --------------  ----- \n 0   HomeTeam              380 non-null    object\n 1   AwayTeam              380 non-null    object\n 2   Final_Goals_H         380 non-null    int64 \n 3   Final_Goals_A         380 non-null    int64 \n 4   Final_Result          380 non-null    object\n 5   Shots_H               380 non-null    int64 \n 6   Shots_A               380 non-null    int64 \n 7   Target_Shots_H        380 non-null    int64 \n 8   Target_Shots_A        380 non-null    int64 \n 9   Fouls_H               380 non-null    int64 \n 10  Fouls_A               380 non-null    int64 \n 11  Corners_H             380 non-null    int64 \n 12  Corners_A             380 non-null    int64 \n 13  Yellow_H              380 non-null    int64 \n 14  Yellow_A              380 non-null    int64 \n 15  Red_H                 380 non-null    int64 \n 16  Red_A                 380 non-null    int64 \n 17  Season                380 non-null    int64 \n 18  Home_Field_Advantage  380 non-null    bool  \ndtypes: bool(1), int64(15), object(3)\nmemory usage: 66.8+ KB\n"
    }
   ],
   "source": [
    "record_test.info()"
   ]
  },
  {
   "cell_type": "code",
   "execution_count": 52,
   "metadata": {},
   "outputs": [
    {
     "output_type": "execute_result",
     "data": {
      "text/plain": "              HomeTeam      AwayTeam  Final_Goals_H  Final_Goals_A  \\\nDate                                                                 \n2018-08-19    Man City  Huddersfield              6              1   \n2018-01-09    Man City     Newcastle              2              1   \n2018-09-15    Man City        Fulham              3              0   \n2018-09-29    Man City      Brighton              2              0   \n2018-10-20    Man City       Burnley              5              0   \n...                ...           ...            ...            ...   \n2010-03-14  Sunderland      Man City              1              1   \n2010-03-21      Fulham      Man City              1              2   \n2010-04-03     Burnley      Man City              1              6   \n2010-04-24     Arsenal      Man City              0              0   \n2010-05-09    West Ham      Man City              1              1   \n\n           Final_Result  Shots_H  Shots_A  Target_Shots_H  Target_Shots_A  \\\nDate                                                                        \n2018-08-19            H       32        5              14               1   \n2018-01-09            H       24        3               8               2   \n2018-09-15            H       28        9               9               3   \n2018-09-29            H       28        4               8               1   \n2018-10-20            H       24        5              10               0   \n...                 ...      ...      ...             ...             ...   \n2010-03-14            D       12       13               7               9   \n2010-03-21            A       10       14               4               9   \n2010-04-03            A       14       20               7              14   \n2010-04-24            D        9        3               4               2   \n2010-05-09            D       12       17               8               6   \n\n            Fouls_H  Fouls_A  Corners_H  Corners_A  Yellow_H  Yellow_A  Red_H  \\\nDate                                                                            \n2018-08-19        9        4         10          3         0         2      0   \n2018-01-09        5       13          4          0         0         0      0   \n2018-09-15        7        7         10          4         0         0      0   \n2018-09-29        4       10         10          3         0         3      0   \n2018-10-20       11        5         10          1         2         2      0   \n...             ...      ...        ...        ...       ...       ...    ...   \n2010-03-14       12       10          3          7         2         4      0   \n2010-03-21        8        9          4          2         0         0      0   \n2010-04-03        5        8          6          7         0         0      0   \n2010-04-24       13       14          5          1         4         2      0   \n2010-05-09       12        7          4          3         2         0      0   \n\n            Red_A  Season  Home_Field_Advantage  \nDate                                             \n2018-08-19      0      10                  True  \n2018-01-09      0      10                  True  \n2018-09-15      0      10                  True  \n2018-09-29      0      10                  True  \n2018-10-20      0      10                  True  \n...           ...     ...                   ...  \n2010-03-14      0       1                 False  \n2010-03-21      0       1                 False  \n2010-04-03      0       1                 False  \n2010-04-24      0       1                 False  \n2010-05-09      0       1                 False  \n\n[380 rows x 19 columns]",
      "text/html": "<div>\n<style scoped>\n    .dataframe tbody tr th:only-of-type {\n        vertical-align: middle;\n    }\n\n    .dataframe tbody tr th {\n        vertical-align: top;\n    }\n\n    .dataframe thead th {\n        text-align: right;\n    }\n</style>\n<table border=\"1\" class=\"dataframe\">\n  <thead>\n    <tr style=\"text-align: right;\">\n      <th></th>\n      <th>HomeTeam</th>\n      <th>AwayTeam</th>\n      <th>Final_Goals_H</th>\n      <th>Final_Goals_A</th>\n      <th>Final_Result</th>\n      <th>Shots_H</th>\n      <th>Shots_A</th>\n      <th>Target_Shots_H</th>\n      <th>Target_Shots_A</th>\n      <th>Fouls_H</th>\n      <th>Fouls_A</th>\n      <th>Corners_H</th>\n      <th>Corners_A</th>\n      <th>Yellow_H</th>\n      <th>Yellow_A</th>\n      <th>Red_H</th>\n      <th>Red_A</th>\n      <th>Season</th>\n      <th>Home_Field_Advantage</th>\n    </tr>\n    <tr>\n      <th>Date</th>\n      <th></th>\n      <th></th>\n      <th></th>\n      <th></th>\n      <th></th>\n      <th></th>\n      <th></th>\n      <th></th>\n      <th></th>\n      <th></th>\n      <th></th>\n      <th></th>\n      <th></th>\n      <th></th>\n      <th></th>\n      <th></th>\n      <th></th>\n      <th></th>\n      <th></th>\n    </tr>\n  </thead>\n  <tbody>\n    <tr>\n      <th>2018-08-19</th>\n      <td>Man City</td>\n      <td>Huddersfield</td>\n      <td>6</td>\n      <td>1</td>\n      <td>H</td>\n      <td>32</td>\n      <td>5</td>\n      <td>14</td>\n      <td>1</td>\n      <td>9</td>\n      <td>4</td>\n      <td>10</td>\n      <td>3</td>\n      <td>0</td>\n      <td>2</td>\n      <td>0</td>\n      <td>0</td>\n      <td>10</td>\n      <td>True</td>\n    </tr>\n    <tr>\n      <th>2018-01-09</th>\n      <td>Man City</td>\n      <td>Newcastle</td>\n      <td>2</td>\n      <td>1</td>\n      <td>H</td>\n      <td>24</td>\n      <td>3</td>\n      <td>8</td>\n      <td>2</td>\n      <td>5</td>\n      <td>13</td>\n      <td>4</td>\n      <td>0</td>\n      <td>0</td>\n      <td>0</td>\n      <td>0</td>\n      <td>0</td>\n      <td>10</td>\n      <td>True</td>\n    </tr>\n    <tr>\n      <th>2018-09-15</th>\n      <td>Man City</td>\n      <td>Fulham</td>\n      <td>3</td>\n      <td>0</td>\n      <td>H</td>\n      <td>28</td>\n      <td>9</td>\n      <td>9</td>\n      <td>3</td>\n      <td>7</td>\n      <td>7</td>\n      <td>10</td>\n      <td>4</td>\n      <td>0</td>\n      <td>0</td>\n      <td>0</td>\n      <td>0</td>\n      <td>10</td>\n      <td>True</td>\n    </tr>\n    <tr>\n      <th>2018-09-29</th>\n      <td>Man City</td>\n      <td>Brighton</td>\n      <td>2</td>\n      <td>0</td>\n      <td>H</td>\n      <td>28</td>\n      <td>4</td>\n      <td>8</td>\n      <td>1</td>\n      <td>4</td>\n      <td>10</td>\n      <td>10</td>\n      <td>3</td>\n      <td>0</td>\n      <td>3</td>\n      <td>0</td>\n      <td>0</td>\n      <td>10</td>\n      <td>True</td>\n    </tr>\n    <tr>\n      <th>2018-10-20</th>\n      <td>Man City</td>\n      <td>Burnley</td>\n      <td>5</td>\n      <td>0</td>\n      <td>H</td>\n      <td>24</td>\n      <td>5</td>\n      <td>10</td>\n      <td>0</td>\n      <td>11</td>\n      <td>5</td>\n      <td>10</td>\n      <td>1</td>\n      <td>2</td>\n      <td>2</td>\n      <td>0</td>\n      <td>0</td>\n      <td>10</td>\n      <td>True</td>\n    </tr>\n    <tr>\n      <th>...</th>\n      <td>...</td>\n      <td>...</td>\n      <td>...</td>\n      <td>...</td>\n      <td>...</td>\n      <td>...</td>\n      <td>...</td>\n      <td>...</td>\n      <td>...</td>\n      <td>...</td>\n      <td>...</td>\n      <td>...</td>\n      <td>...</td>\n      <td>...</td>\n      <td>...</td>\n      <td>...</td>\n      <td>...</td>\n      <td>...</td>\n      <td>...</td>\n    </tr>\n    <tr>\n      <th>2010-03-14</th>\n      <td>Sunderland</td>\n      <td>Man City</td>\n      <td>1</td>\n      <td>1</td>\n      <td>D</td>\n      <td>12</td>\n      <td>13</td>\n      <td>7</td>\n      <td>9</td>\n      <td>12</td>\n      <td>10</td>\n      <td>3</td>\n      <td>7</td>\n      <td>2</td>\n      <td>4</td>\n      <td>0</td>\n      <td>0</td>\n      <td>1</td>\n      <td>False</td>\n    </tr>\n    <tr>\n      <th>2010-03-21</th>\n      <td>Fulham</td>\n      <td>Man City</td>\n      <td>1</td>\n      <td>2</td>\n      <td>A</td>\n      <td>10</td>\n      <td>14</td>\n      <td>4</td>\n      <td>9</td>\n      <td>8</td>\n      <td>9</td>\n      <td>4</td>\n      <td>2</td>\n      <td>0</td>\n      <td>0</td>\n      <td>0</td>\n      <td>0</td>\n      <td>1</td>\n      <td>False</td>\n    </tr>\n    <tr>\n      <th>2010-04-03</th>\n      <td>Burnley</td>\n      <td>Man City</td>\n      <td>1</td>\n      <td>6</td>\n      <td>A</td>\n      <td>14</td>\n      <td>20</td>\n      <td>7</td>\n      <td>14</td>\n      <td>5</td>\n      <td>8</td>\n      <td>6</td>\n      <td>7</td>\n      <td>0</td>\n      <td>0</td>\n      <td>0</td>\n      <td>0</td>\n      <td>1</td>\n      <td>False</td>\n    </tr>\n    <tr>\n      <th>2010-04-24</th>\n      <td>Arsenal</td>\n      <td>Man City</td>\n      <td>0</td>\n      <td>0</td>\n      <td>D</td>\n      <td>9</td>\n      <td>3</td>\n      <td>4</td>\n      <td>2</td>\n      <td>13</td>\n      <td>14</td>\n      <td>5</td>\n      <td>1</td>\n      <td>4</td>\n      <td>2</td>\n      <td>0</td>\n      <td>0</td>\n      <td>1</td>\n      <td>False</td>\n    </tr>\n    <tr>\n      <th>2010-05-09</th>\n      <td>West Ham</td>\n      <td>Man City</td>\n      <td>1</td>\n      <td>1</td>\n      <td>D</td>\n      <td>12</td>\n      <td>17</td>\n      <td>8</td>\n      <td>6</td>\n      <td>12</td>\n      <td>7</td>\n      <td>4</td>\n      <td>3</td>\n      <td>2</td>\n      <td>0</td>\n      <td>0</td>\n      <td>0</td>\n      <td>1</td>\n      <td>False</td>\n    </tr>\n  </tbody>\n</table>\n<p>380 rows × 19 columns</p>\n</div>"
     },
     "metadata": {},
     "execution_count": 52
    }
   ],
   "source": [
    "record_test"
   ]
  },
  {
   "cell_type": "code",
   "execution_count": 76,
   "metadata": {},
   "outputs": [],
   "source": [
    "record_test\n",
    "home_away_handle = record_test[['Home_Field_Advantage', 'HomeTeam', 'AwayTeam', 'Final_Goals_H', 'Final_Goals_A']][record_test.Season == 10]\n",
    "home_away_handle = home_away_handle.sort_index()[::-1]"
   ]
  },
  {
   "cell_type": "code",
   "execution_count": 100,
   "metadata": {},
   "outputs": [
    {
     "output_type": "execute_result",
     "data": {
      "text/plain": "            Home_Field_Advantage  HomeTeam   AwayTeam  Final_Goals_H  \\\nDate                                                                   \n2019-12-05                 False  Brighton   Man City              1   \n2019-10-02                  True  Man City    Chelsea              6   \n2019-09-03                  True  Man City    Watford              3   \n2019-06-05                  True  Man City  Leicester              1   \n2019-06-02                 False   Everton   Man City              0   \n\n            Final_Goals_A  team_goals  opponent_goals   opponent  \nDate                                                              \n2019-12-05              4           4               1   Brighton  \n2019-10-02              0           6               0    Chelsea  \n2019-09-03              1           3               1    Watford  \n2019-06-05              0           1               0  Leicester  \n2019-06-02              2           2               0    Everton  ",
      "text/html": "<div>\n<style scoped>\n    .dataframe tbody tr th:only-of-type {\n        vertical-align: middle;\n    }\n\n    .dataframe tbody tr th {\n        vertical-align: top;\n    }\n\n    .dataframe thead th {\n        text-align: right;\n    }\n</style>\n<table border=\"1\" class=\"dataframe\">\n  <thead>\n    <tr style=\"text-align: right;\">\n      <th></th>\n      <th>Home_Field_Advantage</th>\n      <th>HomeTeam</th>\n      <th>AwayTeam</th>\n      <th>Final_Goals_H</th>\n      <th>Final_Goals_A</th>\n      <th>team_goals</th>\n      <th>opponent_goals</th>\n      <th>opponent</th>\n    </tr>\n    <tr>\n      <th>Date</th>\n      <th></th>\n      <th></th>\n      <th></th>\n      <th></th>\n      <th></th>\n      <th></th>\n      <th></th>\n      <th></th>\n    </tr>\n  </thead>\n  <tbody>\n    <tr>\n      <th>2019-12-05</th>\n      <td>False</td>\n      <td>Brighton</td>\n      <td>Man City</td>\n      <td>1</td>\n      <td>4</td>\n      <td>4</td>\n      <td>1</td>\n      <td>Brighton</td>\n    </tr>\n    <tr>\n      <th>2019-10-02</th>\n      <td>True</td>\n      <td>Man City</td>\n      <td>Chelsea</td>\n      <td>6</td>\n      <td>0</td>\n      <td>6</td>\n      <td>0</td>\n      <td>Chelsea</td>\n    </tr>\n    <tr>\n      <th>2019-09-03</th>\n      <td>True</td>\n      <td>Man City</td>\n      <td>Watford</td>\n      <td>3</td>\n      <td>1</td>\n      <td>3</td>\n      <td>1</td>\n      <td>Watford</td>\n    </tr>\n    <tr>\n      <th>2019-06-05</th>\n      <td>True</td>\n      <td>Man City</td>\n      <td>Leicester</td>\n      <td>1</td>\n      <td>0</td>\n      <td>1</td>\n      <td>0</td>\n      <td>Leicester</td>\n    </tr>\n    <tr>\n      <th>2019-06-02</th>\n      <td>False</td>\n      <td>Everton</td>\n      <td>Man City</td>\n      <td>0</td>\n      <td>2</td>\n      <td>2</td>\n      <td>0</td>\n      <td>Everton</td>\n    </tr>\n  </tbody>\n</table>\n</div>"
     },
     "metadata": {},
     "execution_count": 100
    }
   ],
   "source": [
    "home_away_handle.head()"
   ]
  },
  {
   "cell_type": "code",
   "execution_count": 78,
   "metadata": {},
   "outputs": [],
   "source": [
    "home_away_handle['team_goals'] = np.where(home_away_handle.Home_Field_Advantage, home_away_handle.Final_Goals_H, home_away_handle.Final_Goals_A)"
   ]
  },
  {
   "cell_type": "code",
   "execution_count": 82,
   "metadata": {},
   "outputs": [],
   "source": [
    "home_away_handle['opponent_goals'] = np.where(home_away_handle.Home_Field_Advantage, home_away_handle.Final_Goals_A, home_away_handle.Final_Goals_H)"
   ]
  },
  {
   "cell_type": "code",
   "execution_count": 84,
   "metadata": {},
   "outputs": [],
   "source": [
    "home_away_handle['opponent'] = np.where(home_away_handle.Home_Field_Advantage, home_away_handle.AwayTeam, home_away_handle.HomeTeam)"
   ]
  },
  {
   "cell_type": "code",
   "execution_count": 95,
   "metadata": {},
   "outputs": [
    {
     "output_type": "execute_result",
     "data": {
      "text/plain": "array(['Brighton', 'Chelsea', 'Watford', 'Leicester', 'Everton',\n       'Burnley', 'Man United', 'Tottenham', 'Crystal Palace', 'Fulham',\n       'Cardiff', 'Arsenal', 'Liverpool', 'West Ham', 'Bournemouth',\n       'Newcastle', 'Huddersfield', 'Wolves', 'Southampton'], dtype=object)"
     },
     "metadata": {},
     "execution_count": 95
    }
   ],
   "source": []
  },
  {
   "cell_type": "code",
   "execution_count": null,
   "metadata": {},
   "outputs": [],
   "source": []
  },
  {
   "cell_type": "code",
   "execution_count": null,
   "metadata": {},
   "outputs": [],
   "source": [
    "home_away_handle['opponent'] = np.where(home_away_handle.Home_Field_Advantage, )"
   ]
  },
  {
   "cell_type": "code",
   "execution_count": null,
   "metadata": {},
   "outputs": [],
   "source": []
  },
  {
   "cell_type": "code",
   "execution_count": 8,
   "metadata": {
    "tags": []
   },
   "outputs": [
    {
     "output_type": "stream",
     "name": "stdout",
     "text": "\nMan City W/L/D Distribution Season '09-'17\n\n    Team Win Percentage: 60.20%\n    Team Loss Percentage: 18.42%\n    Team Draw Percentage: 21.38%\n"
    }
   ],
   "source": [
    "home, away = script.team_record_df_build(df, team)"
   ]
  },
  {
   "cell_type": "code",
   "execution_count": 9,
   "metadata": {
    "tags": []
   },
   "outputs": [
    {
     "output_type": "stream",
     "name": "stdout",
     "text": "\nRestricting to 17 Features\n<class 'pandas.core.frame.DataFrame'>\nDatetimeIndex: 380 entries, 2019-12-05 to 2009-08-15\nData columns (total 17 columns):\n #   Column                   Non-Null Count  Dtype  \n---  ------                   --------------  -----  \n 0   home_field_advantage     380 non-null    bool   \n 1   home_goals               380 non-null    int64  \n 2   away_goals               380 non-null    int64  \n 3   home_on_target_accuracy  380 non-null    float64\n 4   away_on_target_accuracy  380 non-null    float64\n 5   home_fouls               380 non-null    int64  \n 6   away_fouls               380 non-null    int64  \n 7   home_reds                380 non-null    int64  \n 8   away_reds                380 non-null    int64  \n 9   home_yellows             380 non-null    int64  \n 10  away_yellows             380 non-null    int64  \n 11  home_win                 380 non-null    float64\n 12  away_win                 380 non-null    float64\n 13  draw                     380 non-null    float64\n 14  home_corners             380 non-null    int64  \n 15  away_corners             380 non-null    int64  \n 16  season_num               380 non-null    int64  \ndtypes: bool(1), float64(5), int64(11)\nmemory usage: 50.8 KB\n"
    }
   ],
   "source": [
    "full_record = script.dummyize_match_results(home, away)"
   ]
  },
  {
   "cell_type": "code",
   "execution_count": 10,
   "metadata": {},
   "outputs": [
    {
     "output_type": "execute_result",
     "data": {
      "text/plain": "            home_field_advantage  home_goals  away_goals  \\\nDate                                                       \n2019-12-05                 False           0           4   \n2019-10-02                  True           6           0   \n2019-09-03                  True           3           0   \n2019-06-05                  True           1           0   \n2019-06-02                 False           0           2   \n\n            home_on_target_accuracy  away_on_target_accuracy  home_fouls  \\\nDate                                                                       \n2019-12-05                 0.000000                 0.450000           0   \n2019-10-02                 0.600000                 0.000000           9   \n2019-09-03                 0.473684                 0.000000          11   \n2019-06-05                 0.263158                 0.000000          12   \n2019-06-02                 0.000000                 0.266667           0   \n\n            away_fouls  home_reds  away_reds  home_yellows  away_yellows  \\\nDate                                                                       \n2019-12-05           8          0          0             0             0   \n2019-10-02           0          0          0             1             0   \n2019-09-03           0          0          0             1             0   \n2019-06-05           0          0          0             3             0   \n2019-06-02           6          0          0             0             1   \n\n            home_win  away_win  draw  home_corners  away_corners  season_num  \nDate                                                                          \n2019-12-05       0.0       1.0   0.0             0             6          10  \n2019-10-02       1.0       0.0   0.0             2             0          10  \n2019-09-03       1.0       0.0   0.0             9             0          10  \n2019-06-05       1.0       0.0   0.0            11             0          10  \n2019-06-02       0.0       1.0   0.0             0             6          10  ",
      "text/html": "<div>\n<style scoped>\n    .dataframe tbody tr th:only-of-type {\n        vertical-align: middle;\n    }\n\n    .dataframe tbody tr th {\n        vertical-align: top;\n    }\n\n    .dataframe thead th {\n        text-align: right;\n    }\n</style>\n<table border=\"1\" class=\"dataframe\">\n  <thead>\n    <tr style=\"text-align: right;\">\n      <th></th>\n      <th>home_field_advantage</th>\n      <th>home_goals</th>\n      <th>away_goals</th>\n      <th>home_on_target_accuracy</th>\n      <th>away_on_target_accuracy</th>\n      <th>home_fouls</th>\n      <th>away_fouls</th>\n      <th>home_reds</th>\n      <th>away_reds</th>\n      <th>home_yellows</th>\n      <th>away_yellows</th>\n      <th>home_win</th>\n      <th>away_win</th>\n      <th>draw</th>\n      <th>home_corners</th>\n      <th>away_corners</th>\n      <th>season_num</th>\n    </tr>\n    <tr>\n      <th>Date</th>\n      <th></th>\n      <th></th>\n      <th></th>\n      <th></th>\n      <th></th>\n      <th></th>\n      <th></th>\n      <th></th>\n      <th></th>\n      <th></th>\n      <th></th>\n      <th></th>\n      <th></th>\n      <th></th>\n      <th></th>\n      <th></th>\n      <th></th>\n    </tr>\n  </thead>\n  <tbody>\n    <tr>\n      <th>2019-12-05</th>\n      <td>False</td>\n      <td>0</td>\n      <td>4</td>\n      <td>0.000000</td>\n      <td>0.450000</td>\n      <td>0</td>\n      <td>8</td>\n      <td>0</td>\n      <td>0</td>\n      <td>0</td>\n      <td>0</td>\n      <td>0.0</td>\n      <td>1.0</td>\n      <td>0.0</td>\n      <td>0</td>\n      <td>6</td>\n      <td>10</td>\n    </tr>\n    <tr>\n      <th>2019-10-02</th>\n      <td>True</td>\n      <td>6</td>\n      <td>0</td>\n      <td>0.600000</td>\n      <td>0.000000</td>\n      <td>9</td>\n      <td>0</td>\n      <td>0</td>\n      <td>0</td>\n      <td>1</td>\n      <td>0</td>\n      <td>1.0</td>\n      <td>0.0</td>\n      <td>0.0</td>\n      <td>2</td>\n      <td>0</td>\n      <td>10</td>\n    </tr>\n    <tr>\n      <th>2019-09-03</th>\n      <td>True</td>\n      <td>3</td>\n      <td>0</td>\n      <td>0.473684</td>\n      <td>0.000000</td>\n      <td>11</td>\n      <td>0</td>\n      <td>0</td>\n      <td>0</td>\n      <td>1</td>\n      <td>0</td>\n      <td>1.0</td>\n      <td>0.0</td>\n      <td>0.0</td>\n      <td>9</td>\n      <td>0</td>\n      <td>10</td>\n    </tr>\n    <tr>\n      <th>2019-06-05</th>\n      <td>True</td>\n      <td>1</td>\n      <td>0</td>\n      <td>0.263158</td>\n      <td>0.000000</td>\n      <td>12</td>\n      <td>0</td>\n      <td>0</td>\n      <td>0</td>\n      <td>3</td>\n      <td>0</td>\n      <td>1.0</td>\n      <td>0.0</td>\n      <td>0.0</td>\n      <td>11</td>\n      <td>0</td>\n      <td>10</td>\n    </tr>\n    <tr>\n      <th>2019-06-02</th>\n      <td>False</td>\n      <td>0</td>\n      <td>2</td>\n      <td>0.000000</td>\n      <td>0.266667</td>\n      <td>0</td>\n      <td>6</td>\n      <td>0</td>\n      <td>0</td>\n      <td>0</td>\n      <td>1</td>\n      <td>0.0</td>\n      <td>1.0</td>\n      <td>0.0</td>\n      <td>0</td>\n      <td>6</td>\n      <td>10</td>\n    </tr>\n  </tbody>\n</table>\n</div>"
     },
     "metadata": {},
     "execution_count": 10
    }
   ],
   "source": [
    "full_record.head()"
   ]
  },
  {
   "cell_type": "code",
   "execution_count": 12,
   "metadata": {},
   "outputs": [],
   "source": [
    "train, test = full_record[full_record.season_num <=8], full_record[full_record.season_num > 8]"
   ]
  },
  {
   "cell_type": "code",
   "execution_count": 26,
   "metadata": {},
   "outputs": [
    {
     "output_type": "execute_result",
     "data": {
      "text/plain": "0    75\n1     1\nName: home_reds, dtype: int64"
     },
     "metadata": {},
     "execution_count": 26
    }
   ],
   "source": [
    "test.home_reds.value_counts()"
   ]
  },
  {
   "cell_type": "code",
   "execution_count": 31,
   "metadata": {
    "tags": []
   },
   "outputs": [
    {
     "output_type": "stream",
     "name": "stdout",
     "text": "\nTotal Reds at home (train):\n    Zero: 295\n    At least one: 8\n    More than one: 1\nDistribution:\n    Zero: 97.04%\n    At least one: 2.63%\n    More than one: 0.33%\n\n"
    }
   ],
   "source": [
    "_0, _1, _2 = train.home_reds.value_counts()\n",
    "total_games = len(train)\n",
    "print('''\n",
    "Total Reds at home (train):\n",
    "    Zero: {0}\n",
    "    At least one: {1}\n",
    "    More than one: {2}\n",
    "Distribution:\n",
    "    Zero: {3:0.2f}%\n",
    "    At least one: {4:0.2f}%\n",
    "    More than one: {5:0.2f}%\n",
    "'''.format(_0, _1, _2, (_0/total_games)*100, (_1/total_games)*100, (_2/total_games)*100))"
   ]
  },
  {
   "cell_type": "code",
   "execution_count": 23,
   "metadata": {},
   "outputs": [
    {
     "output_type": "execute_result",
     "data": {
      "text/plain": "(295, 8, 1)"
     },
     "metadata": {},
     "execution_count": 23
    }
   ],
   "source": [
    "_0, _1, _2"
   ]
  },
  {
   "cell_type": "code",
   "execution_count": null,
   "metadata": {},
   "outputs": [],
   "source": []
  },
  {
   "cell_type": "code",
   "execution_count": 15,
   "metadata": {},
   "outputs": [],
   "source": [
    "rolling_home_reds = train.home_reds[train.home_field_advantage].rolling(10).sum()"
   ]
  },
  {
   "cell_type": "code",
   "execution_count": 16,
   "metadata": {},
   "outputs": [
    {
     "output_type": "execute_result",
     "data": {
      "text/plain": "Date\n2017-08-04    NaN\n2017-08-03    NaN\n2017-06-05    NaN\n2017-05-16    NaN\n2017-05-13    NaN\n             ... \n2009-11-07    0.0\n2009-10-25    0.0\n2009-09-28    0.0\n2009-09-12    0.0\n2009-08-22    0.0\nName: home_reds, Length: 152, dtype: float64"
     },
     "metadata": {},
     "execution_count": 16
    }
   ],
   "source": [
    "rolling_home_reds"
   ]
  },
  {
   "cell_type": "code",
   "execution_count": 17,
   "metadata": {},
   "outputs": [
    {
     "output_type": "error",
     "ename": "NameError",
     "evalue": "name 'pd' is not defined",
     "traceback": [
      "\u001b[0;31m---------------------------------------------------------------------------\u001b[0m",
      "\u001b[0;31mNameError\u001b[0m                                 Traceback (most recent call last)",
      "\u001b[0;32m<ipython-input-17-0693e5b3c7b8>\u001b[0m in \u001b[0;36m<module>\u001b[0;34m\u001b[0m\n\u001b[0;32m----> 1\u001b[0;31m \u001b[0mpd\u001b[0m\u001b[0;34m.\u001b[0m\u001b[0mSearies\u001b[0m\u001b[0;34m\u001b[0m\u001b[0;34m\u001b[0m\u001b[0m\n\u001b[0m",
      "\u001b[0;31mNameError\u001b[0m: name 'pd' is not defined"
     ]
    }
   ],
   "source": [
    "fig, ax = subplots()\n",
    "\n",
    "ax.plot(rolling_home_reds, rolling_home_reds.index)"
   ]
  },
  {
   "cell_type": "code",
   "execution_count": null,
   "metadata": {},
   "outputs": [],
   "source": []
  }
 ]
}