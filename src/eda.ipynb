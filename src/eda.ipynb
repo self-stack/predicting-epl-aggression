{
 "metadata": {
  "language_info": {
   "codemirror_mode": {
    "name": "ipython",
    "version": 3
   },
   "file_extension": ".py",
   "mimetype": "text/x-python",
   "name": "python",
   "nbconvert_exporter": "python",
   "pygments_lexer": "ipython3",
   "version": "3.7.6-final"
  },
  "orig_nbformat": 2,
  "kernelspec": {
   "name": "python3",
   "display_name": "Python 3"
  }
 },
 "nbformat": 4,
 "nbformat_minor": 2,
 "cells": [
  {
   "cell_type": "code",
   "execution_count": 19,
   "metadata": {},
   "outputs": [],
   "source": [
    "import pandas as pd\n",
    "import numpy as np\n",
    "import matplotlib.pyplot as plt\n",
    "import home_v_away as script"
   ]
  },
  {
   "cell_type": "code",
   "execution_count": 4,
   "metadata": {
    "tags": []
   },
   "outputs": [
    {
     "output_type": "stream",
     "name": "stdout",
     "text": "\n\nProvided 23 Features\n"
    }
   ],
   "source": [
    "df, team_options = script.csv_to_df()"
   ]
  },
  {
   "cell_type": "code",
   "execution_count": 32,
   "metadata": {},
   "outputs": [
    {
     "output_type": "execute_result",
     "data": {
      "text/plain": "                HomeTeam        AwayTeam  Final_Goals_H  Final_Goals_A  \\\nDate                                                                     \n2018-10-08    Man United       Leicester              2              1   \n2018-11-08   Bournemouth         Cardiff              2              0   \n2018-11-08        Fulham  Crystal Palace              0              2   \n2018-11-08  Huddersfield         Chelsea              0              3   \n2018-11-08     Newcastle       Tottenham              1              2   \n\n           Final_Result  Shots_H  Shots_A  Target_Shots_H  Target_Shots_A  \\\nDate                                                                        \n2018-10-08            H        8       13               6               4   \n2018-11-08            H       12       10               4               1   \n2018-11-08            A       15       10               6               9   \n2018-11-08            A        6       13               1               4   \n2018-11-08            A       15       15               2               5   \n\n            Fouls_H  Fouls_A  Corners_H  Corners_A  Yellow_H  Yellow_A  Red_H  \\\nDate                                                                            \n2018-10-08       11        8          2          5         2         1      0   \n2018-11-08       11        9          7          4         1         1      0   \n2018-11-08        9       11          5          5         1         2      0   \n2018-11-08        9        8          2          5         2         1      0   \n2018-11-08       11       12          3          5         2         2      0   \n\n            Red_A  Season  \nDate                       \n2018-10-08      0      10  \n2018-11-08      0      10  \n2018-11-08      0      10  \n2018-11-08      0      10  \n2018-11-08      0      10  ",
      "text/html": "<div>\n<style scoped>\n    .dataframe tbody tr th:only-of-type {\n        vertical-align: middle;\n    }\n\n    .dataframe tbody tr th {\n        vertical-align: top;\n    }\n\n    .dataframe thead th {\n        text-align: right;\n    }\n</style>\n<table border=\"1\" class=\"dataframe\">\n  <thead>\n    <tr style=\"text-align: right;\">\n      <th></th>\n      <th>HomeTeam</th>\n      <th>AwayTeam</th>\n      <th>Final_Goals_H</th>\n      <th>Final_Goals_A</th>\n      <th>Final_Result</th>\n      <th>Shots_H</th>\n      <th>Shots_A</th>\n      <th>Target_Shots_H</th>\n      <th>Target_Shots_A</th>\n      <th>Fouls_H</th>\n      <th>Fouls_A</th>\n      <th>Corners_H</th>\n      <th>Corners_A</th>\n      <th>Yellow_H</th>\n      <th>Yellow_A</th>\n      <th>Red_H</th>\n      <th>Red_A</th>\n      <th>Season</th>\n    </tr>\n    <tr>\n      <th>Date</th>\n      <th></th>\n      <th></th>\n      <th></th>\n      <th></th>\n      <th></th>\n      <th></th>\n      <th></th>\n      <th></th>\n      <th></th>\n      <th></th>\n      <th></th>\n      <th></th>\n      <th></th>\n      <th></th>\n      <th></th>\n      <th></th>\n      <th></th>\n      <th></th>\n    </tr>\n  </thead>\n  <tbody>\n    <tr>\n      <th>2018-10-08</th>\n      <td>Man United</td>\n      <td>Leicester</td>\n      <td>2</td>\n      <td>1</td>\n      <td>H</td>\n      <td>8</td>\n      <td>13</td>\n      <td>6</td>\n      <td>4</td>\n      <td>11</td>\n      <td>8</td>\n      <td>2</td>\n      <td>5</td>\n      <td>2</td>\n      <td>1</td>\n      <td>0</td>\n      <td>0</td>\n      <td>10</td>\n    </tr>\n    <tr>\n      <th>2018-11-08</th>\n      <td>Bournemouth</td>\n      <td>Cardiff</td>\n      <td>2</td>\n      <td>0</td>\n      <td>H</td>\n      <td>12</td>\n      <td>10</td>\n      <td>4</td>\n      <td>1</td>\n      <td>11</td>\n      <td>9</td>\n      <td>7</td>\n      <td>4</td>\n      <td>1</td>\n      <td>1</td>\n      <td>0</td>\n      <td>0</td>\n      <td>10</td>\n    </tr>\n    <tr>\n      <th>2018-11-08</th>\n      <td>Fulham</td>\n      <td>Crystal Palace</td>\n      <td>0</td>\n      <td>2</td>\n      <td>A</td>\n      <td>15</td>\n      <td>10</td>\n      <td>6</td>\n      <td>9</td>\n      <td>9</td>\n      <td>11</td>\n      <td>5</td>\n      <td>5</td>\n      <td>1</td>\n      <td>2</td>\n      <td>0</td>\n      <td>0</td>\n      <td>10</td>\n    </tr>\n    <tr>\n      <th>2018-11-08</th>\n      <td>Huddersfield</td>\n      <td>Chelsea</td>\n      <td>0</td>\n      <td>3</td>\n      <td>A</td>\n      <td>6</td>\n      <td>13</td>\n      <td>1</td>\n      <td>4</td>\n      <td>9</td>\n      <td>8</td>\n      <td>2</td>\n      <td>5</td>\n      <td>2</td>\n      <td>1</td>\n      <td>0</td>\n      <td>0</td>\n      <td>10</td>\n    </tr>\n    <tr>\n      <th>2018-11-08</th>\n      <td>Newcastle</td>\n      <td>Tottenham</td>\n      <td>1</td>\n      <td>2</td>\n      <td>A</td>\n      <td>15</td>\n      <td>15</td>\n      <td>2</td>\n      <td>5</td>\n      <td>11</td>\n      <td>12</td>\n      <td>3</td>\n      <td>5</td>\n      <td>2</td>\n      <td>2</td>\n      <td>0</td>\n      <td>0</td>\n      <td>10</td>\n    </tr>\n  </tbody>\n</table>\n</div>"
     },
     "metadata": {},
     "execution_count": 32
    }
   ],
   "source": [
    "df.head()"
   ]
  },
  {
   "cell_type": "code",
   "execution_count": null,
   "metadata": {},
   "outputs": [],
   "source": [
    "df.head"
   ]
  },
  {
   "cell_type": "code",
   "execution_count": 5,
   "metadata": {},
   "outputs": [
    {
     "output_type": "execute_result",
     "data": {
      "text/plain": "array(['Man United', 'Bournemouth', 'Fulham', 'Huddersfield', 'Newcastle',\n       'Watford', 'Wolves', 'Arsenal', 'Liverpool', 'Southampton',\n       'Cardiff', 'Chelsea', 'Everton', 'Leicester', 'Tottenham',\n       'West Ham', 'Brighton', 'Burnley', 'Man City', 'Crystal Palace',\n       'West Brom', 'Stoke', 'Swansea', 'Hull', 'Middlesbrough',\n       'Sunderland', 'Norwich', 'Aston Villa', 'QPR', 'Reading', 'Wigan',\n       'Blackburn', 'Bolton', 'Birmingham', 'Blackpool', 'Portsmouth'],\n      dtype=object)"
     },
     "metadata": {},
     "execution_count": 5
    }
   ],
   "source": [
    "team_options"
   ]
  },
  {
   "cell_type": "code",
   "execution_count": 6,
   "metadata": {},
   "outputs": [],
   "source": [
    "team = 'Man City'"
   ]
  },
  {
   "cell_type": "code",
   "execution_count": 8,
   "metadata": {
    "tags": []
   },
   "outputs": [
    {
     "output_type": "stream",
     "name": "stdout",
     "text": "\nMan City W/L/D Distribution Season '09-'17\n\n    Team Win Percentage: 60.20%\n    Team Loss Percentage: 18.42%\n    Team Draw Percentage: 21.38%\n"
    }
   ],
   "source": [
    "home, away = script.team_record_df_build(df, team)"
   ]
  },
  {
   "cell_type": "code",
   "execution_count": 9,
   "metadata": {
    "tags": []
   },
   "outputs": [
    {
     "output_type": "stream",
     "name": "stdout",
     "text": "\nRestricting to 17 Features\n<class 'pandas.core.frame.DataFrame'>\nDatetimeIndex: 380 entries, 2019-12-05 to 2009-08-15\nData columns (total 17 columns):\n #   Column                   Non-Null Count  Dtype  \n---  ------                   --------------  -----  \n 0   home_field_advantage     380 non-null    bool   \n 1   home_goals               380 non-null    int64  \n 2   away_goals               380 non-null    int64  \n 3   home_on_target_accuracy  380 non-null    float64\n 4   away_on_target_accuracy  380 non-null    float64\n 5   home_fouls               380 non-null    int64  \n 6   away_fouls               380 non-null    int64  \n 7   home_reds                380 non-null    int64  \n 8   away_reds                380 non-null    int64  \n 9   home_yellows             380 non-null    int64  \n 10  away_yellows             380 non-null    int64  \n 11  home_win                 380 non-null    float64\n 12  away_win                 380 non-null    float64\n 13  draw                     380 non-null    float64\n 14  home_corners             380 non-null    int64  \n 15  away_corners             380 non-null    int64  \n 16  season_num               380 non-null    int64  \ndtypes: bool(1), float64(5), int64(11)\nmemory usage: 50.8 KB\n"
    }
   ],
   "source": [
    "full_record = script.dummyize_match_results(home, away)"
   ]
  },
  {
   "cell_type": "code",
   "execution_count": 10,
   "metadata": {},
   "outputs": [
    {
     "output_type": "execute_result",
     "data": {
      "text/plain": "            home_field_advantage  home_goals  away_goals  \\\nDate                                                       \n2019-12-05                 False           0           4   \n2019-10-02                  True           6           0   \n2019-09-03                  True           3           0   \n2019-06-05                  True           1           0   \n2019-06-02                 False           0           2   \n\n            home_on_target_accuracy  away_on_target_accuracy  home_fouls  \\\nDate                                                                       \n2019-12-05                 0.000000                 0.450000           0   \n2019-10-02                 0.600000                 0.000000           9   \n2019-09-03                 0.473684                 0.000000          11   \n2019-06-05                 0.263158                 0.000000          12   \n2019-06-02                 0.000000                 0.266667           0   \n\n            away_fouls  home_reds  away_reds  home_yellows  away_yellows  \\\nDate                                                                       \n2019-12-05           8          0          0             0             0   \n2019-10-02           0          0          0             1             0   \n2019-09-03           0          0          0             1             0   \n2019-06-05           0          0          0             3             0   \n2019-06-02           6          0          0             0             1   \n\n            home_win  away_win  draw  home_corners  away_corners  season_num  \nDate                                                                          \n2019-12-05       0.0       1.0   0.0             0             6          10  \n2019-10-02       1.0       0.0   0.0             2             0          10  \n2019-09-03       1.0       0.0   0.0             9             0          10  \n2019-06-05       1.0       0.0   0.0            11             0          10  \n2019-06-02       0.0       1.0   0.0             0             6          10  ",
      "text/html": "<div>\n<style scoped>\n    .dataframe tbody tr th:only-of-type {\n        vertical-align: middle;\n    }\n\n    .dataframe tbody tr th {\n        vertical-align: top;\n    }\n\n    .dataframe thead th {\n        text-align: right;\n    }\n</style>\n<table border=\"1\" class=\"dataframe\">\n  <thead>\n    <tr style=\"text-align: right;\">\n      <th></th>\n      <th>home_field_advantage</th>\n      <th>home_goals</th>\n      <th>away_goals</th>\n      <th>home_on_target_accuracy</th>\n      <th>away_on_target_accuracy</th>\n      <th>home_fouls</th>\n      <th>away_fouls</th>\n      <th>home_reds</th>\n      <th>away_reds</th>\n      <th>home_yellows</th>\n      <th>away_yellows</th>\n      <th>home_win</th>\n      <th>away_win</th>\n      <th>draw</th>\n      <th>home_corners</th>\n      <th>away_corners</th>\n      <th>season_num</th>\n    </tr>\n    <tr>\n      <th>Date</th>\n      <th></th>\n      <th></th>\n      <th></th>\n      <th></th>\n      <th></th>\n      <th></th>\n      <th></th>\n      <th></th>\n      <th></th>\n      <th></th>\n      <th></th>\n      <th></th>\n      <th></th>\n      <th></th>\n      <th></th>\n      <th></th>\n      <th></th>\n    </tr>\n  </thead>\n  <tbody>\n    <tr>\n      <th>2019-12-05</th>\n      <td>False</td>\n      <td>0</td>\n      <td>4</td>\n      <td>0.000000</td>\n      <td>0.450000</td>\n      <td>0</td>\n      <td>8</td>\n      <td>0</td>\n      <td>0</td>\n      <td>0</td>\n      <td>0</td>\n      <td>0.0</td>\n      <td>1.0</td>\n      <td>0.0</td>\n      <td>0</td>\n      <td>6</td>\n      <td>10</td>\n    </tr>\n    <tr>\n      <th>2019-10-02</th>\n      <td>True</td>\n      <td>6</td>\n      <td>0</td>\n      <td>0.600000</td>\n      <td>0.000000</td>\n      <td>9</td>\n      <td>0</td>\n      <td>0</td>\n      <td>0</td>\n      <td>1</td>\n      <td>0</td>\n      <td>1.0</td>\n      <td>0.0</td>\n      <td>0.0</td>\n      <td>2</td>\n      <td>0</td>\n      <td>10</td>\n    </tr>\n    <tr>\n      <th>2019-09-03</th>\n      <td>True</td>\n      <td>3</td>\n      <td>0</td>\n      <td>0.473684</td>\n      <td>0.000000</td>\n      <td>11</td>\n      <td>0</td>\n      <td>0</td>\n      <td>0</td>\n      <td>1</td>\n      <td>0</td>\n      <td>1.0</td>\n      <td>0.0</td>\n      <td>0.0</td>\n      <td>9</td>\n      <td>0</td>\n      <td>10</td>\n    </tr>\n    <tr>\n      <th>2019-06-05</th>\n      <td>True</td>\n      <td>1</td>\n      <td>0</td>\n      <td>0.263158</td>\n      <td>0.000000</td>\n      <td>12</td>\n      <td>0</td>\n      <td>0</td>\n      <td>0</td>\n      <td>3</td>\n      <td>0</td>\n      <td>1.0</td>\n      <td>0.0</td>\n      <td>0.0</td>\n      <td>11</td>\n      <td>0</td>\n      <td>10</td>\n    </tr>\n    <tr>\n      <th>2019-06-02</th>\n      <td>False</td>\n      <td>0</td>\n      <td>2</td>\n      <td>0.000000</td>\n      <td>0.266667</td>\n      <td>0</td>\n      <td>6</td>\n      <td>0</td>\n      <td>0</td>\n      <td>0</td>\n      <td>1</td>\n      <td>0.0</td>\n      <td>1.0</td>\n      <td>0.0</td>\n      <td>0</td>\n      <td>6</td>\n      <td>10</td>\n    </tr>\n  </tbody>\n</table>\n</div>"
     },
     "metadata": {},
     "execution_count": 10
    }
   ],
   "source": [
    "full_record.head()"
   ]
  },
  {
   "cell_type": "code",
   "execution_count": 12,
   "metadata": {},
   "outputs": [],
   "source": [
    "train, test = full_record[full_record.season_num <=8], full_record[full_record.season_num > 8]"
   ]
  },
  {
   "cell_type": "code",
   "execution_count": 26,
   "metadata": {},
   "outputs": [
    {
     "output_type": "execute_result",
     "data": {
      "text/plain": "0    75\n1     1\nName: home_reds, dtype: int64"
     },
     "metadata": {},
     "execution_count": 26
    }
   ],
   "source": [
    "test.home_reds.value_counts()"
   ]
  },
  {
   "cell_type": "code",
   "execution_count": 31,
   "metadata": {
    "tags": []
   },
   "outputs": [
    {
     "output_type": "stream",
     "name": "stdout",
     "text": "\nTotal Reds at home (train):\n    Zero: 295\n    At least one: 8\n    More than one: 1\nDistribution:\n    Zero: 97.04%\n    At least one: 2.63%\n    More than one: 0.33%\n\n"
    }
   ],
   "source": [
    "_0, _1, _2 = train.home_reds.value_counts()\n",
    "total_games = len(train)\n",
    "print('''\n",
    "Total Reds at home (train):\n",
    "    Zero: {0}\n",
    "    At least one: {1}\n",
    "    More than one: {2}\n",
    "Distribution:\n",
    "    Zero: {3:0.2f}%\n",
    "    At least one: {4:0.2f}%\n",
    "    More than one: {5:0.2f}%\n",
    "'''.format(_0, _1, _2, (_0/total_games)*100, (_1/total_games)*100, (_2/total_games)*100))"
   ]
  },
  {
   "cell_type": "code",
   "execution_count": 23,
   "metadata": {},
   "outputs": [
    {
     "output_type": "execute_result",
     "data": {
      "text/plain": "(295, 8, 1)"
     },
     "metadata": {},
     "execution_count": 23
    }
   ],
   "source": [
    "_0, _1, _2"
   ]
  },
  {
   "cell_type": "code",
   "execution_count": null,
   "metadata": {},
   "outputs": [],
   "source": []
  },
  {
   "cell_type": "code",
   "execution_count": 15,
   "metadata": {},
   "outputs": [],
   "source": [
    "rolling_home_reds = train.home_reds[train.home_field_advantage].rolling(10).sum()"
   ]
  },
  {
   "cell_type": "code",
   "execution_count": 16,
   "metadata": {},
   "outputs": [
    {
     "output_type": "execute_result",
     "data": {
      "text/plain": "Date\n2017-08-04    NaN\n2017-08-03    NaN\n2017-06-05    NaN\n2017-05-16    NaN\n2017-05-13    NaN\n             ... \n2009-11-07    0.0\n2009-10-25    0.0\n2009-09-28    0.0\n2009-09-12    0.0\n2009-08-22    0.0\nName: home_reds, Length: 152, dtype: float64"
     },
     "metadata": {},
     "execution_count": 16
    }
   ],
   "source": [
    "rolling_home_reds"
   ]
  },
  {
   "cell_type": "code",
   "execution_count": 17,
   "metadata": {},
   "outputs": [
    {
     "output_type": "error",
     "ename": "NameError",
     "evalue": "name 'pd' is not defined",
     "traceback": [
      "\u001b[0;31m---------------------------------------------------------------------------\u001b[0m",
      "\u001b[0;31mNameError\u001b[0m                                 Traceback (most recent call last)",
      "\u001b[0;32m<ipython-input-17-0693e5b3c7b8>\u001b[0m in \u001b[0;36m<module>\u001b[0;34m\u001b[0m\n\u001b[0;32m----> 1\u001b[0;31m \u001b[0mpd\u001b[0m\u001b[0;34m.\u001b[0m\u001b[0mSearies\u001b[0m\u001b[0;34m\u001b[0m\u001b[0;34m\u001b[0m\u001b[0m\n\u001b[0m",
      "\u001b[0;31mNameError\u001b[0m: name 'pd' is not defined"
     ]
    }
   ],
   "source": [
    "fig, ax = subplots()\n",
    "\n",
    "ax.plot(rolling_home_reds, rolling_home_reds.index)"
   ]
  },
  {
   "cell_type": "code",
   "execution_count": null,
   "metadata": {},
   "outputs": [],
   "source": []
  }
 ]
}