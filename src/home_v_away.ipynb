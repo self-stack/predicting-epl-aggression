{
 "metadata": {
  "language_info": {
   "codemirror_mode": {
    "name": "ipython",
    "version": 3
   },
   "file_extension": ".py",
   "mimetype": "text/x-python",
   "name": "python",
   "nbconvert_exporter": "python",
   "pygments_lexer": "ipython3",
   "version": "3.7.6-final"
  },
  "orig_nbformat": 2,
  "kernelspec": {
   "name": "python3",
   "display_name": "Python 3"
  }
 },
 "nbformat": 4,
 "nbformat_minor": 2,
 "cells": [
  {
   "cell_type": "code",
   "execution_count": 1,
   "metadata": {
    "tags": []
   },
   "outputs": [
    {
     "output_type": "stream",
     "name": "stdout",
     "text": "/Users/zschulzb/OneDrive/_mydev/galvanize/capstones/cap2/project_init/src\n"
    }
   ],
   "source": [
    "import pandas as pd\n",
    "import numpy as np\n",
    "import matplotlib.pyplot as plt\n",
    "!pwd"
   ]
  },
  {
   "cell_type": "code",
   "execution_count": 2,
   "metadata": {},
   "outputs": [],
   "source": [
    "season_18_19 = pd.read_csv('../data/premier_league/season-1819_csv.csv')\n",
    "season_17_18 = pd.read_csv('../data/premier_league/season-1718_csv.csv')\n",
    "season_16_17 = pd.read_csv('../data/premier_league/season-1617_csv.csv')\n",
    "season_15_16 = pd.read_csv('../data/premier_league/season-1516_csv.csv')\n",
    "season_14_15 = pd.read_csv('../data/premier_league/season-1415_csv.csv')\n",
    "season_13_14 = pd.read_csv('../data/premier_league/season-1314_csv.csv')\n",
    "season_12_13 = pd.read_csv('../data/premier_league/season-1213_csv.csv')\n",
    "season_11_12 = pd.read_csv('../data/premier_league/season-1112_csv.csv')\n",
    "season_10_11 = pd.read_csv('../data/premier_league/season-1011_csv.csv')\n",
    "season_09_10 = pd.read_csv('../data/premier_league/season-0910_csv.csv')"
   ]
  },
  {
   "cell_type": "code",
   "execution_count": 3,
   "metadata": {
    "tags": []
   },
   "outputs": [],
   "source": [
    "seasons = [season_18_19, season_17_18, season_16_17, season_15_16, season_14_15, season_13_14, season_12_13, season_11_12, season_10_11, season_09_10]"
   ]
  },
  {
   "cell_type": "code",
   "execution_count": 4,
   "metadata": {},
   "outputs": [],
   "source": [
    "ten_season_df = pd.concat(seasons)"
   ]
  },
  {
   "cell_type": "code",
   "execution_count": 5,
   "metadata": {},
   "outputs": [],
   "source": [
    "stat_features = ['Date', 'HomeTeam', 'AwayTeam', 'FTHG', 'FTAG', 'FTR', 'HTHG', 'HTAG', 'HTR', 'Referee', 'HS', 'AS', 'HST', 'AST', 'HF', 'AF', 'HC', 'AC', 'HY', 'AY', 'HR', 'AR']\n",
    "\n",
    "described_features = ['HomeTeam', 'AwayTeam', 'Final_Goals_H', 'Final_Goals_A', 'Final_Result', 'Half_Goals_H', 'Half_Goals_A', 'Half_Result', 'Referee', 'Shots_H', 'Shots_A', 'Target_Shots_H', 'Target_Shots_A', 'Fouls_H', 'Fouls_A', 'Corners_H', 'Corners_A', 'Yellow_H', 'Yellow_A', 'Red_H', 'Red_A']"
   ]
  },
  {
   "cell_type": "code",
   "execution_count": 6,
   "metadata": {},
   "outputs": [],
   "source": [
    "game_stats = ten_season_df[stat_features]\n",
    "game_stats.Date = pd.to_datetime(game_stats.Date)\n",
    "game_stats.set_index(game_stats['Date'], inplace=True)\n",
    "game_stats.drop(['Date'], axis=1, inplace=True)\n",
    "game_stats.columns = described_features\n",
    "game_stats.drop(['Half_Goals_H','Half_Goals_A', 'Half_Result','Referee'], axis=1, inplace=True)"
   ]
  },
  {
   "cell_type": "code",
   "execution_count": 7,
   "metadata": {
    "tags": []
   },
   "outputs": [
    {
     "output_type": "stream",
     "name": "stdout",
     "text": "<class 'pandas.core.frame.DataFrame'>\nDatetimeIndex: 3800 entries, 2018-10-08 to 2010-05-09\nData columns (total 17 columns):\n #   Column          Non-Null Count  Dtype \n---  ------          --------------  ----- \n 0   HomeTeam        3800 non-null   object\n 1   AwayTeam        3800 non-null   object\n 2   Final_Goals_H   3800 non-null   int64 \n 3   Final_Goals_A   3800 non-null   int64 \n 4   Final_Result    3800 non-null   object\n 5   Shots_H         3800 non-null   int64 \n 6   Shots_A         3800 non-null   int64 \n 7   Target_Shots_H  3800 non-null   int64 \n 8   Target_Shots_A  3800 non-null   int64 \n 9   Fouls_H         3800 non-null   int64 \n 10  Fouls_A         3800 non-null   int64 \n 11  Corners_H       3800 non-null   int64 \n 12  Corners_A       3800 non-null   int64 \n 13  Yellow_H        3800 non-null   int64 \n 14  Yellow_A        3800 non-null   int64 \n 15  Red_H           3800 non-null   int64 \n 16  Red_A           3800 non-null   int64 \ndtypes: int64(14), object(3)\nmemory usage: 534.4+ KB\n"
    }
   ],
   "source": [
    "game_stats.info()"
   ]
  },
  {
   "cell_type": "code",
   "execution_count": 8,
   "metadata": {},
   "outputs": [],
   "source": [
    "team_home = game_stats[game_stats.HomeTeam == 'Man City']\n",
    "team_away = game_stats[game_stats.AwayTeam == 'Man City']"
   ]
  },
  {
   "cell_type": "code",
   "execution_count": 9,
   "metadata": {},
   "outputs": [
    {
     "output_type": "execute_result",
     "data": {
      "text/plain": "(247, 62, 71, True)"
     },
     "metadata": {},
     "execution_count": 9
    }
   ],
   "source": [
    "total_wins = np.sum(team_home.Final_Result == 'H') + np.sum(team_away.Final_Result == 'A')\n",
    "total_loss = np.sum(team_home.Final_Result == 'A') + np.sum(team_away.Final_Result == 'H')\n",
    "total_draw = np.sum(team_home.Final_Result == 'D') + np.sum(team_away.Final_Result == 'D')\n",
    "total_wins, total_loss, total_draw, total_wins+total_loss+total_draw == len(team_home+team_away)"
   ]
  },
  {
   "cell_type": "code",
   "execution_count": 10,
   "metadata": {
    "tags": []
   },
   "outputs": [
    {
     "output_type": "stream",
     "name": "stdout",
     "text": "Team Win Percentage: 65.00%\nTeam Loss Percentage: 16.32%\nTeam Draw Percentage: 18.68%\n"
    }
   ],
   "source": [
    "#print('Seasons 09-17 win percentage)\n",
    "\n",
    "print('''Team Win Percentage: {0:0.2f}%\n",
    "Team Loss Percentage: {1:0.2f}%\n",
    "Team Draw Percentage: {2:0.2f}%'''.format((total_wins/len(team_home+team_away))*100, \n",
    "                                            (total_loss/len(team_home+team_away))*100,\n",
    "                                            (total_draw/len(team_home+team_away))*100))"
   ]
  },
  {
   "cell_type": "code",
   "execution_count": 11,
   "metadata": {},
   "outputs": [],
   "source": [
    "home_final_dummies = pd.get_dummies(team_home.Final_Result, prefix='Home_Final', drop_first=True)\n",
    "# home_half_dummies = pd.get_dummies(team_home.Half_Result, prefix='Home_Half', drop_first=True)"
   ]
  },
  {
   "cell_type": "code",
   "execution_count": 12,
   "metadata": {},
   "outputs": [
    {
     "output_type": "execute_result",
     "data": {
      "text/plain": "0    163\n1     27\nName: Home_Final_D, dtype: int64"
     },
     "metadata": {},
     "execution_count": 12
    }
   ],
   "source": [
    "home_final_dummies.Home_Final_D.value_counts()"
   ]
  },
  {
   "cell_type": "code",
   "execution_count": 13,
   "metadata": {},
   "outputs": [],
   "source": [
    "team_home = pd.concat([team_home, home_final_dummies], axis=1)"
   ]
  },
  {
   "cell_type": "code",
   "execution_count": 14,
   "metadata": {},
   "outputs": [],
   "source": [
    "pass\n",
    "# invert logic so every instance of 1 is a win for selected team\n",
    "# i.e. - drop the Away_Final_H for if Away wins when away selected team still wins\n",
    "\n",
    "away_final_dummies = pd.get_dummies(team_away.Final_Result, prefix='Away_Final')\n",
    "# away_half_dummies = pd.get_dummies(team_away.Half_Result, prefix='Away_Half', drop_first=True)"
   ]
  },
  {
   "cell_type": "code",
   "execution_count": 15,
   "metadata": {},
   "outputs": [
    {
     "output_type": "execute_result",
     "data": {
      "text/plain": "0    146\n1     44\nName: Away_Final_H, dtype: int64"
     },
     "metadata": {},
     "execution_count": 15
    }
   ],
   "source": [
    "away_final_dummies.Away_Final_H.value_counts()"
   ]
  },
  {
   "cell_type": "code",
   "execution_count": 16,
   "metadata": {
    "tags": []
   },
   "outputs": [
    {
     "output_type": "stream",
     "name": "stdout",
     "text": "<class 'pandas.core.frame.DataFrame'>\nDatetimeIndex: 190 entries, 2018-12-08 to 2010-05-09\nData columns (total 3 columns):\n #   Column        Non-Null Count  Dtype\n---  ------        --------------  -----\n 0   Away_Final_A  190 non-null    uint8\n 1   Away_Final_D  190 non-null    uint8\n 2   Away_Final_H  190 non-null    uint8\ndtypes: uint8(3)\nmemory usage: 7.0 KB\n"
    }
   ],
   "source": [
    "away_final_dummies.info()"
   ]
  },
  {
   "cell_type": "code",
   "execution_count": 17,
   "metadata": {},
   "outputs": [
    {
     "output_type": "execute_result",
     "data": {
      "text/plain": "            Away_Final_A  Away_Final_D  Away_Final_H\nDate                                                \n2018-12-08             1             0             0\n2018-08-25             0             1             0\n2018-09-22             1             0             0\n2018-07-10             0             1             0\n2018-10-29             1             0             0\n...                  ...           ...           ...\n2010-03-14             0             1             0\n2010-03-21             1             0             0\n2010-04-03             1             0             0\n2010-04-24             0             1             0\n2010-05-09             0             1             0\n\n[190 rows x 3 columns]",
      "text/html": "<div>\n<style scoped>\n    .dataframe tbody tr th:only-of-type {\n        vertical-align: middle;\n    }\n\n    .dataframe tbody tr th {\n        vertical-align: top;\n    }\n\n    .dataframe thead th {\n        text-align: right;\n    }\n</style>\n<table border=\"1\" class=\"dataframe\">\n  <thead>\n    <tr style=\"text-align: right;\">\n      <th></th>\n      <th>Away_Final_A</th>\n      <th>Away_Final_D</th>\n      <th>Away_Final_H</th>\n    </tr>\n    <tr>\n      <th>Date</th>\n      <th></th>\n      <th></th>\n      <th></th>\n    </tr>\n  </thead>\n  <tbody>\n    <tr>\n      <th>2018-12-08</th>\n      <td>1</td>\n      <td>0</td>\n      <td>0</td>\n    </tr>\n    <tr>\n      <th>2018-08-25</th>\n      <td>0</td>\n      <td>1</td>\n      <td>0</td>\n    </tr>\n    <tr>\n      <th>2018-09-22</th>\n      <td>1</td>\n      <td>0</td>\n      <td>0</td>\n    </tr>\n    <tr>\n      <th>2018-07-10</th>\n      <td>0</td>\n      <td>1</td>\n      <td>0</td>\n    </tr>\n    <tr>\n      <th>2018-10-29</th>\n      <td>1</td>\n      <td>0</td>\n      <td>0</td>\n    </tr>\n    <tr>\n      <th>...</th>\n      <td>...</td>\n      <td>...</td>\n      <td>...</td>\n    </tr>\n    <tr>\n      <th>2010-03-14</th>\n      <td>0</td>\n      <td>1</td>\n      <td>0</td>\n    </tr>\n    <tr>\n      <th>2010-03-21</th>\n      <td>1</td>\n      <td>0</td>\n      <td>0</td>\n    </tr>\n    <tr>\n      <th>2010-04-03</th>\n      <td>1</td>\n      <td>0</td>\n      <td>0</td>\n    </tr>\n    <tr>\n      <th>2010-04-24</th>\n      <td>0</td>\n      <td>1</td>\n      <td>0</td>\n    </tr>\n    <tr>\n      <th>2010-05-09</th>\n      <td>0</td>\n      <td>1</td>\n      <td>0</td>\n    </tr>\n  </tbody>\n</table>\n<p>190 rows × 3 columns</p>\n</div>"
     },
     "metadata": {},
     "execution_count": 17
    }
   ],
   "source": [
    "away_final_dummies"
   ]
  },
  {
   "cell_type": "code",
   "execution_count": 19,
   "metadata": {},
   "outputs": [
    {
     "output_type": "execute_result",
     "data": {
      "text/plain": "(array([0, 1], dtype=uint8), array([0, 1], dtype=uint8))"
     },
     "metadata": {},
     "execution_count": 19
    }
   ],
   "source": [
    "away_final_dummies.Away_Final_D.unique(), home_final_dummies.Home_Final_D.unique()"
   ]
  },
  {
   "cell_type": "code",
   "execution_count": 20,
   "metadata": {},
   "outputs": [],
   "source": [
    "team_away = pd.concat([team_away, away_final_dummies], axis=1)\n",
    "team_away.drop('Away_Final_H', axis=1, inplace=True)"
   ]
  },
  {
   "cell_type": "code",
   "execution_count": 17,
   "metadata": {},
   "outputs": [],
   "source": [
    "# rolling 10 game avg\n",
    "# manch_home['goals_SMA'] = manch_home.Final_Goals_H[::-1].rolling(10).mean()"
   ]
  },
  {
   "cell_type": "code",
   "execution_count": 21,
   "metadata": {
    "tags": []
   },
   "outputs": [
    {
     "output_type": "stream",
     "name": "stdout",
     "text": "<class 'pandas.core.frame.DataFrame'>\nDatetimeIndex: 190 entries, 2018-08-19 to 2010-05-05\nData columns (total 19 columns):\n #   Column          Non-Null Count  Dtype \n---  ------          --------------  ----- \n 0   HomeTeam        190 non-null    object\n 1   AwayTeam        190 non-null    object\n 2   Final_Goals_H   190 non-null    int64 \n 3   Final_Goals_A   190 non-null    int64 \n 4   Final_Result    190 non-null    object\n 5   Shots_H         190 non-null    int64 \n 6   Shots_A         190 non-null    int64 \n 7   Target_Shots_H  190 non-null    int64 \n 8   Target_Shots_A  190 non-null    int64 \n 9   Fouls_H         190 non-null    int64 \n 10  Fouls_A         190 non-null    int64 \n 11  Corners_H       190 non-null    int64 \n 12  Corners_A       190 non-null    int64 \n 13  Yellow_H        190 non-null    int64 \n 14  Yellow_A        190 non-null    int64 \n 15  Red_H           190 non-null    int64 \n 16  Red_A           190 non-null    int64 \n 17  Home_Final_D    190 non-null    uint8 \n 18  Home_Final_H    190 non-null    uint8 \ndtypes: int64(14), object(3), uint8(2)\nmemory usage: 32.1+ KB\n"
    }
   ],
   "source": [
    "team_home.info()"
   ]
  },
  {
   "cell_type": "code",
   "execution_count": 16,
   "metadata": {
    "tags": []
   },
   "outputs": [
    {
     "output_type": "stream",
     "name": "stdout",
     "text": "<class 'pandas.core.frame.DataFrame'>\nDatetimeIndex: 190 entries, 2018-12-08 to 2010-05-09\nData columns (total 19 columns):\n #   Column          Non-Null Count  Dtype \n---  ------          --------------  ----- \n 0   HomeTeam        190 non-null    object\n 1   AwayTeam        190 non-null    object\n 2   Final_Goals_H   190 non-null    int64 \n 3   Final_Goals_A   190 non-null    int64 \n 4   Final_Result    190 non-null    object\n 5   Shots_H         190 non-null    int64 \n 6   Shots_A         190 non-null    int64 \n 7   Target_Shots_H  190 non-null    int64 \n 8   Target_Shots_A  190 non-null    int64 \n 9   Fouls_H         190 non-null    int64 \n 10  Fouls_A         190 non-null    int64 \n 11  Corners_H       190 non-null    int64 \n 12  Corners_A       190 non-null    int64 \n 13  Yellow_H        190 non-null    int64 \n 14  Yellow_A        190 non-null    int64 \n 15  Red_H           190 non-null    int64 \n 16  Red_A           190 non-null    int64 \n 17  Away_Final_A    190 non-null    uint8 \n 18  Away_Final_D    190 non-null    uint8 \ndtypes: int64(14), object(3), uint8(2)\nmemory usage: 32.1+ KB\n"
    }
   ],
   "source": [
    "#concat to first dataframe, don't make a second\n",
    "team_away.info()"
   ]
  },
  {
   "cell_type": "markdown",
   "metadata": {},
   "source": [
    "# Instantiate Full Record DB"
   ]
  },
  {
   "cell_type": "code",
   "execution_count": 91,
   "metadata": {},
   "outputs": [],
   "source": [
    "full_record_list = [team_home, team_away]\n",
    "full_record = pd.concat(full_record_list)"
   ]
  },
  {
   "cell_type": "code",
   "execution_count": 92,
   "metadata": {},
   "outputs": [
    {
     "output_type": "execute_result",
     "data": {
      "text/plain": "(array([nan,  0.,  1.]), array([ 0.,  1., nan]))"
     },
     "metadata": {},
     "execution_count": 92
    }
   ],
   "source": [
    "full_record.Away_Final_D.unique(), full_record.Home_Final_D.unique()"
   ]
  },
  {
   "cell_type": "code",
   "execution_count": 93,
   "metadata": {},
   "outputs": [],
   "source": [
    "full_record.Home_Final_D.fillna(0, inplace=True)\n",
    "full_record.Away_Final_D.fillna(0, inplace=True)"
   ]
  },
  {
   "cell_type": "code",
   "execution_count": 94,
   "metadata": {},
   "outputs": [
    {
     "output_type": "execute_result",
     "data": {
      "text/plain": "(array([0., 1.]), array([0., 1.]))"
     },
     "metadata": {},
     "execution_count": 94
    }
   ],
   "source": [
    "full_record.Away_Final_D.unique(), full_record.Home_Final_D.unique()"
   ]
  },
  {
   "cell_type": "code",
   "execution_count": 95,
   "metadata": {},
   "outputs": [],
   "source": [
    "full_record['Final_D'] = full_record.Home_Final_D + full_record.Away_Final_D"
   ]
  },
  {
   "cell_type": "code",
   "execution_count": 96,
   "metadata": {},
   "outputs": [
    {
     "output_type": "execute_result",
     "data": {
      "text/plain": "array([0., 1.])"
     },
     "metadata": {},
     "execution_count": 96
    }
   ],
   "source": [
    "full_record.Final_D.unique()"
   ]
  },
  {
   "cell_type": "code",
   "execution_count": 97,
   "metadata": {},
   "outputs": [],
   "source": [
    "full_record.drop(['Home_Final_D', 'Away_Final_D'], axis=1, inplace=True)"
   ]
  },
  {
   "cell_type": "code",
   "execution_count": 98,
   "metadata": {
    "tags": []
   },
   "outputs": [
    {
     "output_type": "stream",
     "name": "stdout",
     "text": "<class 'pandas.core.frame.DataFrame'>\nDatetimeIndex: 380 entries, 2018-08-19 to 2010-05-09\nData columns (total 20 columns):\n #   Column          Non-Null Count  Dtype  \n---  ------          --------------  -----  \n 0   HomeTeam        380 non-null    object \n 1   AwayTeam        380 non-null    object \n 2   Final_Goals_H   380 non-null    int64  \n 3   Final_Goals_A   380 non-null    int64  \n 4   Final_Result    380 non-null    object \n 5   Shots_H         380 non-null    int64  \n 6   Shots_A         380 non-null    int64  \n 7   Target_Shots_H  380 non-null    int64  \n 8   Target_Shots_A  380 non-null    int64  \n 9   Fouls_H         380 non-null    int64  \n 10  Fouls_A         380 non-null    int64  \n 11  Corners_H       380 non-null    int64  \n 12  Corners_A       380 non-null    int64  \n 13  Yellow_H        380 non-null    int64  \n 14  Yellow_A        380 non-null    int64  \n 15  Red_H           380 non-null    int64  \n 16  Red_A           380 non-null    int64  \n 17  Home_Final_H    190 non-null    float64\n 18  Away_Final_A    190 non-null    float64\n 19  Final_D         380 non-null    float64\ndtypes: float64(3), int64(14), object(3)\nmemory usage: 62.3+ KB\n"
    }
   ],
   "source": [
    "full_record.info()"
   ]
  },
  {
   "cell_type": "code",
   "execution_count": 99,
   "metadata": {},
   "outputs": [
    {
     "output_type": "execute_result",
     "data": {
      "text/plain": "DatetimeIndex(['2018-08-19', '2018-01-09', '2018-09-15', '2018-09-29',\n               '2018-10-20', '2018-04-11', '2018-11-11', '2018-01-12',\n               '2018-12-15', '2018-12-22',\n               ...\n               '2010-02-21', '2010-03-24', '2010-03-29', '2010-04-11',\n               '2010-04-17', '2010-05-01', '2010-05-05', '2018-12-08',\n               '2018-08-25', '2018-09-22'],\n              dtype='datetime64[ns]', name='Date', length=193, freq=None)"
     },
     "metadata": {},
     "execution_count": 99
    }
   ],
   "source": [
    "# prove time is out of order\n",
    "full_record.index[:193]"
   ]
  },
  {
   "cell_type": "code",
   "execution_count": 100,
   "metadata": {},
   "outputs": [],
   "source": [
    "full_record = full_record.sort_index()[::-1]"
   ]
  },
  {
   "cell_type": "code",
   "execution_count": 101,
   "metadata": {},
   "outputs": [],
   "source": [
    "# binary if team is home or not\n",
    "\n",
    "full_record['Home_Field_Advantage'] = np.where(full_record.HomeTeam == 'Man City', 1, 0)"
   ]
  },
  {
   "cell_type": "code",
   "execution_count": 102,
   "metadata": {},
   "outputs": [],
   "source": [
    "# full_record['Accum_home_reds'] = full_record.Red_A[full_record.HomeTeam == 'Man City'].rolling(10).sum()"
   ]
  },
  {
   "cell_type": "code",
   "execution_count": 103,
   "metadata": {},
   "outputs": [],
   "source": [
    "# full_record['Accum_away_reds'] = full_record.Red_A[full_record.AwayTeam == 'Man City'].rolling(10).sum()"
   ]
  },
  {
   "cell_type": "code",
   "execution_count": 104,
   "metadata": {
    "tags": []
   },
   "outputs": [
    {
     "output_type": "stream",
     "name": "stdout",
     "text": "<class 'pandas.core.frame.DataFrame'>\nDatetimeIndex: 380 entries, 2019-12-05 to 2009-08-15\nData columns (total 21 columns):\n #   Column                Non-Null Count  Dtype  \n---  ------                --------------  -----  \n 0   HomeTeam              380 non-null    object \n 1   AwayTeam              380 non-null    object \n 2   Final_Goals_H         380 non-null    int64  \n 3   Final_Goals_A         380 non-null    int64  \n 4   Final_Result          380 non-null    object \n 5   Shots_H               380 non-null    int64  \n 6   Shots_A               380 non-null    int64  \n 7   Target_Shots_H        380 non-null    int64  \n 8   Target_Shots_A        380 non-null    int64  \n 9   Fouls_H               380 non-null    int64  \n 10  Fouls_A               380 non-null    int64  \n 11  Corners_H             380 non-null    int64  \n 12  Corners_A             380 non-null    int64  \n 13  Yellow_H              380 non-null    int64  \n 14  Yellow_A              380 non-null    int64  \n 15  Red_H                 380 non-null    int64  \n 16  Red_A                 380 non-null    int64  \n 17  Home_Final_H          190 non-null    float64\n 18  Away_Final_A          190 non-null    float64\n 19  Final_D               380 non-null    float64\n 20  Home_Field_Advantage  380 non-null    int64  \ndtypes: float64(3), int64(15), object(3)\nmemory usage: 65.3+ KB\n"
    }
   ],
   "source": [
    "full_record.info()"
   ]
  },
  {
   "cell_type": "code",
   "execution_count": 105,
   "metadata": {},
   "outputs": [],
   "source": [
    "full_record.drop(['HomeTeam', 'AwayTeam', 'Final_Result'], axis=1, inplace=True)"
   ]
  },
  {
   "cell_type": "code",
   "execution_count": 106,
   "metadata": {
    "tags": []
   },
   "outputs": [
    {
     "output_type": "stream",
     "name": "stdout",
     "text": "<class 'pandas.core.frame.DataFrame'>\nDatetimeIndex: 380 entries, 2019-12-05 to 2009-08-15\nData columns (total 18 columns):\n #   Column                Non-Null Count  Dtype  \n---  ------                --------------  -----  \n 0   Final_Goals_H         380 non-null    int64  \n 1   Final_Goals_A         380 non-null    int64  \n 2   Shots_H               380 non-null    int64  \n 3   Shots_A               380 non-null    int64  \n 4   Target_Shots_H        380 non-null    int64  \n 5   Target_Shots_A        380 non-null    int64  \n 6   Fouls_H               380 non-null    int64  \n 7   Fouls_A               380 non-null    int64  \n 8   Corners_H             380 non-null    int64  \n 9   Corners_A             380 non-null    int64  \n 10  Yellow_H              380 non-null    int64  \n 11  Yellow_A              380 non-null    int64  \n 12  Red_H                 380 non-null    int64  \n 13  Red_A                 380 non-null    int64  \n 14  Home_Final_H          190 non-null    float64\n 15  Away_Final_A          190 non-null    float64\n 16  Final_D               380 non-null    float64\n 17  Home_Field_Advantage  380 non-null    int64  \ndtypes: float64(3), int64(15)\nmemory usage: 56.4 KB\n"
    }
   ],
   "source": [
    "full_record.info()"
   ]
  },
  {
   "cell_type": "code",
   "execution_count": 109,
   "metadata": {},
   "outputs": [],
   "source": [
    "full_record['Shot_Accuracy_H'] = np.where(full_record.Home_Field_Advantage, full_record.Target_Shots_H/full_record.Shots_H, 0)"
   ]
  },
  {
   "cell_type": "code",
   "execution_count": 112,
   "metadata": {},
   "outputs": [],
   "source": [
    "full_record['Shot_Accuracy_A'] = np.where(full_record.Home_Field_Advantage[~full_record.Home_Field_Advantage], full_record.Target_Shots_A/full_record.Shots_A, 0)\n"
   ]
  },
  {
   "cell_type": "code",
   "execution_count": 113,
   "metadata": {
    "tags": []
   },
   "outputs": [
    {
     "output_type": "stream",
     "name": "stdout",
     "text": "<class 'pandas.core.frame.DataFrame'>\nDatetimeIndex: 380 entries, 2019-12-05 to 2009-08-15\nData columns (total 20 columns):\n #   Column                Non-Null Count  Dtype  \n---  ------                --------------  -----  \n 0   Final_Goals_H         380 non-null    int64  \n 1   Final_Goals_A         380 non-null    int64  \n 2   Shots_H               380 non-null    int64  \n 3   Shots_A               380 non-null    int64  \n 4   Target_Shots_H        380 non-null    int64  \n 5   Target_Shots_A        380 non-null    int64  \n 6   Fouls_H               380 non-null    int64  \n 7   Fouls_A               380 non-null    int64  \n 8   Corners_H             380 non-null    int64  \n 9   Corners_A             380 non-null    int64  \n 10  Yellow_H              380 non-null    int64  \n 11  Yellow_A              380 non-null    int64  \n 12  Red_H                 380 non-null    int64  \n 13  Red_A                 380 non-null    int64  \n 14  Home_Final_H          190 non-null    float64\n 15  Away_Final_A          190 non-null    float64\n 16  Final_D               380 non-null    float64\n 17  Home_Field_Advantage  380 non-null    int64  \n 18  Shot_Accuracy_H       380 non-null    float64\n 19  Shot_Accuracy_A       380 non-null    float64\ndtypes: float64(5), int64(15)\nmemory usage: 72.3 KB\n"
    }
   ],
   "source": [
    "full_record.info()"
   ]
  },
  {
   "cell_type": "code",
   "execution_count": 75,
   "metadata": {},
   "outputs": [],
   "source": [
    "####'need more data engineering'\n",
    "# fig, ax = plt.subplots(figsize=(10,10))\n",
    "# reds = [full_record.Accum_home_reds, full_record.Accum_away_reds]\n",
    "\n",
    "# # ax.plot(full_record.Final_Goals_H);"
   ]
  },
  {
   "cell_type": "code",
   "execution_count": 121,
   "metadata": {},
   "outputs": [],
   "source": [
    "full_record.drop(['Shots_H', 'Shots_A', 'Target_Shots_H', 'Target_Shots_A'], axis=1, inplace=True)"
   ]
  },
  {
   "cell_type": "code",
   "execution_count": 114,
   "metadata": {},
   "outputs": [
    {
     "output_type": "execute_result",
     "data": {
      "text/plain": "(array([1, 6, 3, 0, 2, 5, 4, 7]),\n 1    98\n 0    89\n 2    85\n 3    57\n 4    29\n 5    13\n 6     7\n 7     2\n Name: Final_Goals_H, dtype: int64)"
     },
     "metadata": {},
     "execution_count": 114
    }
   ],
   "source": [
    "full_record.Final_Goals_H.unique(), full_record.Final_Goals_H.value_counts()"
   ]
  },
  {
   "cell_type": "code",
   "execution_count": 125,
   "metadata": {},
   "outputs": [
    {
     "output_type": "execute_result",
     "data": {
      "text/plain": "(array([0., 6., 3., 1., 2., 5., 4., 7.]),\n 0.0    205\n 3.0     47\n 2.0     46\n 1.0     38\n 4.0     22\n 5.0     13\n 6.0      7\n 7.0      2\n Name: Final_Goals_H, dtype: int64)"
     },
     "metadata": {},
     "execution_count": 125
    }
   ],
   "source": [
    "full_record.Final_Goals_H.unique(), full_record.Final_Goals_H.value_counts()"
   ]
  },
  {
   "cell_type": "code",
   "execution_count": 116,
   "metadata": {},
   "outputs": [
    {
     "output_type": "execute_result",
     "data": {
      "text/plain": "array([nan,  1.,  0.])"
     },
     "metadata": {},
     "execution_count": 116
    }
   ],
   "source": [
    "full_record.Home_Final_H.unique()"
   ]
  },
  {
   "cell_type": "code",
   "execution_count": 123,
   "metadata": {},
   "outputs": [],
   "source": [
    "full_record.Final_Goals_H = np.where(full_record.Home_Field_Advantage, full_record.Final_Goals_H, 0)"
   ]
  },
  {
   "cell_type": "code",
   "execution_count": null,
   "metadata": {},
   "outputs": [],
   "source": [
    "full_record.Final_Goals_A = np.where(full_record.Home_Field_Advantage[~full_record.Home_Field_Advantage], full_record)"
   ]
  },
  {
   "cell_type": "code",
   "execution_count": 126,
   "metadata": {},
   "outputs": [
    {
     "output_type": "execute_result",
     "data": {
      "text/plain": "            Final_Goals_H  Final_Goals_A  Fouls_H  Fouls_A  Corners_H  \\\nDate                                                                    \n2019-12-05            0.0              4       12        8          2   \n2019-10-02            6.0              0        9       13          2   \n2019-09-03            3.0              1       11        7          9   \n2019-06-05            1.0              0       12        5         11   \n2019-06-02            0.0              2       12        6          5   \n\n            Corners_A  Yellow_H  Yellow_A  Red_H  Red_A  Home_Final_H  \\\nDate                                                                    \n2019-12-05          6         0         0      0      0           NaN   \n2019-10-02          2         1         2      0      0           1.0   \n2019-09-03          1         1         1      0      0           1.0   \n2019-06-05          0         3         2      0      0           1.0   \n2019-06-02          6         1         1      0      0           NaN   \n\n            Away_Final_A  Final_D  Home_Field_Advantage  Shot_Accuracy_H  \\\nDate                                                                       \n2019-12-05           1.0      0.0                     0         0.000000   \n2019-10-02           NaN      0.0                     1         0.600000   \n2019-09-03           NaN      0.0                     1         0.473684   \n2019-06-05           NaN      0.0                     1         0.263158   \n2019-06-02           1.0      0.0                     0         0.000000   \n\n            Shot_Accuracy_A  \nDate                         \n2019-12-05         0.000000  \n2019-10-02         0.333333  \n2019-09-03         0.500000  \n2019-06-05         0.285714  \n2019-06-02         0.000000  ",
      "text/html": "<div>\n<style scoped>\n    .dataframe tbody tr th:only-of-type {\n        vertical-align: middle;\n    }\n\n    .dataframe tbody tr th {\n        vertical-align: top;\n    }\n\n    .dataframe thead th {\n        text-align: right;\n    }\n</style>\n<table border=\"1\" class=\"dataframe\">\n  <thead>\n    <tr style=\"text-align: right;\">\n      <th></th>\n      <th>Final_Goals_H</th>\n      <th>Final_Goals_A</th>\n      <th>Fouls_H</th>\n      <th>Fouls_A</th>\n      <th>Corners_H</th>\n      <th>Corners_A</th>\n      <th>Yellow_H</th>\n      <th>Yellow_A</th>\n      <th>Red_H</th>\n      <th>Red_A</th>\n      <th>Home_Final_H</th>\n      <th>Away_Final_A</th>\n      <th>Final_D</th>\n      <th>Home_Field_Advantage</th>\n      <th>Shot_Accuracy_H</th>\n      <th>Shot_Accuracy_A</th>\n    </tr>\n    <tr>\n      <th>Date</th>\n      <th></th>\n      <th></th>\n      <th></th>\n      <th></th>\n      <th></th>\n      <th></th>\n      <th></th>\n      <th></th>\n      <th></th>\n      <th></th>\n      <th></th>\n      <th></th>\n      <th></th>\n      <th></th>\n      <th></th>\n      <th></th>\n    </tr>\n  </thead>\n  <tbody>\n    <tr>\n      <th>2019-12-05</th>\n      <td>0.0</td>\n      <td>4</td>\n      <td>12</td>\n      <td>8</td>\n      <td>2</td>\n      <td>6</td>\n      <td>0</td>\n      <td>0</td>\n      <td>0</td>\n      <td>0</td>\n      <td>NaN</td>\n      <td>1.0</td>\n      <td>0.0</td>\n      <td>0</td>\n      <td>0.000000</td>\n      <td>0.000000</td>\n    </tr>\n    <tr>\n      <th>2019-10-02</th>\n      <td>6.0</td>\n      <td>0</td>\n      <td>9</td>\n      <td>13</td>\n      <td>2</td>\n      <td>2</td>\n      <td>1</td>\n      <td>2</td>\n      <td>0</td>\n      <td>0</td>\n      <td>1.0</td>\n      <td>NaN</td>\n      <td>0.0</td>\n      <td>1</td>\n      <td>0.600000</td>\n      <td>0.333333</td>\n    </tr>\n    <tr>\n      <th>2019-09-03</th>\n      <td>3.0</td>\n      <td>1</td>\n      <td>11</td>\n      <td>7</td>\n      <td>9</td>\n      <td>1</td>\n      <td>1</td>\n      <td>1</td>\n      <td>0</td>\n      <td>0</td>\n      <td>1.0</td>\n      <td>NaN</td>\n      <td>0.0</td>\n      <td>1</td>\n      <td>0.473684</td>\n      <td>0.500000</td>\n    </tr>\n    <tr>\n      <th>2019-06-05</th>\n      <td>1.0</td>\n      <td>0</td>\n      <td>12</td>\n      <td>5</td>\n      <td>11</td>\n      <td>0</td>\n      <td>3</td>\n      <td>2</td>\n      <td>0</td>\n      <td>0</td>\n      <td>1.0</td>\n      <td>NaN</td>\n      <td>0.0</td>\n      <td>1</td>\n      <td>0.263158</td>\n      <td>0.285714</td>\n    </tr>\n    <tr>\n      <th>2019-06-02</th>\n      <td>0.0</td>\n      <td>2</td>\n      <td>12</td>\n      <td>6</td>\n      <td>5</td>\n      <td>6</td>\n      <td>1</td>\n      <td>1</td>\n      <td>0</td>\n      <td>0</td>\n      <td>NaN</td>\n      <td>1.0</td>\n      <td>0.0</td>\n      <td>0</td>\n      <td>0.000000</td>\n      <td>0.000000</td>\n    </tr>\n  </tbody>\n</table>\n</div>"
     },
     "metadata": {},
     "execution_count": 126
    }
   ],
   "source": [
    "full_record.head()"
   ]
  },
  {
   "cell_type": "code",
   "execution_count": 124,
   "metadata": {},
   "outputs": [
    {
     "output_type": "execute_result",
     "data": {
      "text/plain": "            Final_Goals_H  Final_Goals_A  Fouls_H  Fouls_A  Corners_H  \\\nDate                                                                    \n2019-12-05            0.0              4       12        8          2   \n2019-10-02            6.0              0        9       13          2   \n2019-09-03            3.0              1       11        7          9   \n2019-06-05            1.0              0       12        5         11   \n2019-06-02            0.0              2       12        6          5   \n\n            Corners_A  Yellow_H  Yellow_A  Red_H  Red_A  Home_Final_H  \\\nDate                                                                    \n2019-12-05          6         0         0      0      0           NaN   \n2019-10-02          2         1         2      0      0           1.0   \n2019-09-03          1         1         1      0      0           1.0   \n2019-06-05          0         3         2      0      0           1.0   \n2019-06-02          6         1         1      0      0           NaN   \n\n            Away_Final_A  Final_D  Home_Field_Advantage  Shot_Accuracy_H  \\\nDate                                                                       \n2019-12-05           1.0      0.0                     0         0.000000   \n2019-10-02           NaN      0.0                     1         0.600000   \n2019-09-03           NaN      0.0                     1         0.473684   \n2019-06-05           NaN      0.0                     1         0.263158   \n2019-06-02           1.0      0.0                     0         0.000000   \n\n            Shot_Accuracy_A  \nDate                         \n2019-12-05         0.000000  \n2019-10-02         0.333333  \n2019-09-03         0.500000  \n2019-06-05         0.285714  \n2019-06-02         0.000000  ",
      "text/html": "<div>\n<style scoped>\n    .dataframe tbody tr th:only-of-type {\n        vertical-align: middle;\n    }\n\n    .dataframe tbody tr th {\n        vertical-align: top;\n    }\n\n    .dataframe thead th {\n        text-align: right;\n    }\n</style>\n<table border=\"1\" class=\"dataframe\">\n  <thead>\n    <tr style=\"text-align: right;\">\n      <th></th>\n      <th>Final_Goals_H</th>\n      <th>Final_Goals_A</th>\n      <th>Fouls_H</th>\n      <th>Fouls_A</th>\n      <th>Corners_H</th>\n      <th>Corners_A</th>\n      <th>Yellow_H</th>\n      <th>Yellow_A</th>\n      <th>Red_H</th>\n      <th>Red_A</th>\n      <th>Home_Final_H</th>\n      <th>Away_Final_A</th>\n      <th>Final_D</th>\n      <th>Home_Field_Advantage</th>\n      <th>Shot_Accuracy_H</th>\n      <th>Shot_Accuracy_A</th>\n    </tr>\n    <tr>\n      <th>Date</th>\n      <th></th>\n      <th></th>\n      <th></th>\n      <th></th>\n      <th></th>\n      <th></th>\n      <th></th>\n      <th></th>\n      <th></th>\n      <th></th>\n      <th></th>\n      <th></th>\n      <th></th>\n      <th></th>\n      <th></th>\n      <th></th>\n    </tr>\n  </thead>\n  <tbody>\n    <tr>\n      <th>2019-12-05</th>\n      <td>0.0</td>\n      <td>4</td>\n      <td>12</td>\n      <td>8</td>\n      <td>2</td>\n      <td>6</td>\n      <td>0</td>\n      <td>0</td>\n      <td>0</td>\n      <td>0</td>\n      <td>NaN</td>\n      <td>1.0</td>\n      <td>0.0</td>\n      <td>0</td>\n      <td>0.000000</td>\n      <td>0.000000</td>\n    </tr>\n    <tr>\n      <th>2019-10-02</th>\n      <td>6.0</td>\n      <td>0</td>\n      <td>9</td>\n      <td>13</td>\n      <td>2</td>\n      <td>2</td>\n      <td>1</td>\n      <td>2</td>\n      <td>0</td>\n      <td>0</td>\n      <td>1.0</td>\n      <td>NaN</td>\n      <td>0.0</td>\n      <td>1</td>\n      <td>0.600000</td>\n      <td>0.333333</td>\n    </tr>\n    <tr>\n      <th>2019-09-03</th>\n      <td>3.0</td>\n      <td>1</td>\n      <td>11</td>\n      <td>7</td>\n      <td>9</td>\n      <td>1</td>\n      <td>1</td>\n      <td>1</td>\n      <td>0</td>\n      <td>0</td>\n      <td>1.0</td>\n      <td>NaN</td>\n      <td>0.0</td>\n      <td>1</td>\n      <td>0.473684</td>\n      <td>0.500000</td>\n    </tr>\n    <tr>\n      <th>2019-06-05</th>\n      <td>1.0</td>\n      <td>0</td>\n      <td>12</td>\n      <td>5</td>\n      <td>11</td>\n      <td>0</td>\n      <td>3</td>\n      <td>2</td>\n      <td>0</td>\n      <td>0</td>\n      <td>1.0</td>\n      <td>NaN</td>\n      <td>0.0</td>\n      <td>1</td>\n      <td>0.263158</td>\n      <td>0.285714</td>\n    </tr>\n    <tr>\n      <th>2019-06-02</th>\n      <td>0.0</td>\n      <td>2</td>\n      <td>12</td>\n      <td>6</td>\n      <td>5</td>\n      <td>6</td>\n      <td>1</td>\n      <td>1</td>\n      <td>0</td>\n      <td>0</td>\n      <td>NaN</td>\n      <td>1.0</td>\n      <td>0.0</td>\n      <td>0</td>\n      <td>0.000000</td>\n      <td>0.000000</td>\n    </tr>\n  </tbody>\n</table>\n</div>"
     },
     "metadata": {},
     "execution_count": 124
    }
   ],
   "source": [
    "full_record.head()"
   ]
  },
  {
   "cell_type": "code",
   "execution_count": null,
   "metadata": {},
   "outputs": [],
   "source": []
  }
 ]
}