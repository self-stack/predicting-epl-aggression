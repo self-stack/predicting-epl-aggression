{
 "metadata": {
  "language_info": {
   "codemirror_mode": {
    "name": "ipython",
    "version": 3
   },
   "file_extension": ".py",
   "mimetype": "text/x-python",
   "name": "python",
   "nbconvert_exporter": "python",
   "pygments_lexer": "ipython3",
   "version": "3.7.6-final"
  },
  "orig_nbformat": 2,
  "kernelspec": {
   "name": "python3",
   "display_name": "Python 3"
  }
 },
 "nbformat": 4,
 "nbformat_minor": 2,
 "cells": [
  {
   "cell_type": "code",
   "execution_count": 1,
   "metadata": {
    "tags": []
   },
   "outputs": [
    {
     "output_type": "stream",
     "name": "stdout",
     "text": "/Users/zschulzb/OneDrive/_mydev/galvanize/capstones/cap2/project_init/src\n"
    }
   ],
   "source": [
    "import pandas as pd\n",
    "import numpy as np\n",
    "import matplotlib.pyplot as plt\n",
    "!pwd"
   ]
  },
  {
   "cell_type": "code",
   "execution_count": 2,
   "metadata": {},
   "outputs": [],
   "source": [
    "season_18_19 = pd.read_csv('../data/premier_league/season-1819_csv.csv')\n",
    "season_17_18 = pd.read_csv('../data/premier_league/season-1718_csv.csv')\n",
    "season_16_17 = pd.read_csv('../data/premier_league/season-1617_csv.csv')\n",
    "season_15_16 = pd.read_csv('../data/premier_league/season-1516_csv.csv')\n",
    "season_14_15 = pd.read_csv('../data/premier_league/season-1415_csv.csv')\n",
    "season_13_14 = pd.read_csv('../data/premier_league/season-1314_csv.csv')\n",
    "season_12_13 = pd.read_csv('../data/premier_league/season-1213_csv.csv')\n",
    "season_11_12 = pd.read_csv('../data/premier_league/season-1112_csv.csv')\n",
    "season_10_11 = pd.read_csv('../data/premier_league/season-1011_csv.csv')\n",
    "season_09_10 = pd.read_csv('../data/premier_league/season-0910_csv.csv')"
   ]
  },
  {
   "cell_type": "code",
   "execution_count": 3,
   "metadata": {
    "tags": []
   },
   "outputs": [],
   "source": [
    "seasons = [season_18_19, season_17_18, season_16_17, season_15_16, season_14_15, season_13_14, season_12_13, season_11_12, season_10_11, season_09_10]"
   ]
  },
  {
   "cell_type": "code",
   "execution_count": 4,
   "metadata": {
    "tags": []
   },
   "outputs": [],
   "source": [
    "season_num = 'Season'\n",
    "\n",
    "for i, s in enumerate(seasons[::-1]):\n",
    "    s[season_num] = i + 1"
   ]
  },
  {
   "cell_type": "code",
   "execution_count": 5,
   "metadata": {},
   "outputs": [],
   "source": [
    "ten_season_df = pd.concat(seasons)"
   ]
  },
  {
   "cell_type": "code",
   "execution_count": 6,
   "metadata": {},
   "outputs": [],
   "source": [
    "stat_features = ['Date', 'HomeTeam', 'AwayTeam', 'FTHG', 'FTAG', 'FTR', 'HTHG', 'HTAG', 'HTR', 'Referee', 'HS', 'AS', 'HST', 'AST', 'HF', 'AF', 'HC', 'AC', 'HY', 'AY', 'HR', 'AR', 'Season']\n",
    "\n",
    "described_features = ['HomeTeam', 'AwayTeam', 'Final_Goals_H', 'Final_Goals_A', 'Final_Result', 'Half_Goals_H', 'Half_Goals_A', 'Half_Result', 'Referee', 'Shots_H', 'Shots_A', 'Target_Shots_H', 'Target_Shots_A', 'Fouls_H', 'Fouls_A', 'Corners_H', 'Corners_A', 'Yellow_H', 'Yellow_A', 'Red_H', 'Red_A', 'Season']"
   ]
  },
  {
   "cell_type": "code",
   "execution_count": 7,
   "metadata": {},
   "outputs": [],
   "source": [
    "game_stats = ten_season_df[stat_features]\n",
    "game_stats.Date = pd.to_datetime(game_stats.Date)\n",
    "game_stats.set_index(game_stats['Date'], inplace=True)\n",
    "game_stats.drop(['Date'], axis=1, inplace=True)\n",
    "game_stats.columns = described_features\n",
    "game_stats.drop(['Half_Goals_H','Half_Goals_A', 'Half_Result','Referee'], axis=1, inplace=True)"
   ]
  },
  {
   "cell_type": "code",
   "execution_count": 8,
   "metadata": {
    "tags": []
   },
   "outputs": [
    {
     "output_type": "stream",
     "name": "stdout",
     "text": "<class 'pandas.core.frame.DataFrame'>\nDatetimeIndex: 3800 entries, 2018-10-08 to 2010-05-09\nData columns (total 18 columns):\n #   Column          Non-Null Count  Dtype \n---  ------          --------------  ----- \n 0   HomeTeam        3800 non-null   object\n 1   AwayTeam        3800 non-null   object\n 2   Final_Goals_H   3800 non-null   int64 \n 3   Final_Goals_A   3800 non-null   int64 \n 4   Final_Result    3800 non-null   object\n 5   Shots_H         3800 non-null   int64 \n 6   Shots_A         3800 non-null   int64 \n 7   Target_Shots_H  3800 non-null   int64 \n 8   Target_Shots_A  3800 non-null   int64 \n 9   Fouls_H         3800 non-null   int64 \n 10  Fouls_A         3800 non-null   int64 \n 11  Corners_H       3800 non-null   int64 \n 12  Corners_A       3800 non-null   int64 \n 13  Yellow_H        3800 non-null   int64 \n 14  Yellow_A        3800 non-null   int64 \n 15  Red_H           3800 non-null   int64 \n 16  Red_A           3800 non-null   int64 \n 17  Season          3800 non-null   int64 \ndtypes: int64(15), object(3)\nmemory usage: 564.1+ KB\n"
    }
   ],
   "source": [
    "game_stats.info()"
   ]
  },
  {
   "cell_type": "markdown",
   "metadata": {},
   "source": [
    "# Insert menu here"
   ]
  },
  {
   "cell_type": "code",
   "execution_count": 9,
   "metadata": {},
   "outputs": [],
   "source": [
    "team = 'Arsenal'"
   ]
  },
  {
   "cell_type": "code",
   "execution_count": 10,
   "metadata": {},
   "outputs": [],
   "source": [
    "test_team_home = game_stats[game_stats.HomeTeam == team]"
   ]
  },
  {
   "cell_type": "code",
   "execution_count": 11,
   "metadata": {},
   "outputs": [],
   "source": [
    "test_team_away = game_stats[game_stats.AwayTeam == team]"
   ]
  },
  {
   "cell_type": "code",
   "execution_count": 12,
   "metadata": {},
   "outputs": [
    {
     "output_type": "execute_result",
     "data": {
      "text/plain": "array(['Arsenal'], dtype=object)"
     },
     "metadata": {},
     "execution_count": 12
    }
   ],
   "source": [
    "test_team_away.AwayTeam.unique()"
   ]
  },
  {
   "cell_type": "code",
   "execution_count": 13,
   "metadata": {},
   "outputs": [
    {
     "output_type": "execute_result",
     "data": {
      "text/plain": "           HomeTeam   AwayTeam  Final_Goals_H  Final_Goals_A Final_Result  \\\nDate                                                                        \n2018-12-08  Arsenal   Man City              0              2            A   \n2018-08-25  Arsenal   West Ham              3              1            H   \n2018-09-23  Arsenal    Everton              2              0            H   \n2018-09-29  Arsenal    Watford              2              0            H   \n2018-10-22  Arsenal  Leicester              3              1            H   \n...             ...        ...            ...            ...          ...   \n2010-03-06  Arsenal    Burnley              3              1            H   \n2010-03-20  Arsenal   West Ham              2              0            H   \n2010-04-03  Arsenal     Wolves              1              0            H   \n2010-04-24  Arsenal   Man City              0              0            D   \n2010-05-09  Arsenal     Fulham              4              0            H   \n\n            Shots_H  Shots_A  Target_Shots_H  Target_Shots_A  Fouls_H  \\\nDate                                                                    \n2018-12-08        9       17               3               8       11   \n2018-08-25       17       13              10               5       16   \n2018-09-23        9        9               5               6       17   \n2018-09-29        9       13               2               4       11   \n2018-10-22       19        8               6               2       10   \n...             ...      ...             ...             ...      ...   \n2010-03-06       20        8              11               5        5   \n2010-03-20        9        8               5               4        7   \n2010-04-03       23        3              13               2       10   \n2010-04-24        9        3               4               2       13   \n2010-05-09       16        5              11               2       11   \n\n            Fouls_A  Corners_H  Corners_A  Yellow_H  Yellow_A  Red_H  Red_A  \\\nDate                                                                          \n2018-12-08       14          2          9         2         2      0      0   \n2018-08-25       13         10          2         1         3      0      0   \n2018-09-23       12          5          9         2         1      0      0   \n2018-09-29       17          6          6         2         2      0      0   \n2018-10-22       10          6          4         2         2      0      0   \n...             ...        ...        ...       ...       ...    ...    ...   \n2010-03-06       12          8          2         0         4      0      0   \n2010-03-20       24          4          2         1         4      1      0   \n2010-04-03       13         10          4         0         2      0      1   \n2010-04-24       14          5          1         4         2      0      0   \n2010-05-09       10          5          2         2         2      0      0   \n\n            Season  \nDate                \n2018-12-08      10  \n2018-08-25      10  \n2018-09-23      10  \n2018-09-29      10  \n2018-10-22      10  \n...            ...  \n2010-03-06       1  \n2010-03-20       1  \n2010-04-03       1  \n2010-04-24       1  \n2010-05-09       1  \n\n[190 rows x 18 columns]",
      "text/html": "<div>\n<style scoped>\n    .dataframe tbody tr th:only-of-type {\n        vertical-align: middle;\n    }\n\n    .dataframe tbody tr th {\n        vertical-align: top;\n    }\n\n    .dataframe thead th {\n        text-align: right;\n    }\n</style>\n<table border=\"1\" class=\"dataframe\">\n  <thead>\n    <tr style=\"text-align: right;\">\n      <th></th>\n      <th>HomeTeam</th>\n      <th>AwayTeam</th>\n      <th>Final_Goals_H</th>\n      <th>Final_Goals_A</th>\n      <th>Final_Result</th>\n      <th>Shots_H</th>\n      <th>Shots_A</th>\n      <th>Target_Shots_H</th>\n      <th>Target_Shots_A</th>\n      <th>Fouls_H</th>\n      <th>Fouls_A</th>\n      <th>Corners_H</th>\n      <th>Corners_A</th>\n      <th>Yellow_H</th>\n      <th>Yellow_A</th>\n      <th>Red_H</th>\n      <th>Red_A</th>\n      <th>Season</th>\n    </tr>\n    <tr>\n      <th>Date</th>\n      <th></th>\n      <th></th>\n      <th></th>\n      <th></th>\n      <th></th>\n      <th></th>\n      <th></th>\n      <th></th>\n      <th></th>\n      <th></th>\n      <th></th>\n      <th></th>\n      <th></th>\n      <th></th>\n      <th></th>\n      <th></th>\n      <th></th>\n      <th></th>\n    </tr>\n  </thead>\n  <tbody>\n    <tr>\n      <th>2018-12-08</th>\n      <td>Arsenal</td>\n      <td>Man City</td>\n      <td>0</td>\n      <td>2</td>\n      <td>A</td>\n      <td>9</td>\n      <td>17</td>\n      <td>3</td>\n      <td>8</td>\n      <td>11</td>\n      <td>14</td>\n      <td>2</td>\n      <td>9</td>\n      <td>2</td>\n      <td>2</td>\n      <td>0</td>\n      <td>0</td>\n      <td>10</td>\n    </tr>\n    <tr>\n      <th>2018-08-25</th>\n      <td>Arsenal</td>\n      <td>West Ham</td>\n      <td>3</td>\n      <td>1</td>\n      <td>H</td>\n      <td>17</td>\n      <td>13</td>\n      <td>10</td>\n      <td>5</td>\n      <td>16</td>\n      <td>13</td>\n      <td>10</td>\n      <td>2</td>\n      <td>1</td>\n      <td>3</td>\n      <td>0</td>\n      <td>0</td>\n      <td>10</td>\n    </tr>\n    <tr>\n      <th>2018-09-23</th>\n      <td>Arsenal</td>\n      <td>Everton</td>\n      <td>2</td>\n      <td>0</td>\n      <td>H</td>\n      <td>9</td>\n      <td>9</td>\n      <td>5</td>\n      <td>6</td>\n      <td>17</td>\n      <td>12</td>\n      <td>5</td>\n      <td>9</td>\n      <td>2</td>\n      <td>1</td>\n      <td>0</td>\n      <td>0</td>\n      <td>10</td>\n    </tr>\n    <tr>\n      <th>2018-09-29</th>\n      <td>Arsenal</td>\n      <td>Watford</td>\n      <td>2</td>\n      <td>0</td>\n      <td>H</td>\n      <td>9</td>\n      <td>13</td>\n      <td>2</td>\n      <td>4</td>\n      <td>11</td>\n      <td>17</td>\n      <td>6</td>\n      <td>6</td>\n      <td>2</td>\n      <td>2</td>\n      <td>0</td>\n      <td>0</td>\n      <td>10</td>\n    </tr>\n    <tr>\n      <th>2018-10-22</th>\n      <td>Arsenal</td>\n      <td>Leicester</td>\n      <td>3</td>\n      <td>1</td>\n      <td>H</td>\n      <td>19</td>\n      <td>8</td>\n      <td>6</td>\n      <td>2</td>\n      <td>10</td>\n      <td>10</td>\n      <td>6</td>\n      <td>4</td>\n      <td>2</td>\n      <td>2</td>\n      <td>0</td>\n      <td>0</td>\n      <td>10</td>\n    </tr>\n    <tr>\n      <th>...</th>\n      <td>...</td>\n      <td>...</td>\n      <td>...</td>\n      <td>...</td>\n      <td>...</td>\n      <td>...</td>\n      <td>...</td>\n      <td>...</td>\n      <td>...</td>\n      <td>...</td>\n      <td>...</td>\n      <td>...</td>\n      <td>...</td>\n      <td>...</td>\n      <td>...</td>\n      <td>...</td>\n      <td>...</td>\n      <td>...</td>\n    </tr>\n    <tr>\n      <th>2010-03-06</th>\n      <td>Arsenal</td>\n      <td>Burnley</td>\n      <td>3</td>\n      <td>1</td>\n      <td>H</td>\n      <td>20</td>\n      <td>8</td>\n      <td>11</td>\n      <td>5</td>\n      <td>5</td>\n      <td>12</td>\n      <td>8</td>\n      <td>2</td>\n      <td>0</td>\n      <td>4</td>\n      <td>0</td>\n      <td>0</td>\n      <td>1</td>\n    </tr>\n    <tr>\n      <th>2010-03-20</th>\n      <td>Arsenal</td>\n      <td>West Ham</td>\n      <td>2</td>\n      <td>0</td>\n      <td>H</td>\n      <td>9</td>\n      <td>8</td>\n      <td>5</td>\n      <td>4</td>\n      <td>7</td>\n      <td>24</td>\n      <td>4</td>\n      <td>2</td>\n      <td>1</td>\n      <td>4</td>\n      <td>1</td>\n      <td>0</td>\n      <td>1</td>\n    </tr>\n    <tr>\n      <th>2010-04-03</th>\n      <td>Arsenal</td>\n      <td>Wolves</td>\n      <td>1</td>\n      <td>0</td>\n      <td>H</td>\n      <td>23</td>\n      <td>3</td>\n      <td>13</td>\n      <td>2</td>\n      <td>10</td>\n      <td>13</td>\n      <td>10</td>\n      <td>4</td>\n      <td>0</td>\n      <td>2</td>\n      <td>0</td>\n      <td>1</td>\n      <td>1</td>\n    </tr>\n    <tr>\n      <th>2010-04-24</th>\n      <td>Arsenal</td>\n      <td>Man City</td>\n      <td>0</td>\n      <td>0</td>\n      <td>D</td>\n      <td>9</td>\n      <td>3</td>\n      <td>4</td>\n      <td>2</td>\n      <td>13</td>\n      <td>14</td>\n      <td>5</td>\n      <td>1</td>\n      <td>4</td>\n      <td>2</td>\n      <td>0</td>\n      <td>0</td>\n      <td>1</td>\n    </tr>\n    <tr>\n      <th>2010-05-09</th>\n      <td>Arsenal</td>\n      <td>Fulham</td>\n      <td>4</td>\n      <td>0</td>\n      <td>H</td>\n      <td>16</td>\n      <td>5</td>\n      <td>11</td>\n      <td>2</td>\n      <td>11</td>\n      <td>10</td>\n      <td>5</td>\n      <td>2</td>\n      <td>2</td>\n      <td>2</td>\n      <td>0</td>\n      <td>0</td>\n      <td>1</td>\n    </tr>\n  </tbody>\n</table>\n<p>190 rows × 18 columns</p>\n</div>"
     },
     "metadata": {},
     "execution_count": 13
    }
   ],
   "source": [
    "test_team_home"
   ]
  },
  {
   "cell_type": "code",
   "execution_count": 14,
   "metadata": {},
   "outputs": [
    {
     "output_type": "execute_result",
     "data": {
      "text/plain": "35"
     },
     "metadata": {},
     "execution_count": 14
    }
   ],
   "source": [
    "len(test_team_home.AwayTeam.unique())"
   ]
  },
  {
   "cell_type": "code",
   "execution_count": 15,
   "metadata": {},
   "outputs": [],
   "source": [
    "team_home = game_stats[game_stats.HomeTeam == 'Man City']\n",
    "team_away = game_stats[game_stats.AwayTeam == 'Man City']"
   ]
  },
  {
   "cell_type": "code",
   "execution_count": 16,
   "metadata": {},
   "outputs": [
    {
     "output_type": "execute_result",
     "data": {
      "text/plain": "(247, 62, 71, True)"
     },
     "metadata": {},
     "execution_count": 16
    }
   ],
   "source": [
    "total_wins = np.sum(team_home.Final_Result == 'H') + np.sum(team_away.Final_Result == 'A')\n",
    "total_loss = np.sum(team_home.Final_Result == 'A') + np.sum(team_away.Final_Result == 'H')\n",
    "total_draw = np.sum(team_home.Final_Result == 'D') + np.sum(team_away.Final_Result == 'D')\n",
    "total_wins, total_loss, total_draw, total_wins+total_loss+total_draw == len(team_home+team_away)"
   ]
  },
  {
   "cell_type": "code",
   "execution_count": 17,
   "metadata": {},
   "outputs": [
    {
     "output_type": "execute_result",
     "data": {
      "text/plain": "array([10,  9,  8,  7,  6,  5,  4,  3,  2,  1])"
     },
     "metadata": {},
     "execution_count": 17
    }
   ],
   "source": [
    "game_stats.Season.unique()"
   ]
  },
  {
   "cell_type": "code",
   "execution_count": 18,
   "metadata": {},
   "outputs": [
    {
     "output_type": "execute_result",
     "data": {
      "text/plain": "1404"
     },
     "metadata": {},
     "execution_count": 18
    }
   ],
   "source": [
    "np.sum(game_stats[game_stats.Season <= 8].Final_Result == 'H')"
   ]
  },
  {
   "cell_type": "code",
   "execution_count": 19,
   "metadata": {},
   "outputs": [
    {
     "output_type": "execute_result",
     "data": {
      "text/plain": "64"
     },
     "metadata": {},
     "execution_count": 19
    }
   ],
   "source": [
    "np.sum(team_home[team_home.Season > 8].Final_Result == 'H') + np.sum(team_away[team_away.Season > 8].Final_Result == 'A')"
   ]
  },
  {
   "cell_type": "code",
   "execution_count": 20,
   "metadata": {},
   "outputs": [
    {
     "output_type": "execute_result",
     "data": {
      "text/plain": "247"
     },
     "metadata": {},
     "execution_count": 20
    }
   ],
   "source": [
    "64 + 183"
   ]
  },
  {
   "cell_type": "code",
   "execution_count": 21,
   "metadata": {},
   "outputs": [
    {
     "output_type": "execute_result",
     "data": {
      "text/plain": "183"
     },
     "metadata": {},
     "execution_count": 21
    }
   ],
   "source": [
    "np.sum(team_home[team_home.Season <=8].Final_Result == 'H') + np.sum(team_away[team_away.Season <=8].Final_Result == 'A')"
   ]
  },
  {
   "cell_type": "code",
   "execution_count": 22,
   "metadata": {},
   "outputs": [
    {
     "output_type": "execute_result",
     "data": {
      "text/plain": "247"
     },
     "metadata": {},
     "execution_count": 22
    }
   ],
   "source": [
    "total_wins"
   ]
  },
  {
   "cell_type": "code",
   "execution_count": 23,
   "metadata": {
    "tags": []
   },
   "outputs": [
    {
     "output_type": "stream",
     "name": "stdout",
     "text": "Team Win Percentage: 65.00%\nTeam Loss Percentage: 16.32%\nTeam Draw Percentage: 18.68%\n"
    }
   ],
   "source": [
    "# print('Seasons 09-17 win percentage)\n",
    "\n",
    "print('''Team Win Percentage: {0:0.2f}%\n",
    "Team Loss Percentage: {1:0.2f}%\n",
    "Team Draw Percentage: {2:0.2f}%'''.format((total_wins/len(team_home+team_away))*100, \n",
    "                                            (total_loss/len(team_home+team_away))*100,\n",
    "                                            (total_draw/len(team_home+team_away))*100))"
   ]
  },
  {
   "cell_type": "code",
   "execution_count": 24,
   "metadata": {},
   "outputs": [],
   "source": [
    "home_final_dummies = pd.get_dummies(team_home.Final_Result, prefix='Home_Final', drop_first=True)\n",
    "# home_half_dummies = pd.get_dummies(team_home.Half_Result, prefix='Home_Half', drop_first=True)"
   ]
  },
  {
   "cell_type": "code",
   "execution_count": 25,
   "metadata": {},
   "outputs": [
    {
     "output_type": "execute_result",
     "data": {
      "text/plain": "0    163\n1     27\nName: Home_Final_D, dtype: int64"
     },
     "metadata": {},
     "execution_count": 25
    }
   ],
   "source": [
    "home_final_dummies.Home_Final_D.value_counts()"
   ]
  },
  {
   "cell_type": "code",
   "execution_count": 26,
   "metadata": {},
   "outputs": [],
   "source": [
    "team_home = pd.concat([team_home, home_final_dummies], axis=1)"
   ]
  },
  {
   "cell_type": "code",
   "execution_count": 27,
   "metadata": {},
   "outputs": [],
   "source": [
    "away_final_dummies = pd.get_dummies(team_away.Final_Result, prefix='Away_Final')\n",
    "# away_half_dummies = pd.get_dummies(team_away.Half_Result, prefix='Away_Half', drop_first=True)"
   ]
  },
  {
   "cell_type": "code",
   "execution_count": 28,
   "metadata": {},
   "outputs": [
    {
     "output_type": "execute_result",
     "data": {
      "text/plain": "0    146\n1     44\nName: Away_Final_H, dtype: int64"
     },
     "metadata": {},
     "execution_count": 28
    }
   ],
   "source": [
    "away_final_dummies.Away_Final_H.value_counts()"
   ]
  },
  {
   "cell_type": "code",
   "execution_count": 29,
   "metadata": {
    "tags": []
   },
   "outputs": [
    {
     "output_type": "stream",
     "name": "stdout",
     "text": "<class 'pandas.core.frame.DataFrame'>\nDatetimeIndex: 190 entries, 2018-12-08 to 2010-05-09\nData columns (total 3 columns):\n #   Column        Non-Null Count  Dtype\n---  ------        --------------  -----\n 0   Away_Final_A  190 non-null    uint8\n 1   Away_Final_D  190 non-null    uint8\n 2   Away_Final_H  190 non-null    uint8\ndtypes: uint8(3)\nmemory usage: 7.0 KB\n"
    }
   ],
   "source": [
    "away_final_dummies.info()"
   ]
  },
  {
   "cell_type": "code",
   "execution_count": 30,
   "metadata": {},
   "outputs": [
    {
     "output_type": "execute_result",
     "data": {
      "text/plain": "            Away_Final_A  Away_Final_D  Away_Final_H\nDate                                                \n2018-12-08             1             0             0\n2018-08-25             0             1             0\n2018-09-22             1             0             0\n2018-07-10             0             1             0\n2018-10-29             1             0             0\n...                  ...           ...           ...\n2010-03-14             0             1             0\n2010-03-21             1             0             0\n2010-04-03             1             0             0\n2010-04-24             0             1             0\n2010-05-09             0             1             0\n\n[190 rows x 3 columns]",
      "text/html": "<div>\n<style scoped>\n    .dataframe tbody tr th:only-of-type {\n        vertical-align: middle;\n    }\n\n    .dataframe tbody tr th {\n        vertical-align: top;\n    }\n\n    .dataframe thead th {\n        text-align: right;\n    }\n</style>\n<table border=\"1\" class=\"dataframe\">\n  <thead>\n    <tr style=\"text-align: right;\">\n      <th></th>\n      <th>Away_Final_A</th>\n      <th>Away_Final_D</th>\n      <th>Away_Final_H</th>\n    </tr>\n    <tr>\n      <th>Date</th>\n      <th></th>\n      <th></th>\n      <th></th>\n    </tr>\n  </thead>\n  <tbody>\n    <tr>\n      <th>2018-12-08</th>\n      <td>1</td>\n      <td>0</td>\n      <td>0</td>\n    </tr>\n    <tr>\n      <th>2018-08-25</th>\n      <td>0</td>\n      <td>1</td>\n      <td>0</td>\n    </tr>\n    <tr>\n      <th>2018-09-22</th>\n      <td>1</td>\n      <td>0</td>\n      <td>0</td>\n    </tr>\n    <tr>\n      <th>2018-07-10</th>\n      <td>0</td>\n      <td>1</td>\n      <td>0</td>\n    </tr>\n    <tr>\n      <th>2018-10-29</th>\n      <td>1</td>\n      <td>0</td>\n      <td>0</td>\n    </tr>\n    <tr>\n      <th>...</th>\n      <td>...</td>\n      <td>...</td>\n      <td>...</td>\n    </tr>\n    <tr>\n      <th>2010-03-14</th>\n      <td>0</td>\n      <td>1</td>\n      <td>0</td>\n    </tr>\n    <tr>\n      <th>2010-03-21</th>\n      <td>1</td>\n      <td>0</td>\n      <td>0</td>\n    </tr>\n    <tr>\n      <th>2010-04-03</th>\n      <td>1</td>\n      <td>0</td>\n      <td>0</td>\n    </tr>\n    <tr>\n      <th>2010-04-24</th>\n      <td>0</td>\n      <td>1</td>\n      <td>0</td>\n    </tr>\n    <tr>\n      <th>2010-05-09</th>\n      <td>0</td>\n      <td>1</td>\n      <td>0</td>\n    </tr>\n  </tbody>\n</table>\n<p>190 rows × 3 columns</p>\n</div>"
     },
     "metadata": {},
     "execution_count": 30
    }
   ],
   "source": [
    "away_final_dummies"
   ]
  },
  {
   "cell_type": "code",
   "execution_count": 31,
   "metadata": {},
   "outputs": [
    {
     "output_type": "execute_result",
     "data": {
      "text/plain": "(array([0, 1], dtype=uint8), array([0, 1], dtype=uint8))"
     },
     "metadata": {},
     "execution_count": 31
    }
   ],
   "source": [
    "away_final_dummies.Away_Final_D.unique(), home_final_dummies.Home_Final_D.unique()"
   ]
  },
  {
   "cell_type": "code",
   "execution_count": 32,
   "metadata": {},
   "outputs": [],
   "source": [
    "team_away = pd.concat([team_away, away_final_dummies], axis=1)\n",
    "team_away.drop('Away_Final_H', axis=1, inplace=True)"
   ]
  },
  {
   "cell_type": "code",
   "execution_count": 33,
   "metadata": {},
   "outputs": [],
   "source": [
    "# rolling 10 game avg\n",
    "# manch_home['goals_SMA'] = manch_home.Final_Goals_H[::-1].rolling(10).mean()"
   ]
  },
  {
   "cell_type": "code",
   "execution_count": 34,
   "metadata": {
    "tags": []
   },
   "outputs": [
    {
     "output_type": "stream",
     "name": "stdout",
     "text": "<class 'pandas.core.frame.DataFrame'>\nDatetimeIndex: 190 entries, 2018-08-19 to 2010-05-05\nData columns (total 20 columns):\n #   Column          Non-Null Count  Dtype \n---  ------          --------------  ----- \n 0   HomeTeam        190 non-null    object\n 1   AwayTeam        190 non-null    object\n 2   Final_Goals_H   190 non-null    int64 \n 3   Final_Goals_A   190 non-null    int64 \n 4   Final_Result    190 non-null    object\n 5   Shots_H         190 non-null    int64 \n 6   Shots_A         190 non-null    int64 \n 7   Target_Shots_H  190 non-null    int64 \n 8   Target_Shots_A  190 non-null    int64 \n 9   Fouls_H         190 non-null    int64 \n 10  Fouls_A         190 non-null    int64 \n 11  Corners_H       190 non-null    int64 \n 12  Corners_A       190 non-null    int64 \n 13  Yellow_H        190 non-null    int64 \n 14  Yellow_A        190 non-null    int64 \n 15  Red_H           190 non-null    int64 \n 16  Red_A           190 non-null    int64 \n 17  Season          190 non-null    int64 \n 18  Home_Final_D    190 non-null    uint8 \n 19  Home_Final_H    190 non-null    uint8 \ndtypes: int64(15), object(3), uint8(2)\nmemory usage: 33.6+ KB\n"
    }
   ],
   "source": [
    "team_home.info()"
   ]
  },
  {
   "cell_type": "code",
   "execution_count": 35,
   "metadata": {
    "tags": []
   },
   "outputs": [
    {
     "output_type": "stream",
     "name": "stdout",
     "text": "<class 'pandas.core.frame.DataFrame'>\nDatetimeIndex: 190 entries, 2018-12-08 to 2010-05-09\nData columns (total 20 columns):\n #   Column          Non-Null Count  Dtype \n---  ------          --------------  ----- \n 0   HomeTeam        190 non-null    object\n 1   AwayTeam        190 non-null    object\n 2   Final_Goals_H   190 non-null    int64 \n 3   Final_Goals_A   190 non-null    int64 \n 4   Final_Result    190 non-null    object\n 5   Shots_H         190 non-null    int64 \n 6   Shots_A         190 non-null    int64 \n 7   Target_Shots_H  190 non-null    int64 \n 8   Target_Shots_A  190 non-null    int64 \n 9   Fouls_H         190 non-null    int64 \n 10  Fouls_A         190 non-null    int64 \n 11  Corners_H       190 non-null    int64 \n 12  Corners_A       190 non-null    int64 \n 13  Yellow_H        190 non-null    int64 \n 14  Yellow_A        190 non-null    int64 \n 15  Red_H           190 non-null    int64 \n 16  Red_A           190 non-null    int64 \n 17  Season          190 non-null    int64 \n 18  Away_Final_A    190 non-null    uint8 \n 19  Away_Final_D    190 non-null    uint8 \ndtypes: int64(15), object(3), uint8(2)\nmemory usage: 33.6+ KB\n"
    }
   ],
   "source": [
    "#concat to first dataframe, don't make a second\n",
    "team_away.info()"
   ]
  },
  {
   "cell_type": "markdown",
   "metadata": {},
   "source": [
    "# Instantiate Full Record DB"
   ]
  },
  {
   "cell_type": "code",
   "execution_count": 36,
   "metadata": {},
   "outputs": [],
   "source": [
    "full_record_list = [team_home, team_away]\n",
    "full_record = pd.concat(full_record_list)"
   ]
  },
  {
   "cell_type": "code",
   "execution_count": 37,
   "metadata": {},
   "outputs": [
    {
     "output_type": "execute_result",
     "data": {
      "text/plain": "(array([nan,  0.,  1.]), array([ 0.,  1., nan]))"
     },
     "metadata": {},
     "execution_count": 37
    }
   ],
   "source": [
    "full_record.Away_Final_D.unique(), full_record.Home_Final_D.unique()"
   ]
  },
  {
   "cell_type": "code",
   "execution_count": 38,
   "metadata": {},
   "outputs": [],
   "source": [
    "full_record.Home_Final_D.fillna(0, inplace=True)\n",
    "full_record.Away_Final_D.fillna(0, inplace=True)"
   ]
  },
  {
   "cell_type": "code",
   "execution_count": 39,
   "metadata": {},
   "outputs": [],
   "source": [
    "full_record.Home_Final_H.fillna(0, inplace=True)\n",
    "full_record.Away_Final_A.fillna(0, inplace=True)"
   ]
  },
  {
   "cell_type": "code",
   "execution_count": 40,
   "metadata": {},
   "outputs": [
    {
     "output_type": "execute_result",
     "data": {
      "text/plain": "(array([0., 1.]), array([0., 1.]))"
     },
     "metadata": {},
     "execution_count": 40
    }
   ],
   "source": [
    "full_record.Away_Final_D.unique(), full_record.Home_Final_D.unique()"
   ]
  },
  {
   "cell_type": "code",
   "execution_count": 41,
   "metadata": {},
   "outputs": [],
   "source": [
    "full_record['Final_D'] = full_record.Home_Final_D + full_record.Away_Final_D"
   ]
  },
  {
   "cell_type": "code",
   "execution_count": 42,
   "metadata": {},
   "outputs": [
    {
     "output_type": "execute_result",
     "data": {
      "text/plain": "array([0., 1.])"
     },
     "metadata": {},
     "execution_count": 42
    }
   ],
   "source": [
    "full_record.Final_D.unique()"
   ]
  },
  {
   "cell_type": "code",
   "execution_count": 43,
   "metadata": {},
   "outputs": [],
   "source": [
    "full_record.drop(['Home_Final_D', 'Away_Final_D'], axis=1, inplace=True)"
   ]
  },
  {
   "cell_type": "code",
   "execution_count": 44,
   "metadata": {
    "tags": []
   },
   "outputs": [
    {
     "output_type": "stream",
     "name": "stdout",
     "text": "<class 'pandas.core.frame.DataFrame'>\nDatetimeIndex: 380 entries, 2018-08-19 to 2010-05-09\nData columns (total 21 columns):\n #   Column          Non-Null Count  Dtype  \n---  ------          --------------  -----  \n 0   HomeTeam        380 non-null    object \n 1   AwayTeam        380 non-null    object \n 2   Final_Goals_H   380 non-null    int64  \n 3   Final_Goals_A   380 non-null    int64  \n 4   Final_Result    380 non-null    object \n 5   Shots_H         380 non-null    int64  \n 6   Shots_A         380 non-null    int64  \n 7   Target_Shots_H  380 non-null    int64  \n 8   Target_Shots_A  380 non-null    int64  \n 9   Fouls_H         380 non-null    int64  \n 10  Fouls_A         380 non-null    int64  \n 11  Corners_H       380 non-null    int64  \n 12  Corners_A       380 non-null    int64  \n 13  Yellow_H        380 non-null    int64  \n 14  Yellow_A        380 non-null    int64  \n 15  Red_H           380 non-null    int64  \n 16  Red_A           380 non-null    int64  \n 17  Season          380 non-null    int64  \n 18  Home_Final_H    380 non-null    float64\n 19  Away_Final_A    380 non-null    float64\n 20  Final_D         380 non-null    float64\ndtypes: float64(3), int64(15), object(3)\nmemory usage: 65.3+ KB\n"
    }
   ],
   "source": [
    "full_record.info()"
   ]
  },
  {
   "cell_type": "code",
   "execution_count": 45,
   "metadata": {},
   "outputs": [
    {
     "output_type": "execute_result",
     "data": {
      "text/plain": "DatetimeIndex(['2018-08-19', '2018-01-09', '2018-09-15', '2018-09-29',\n               '2018-10-20', '2018-04-11', '2018-11-11', '2018-01-12',\n               '2018-12-15', '2018-12-22',\n               ...\n               '2010-02-21', '2010-03-24', '2010-03-29', '2010-04-11',\n               '2010-04-17', '2010-05-01', '2010-05-05', '2018-12-08',\n               '2018-08-25', '2018-09-22'],\n              dtype='datetime64[ns]', name='Date', length=193, freq=None)"
     },
     "metadata": {},
     "execution_count": 45
    }
   ],
   "source": [
    "# prove time is out of order\n",
    "full_record.index[:193]"
   ]
  },
  {
   "cell_type": "code",
   "execution_count": 46,
   "metadata": {},
   "outputs": [],
   "source": [
    "full_record = full_record.sort_index()[::-1]"
   ]
  },
  {
   "cell_type": "code",
   "execution_count": 47,
   "metadata": {},
   "outputs": [],
   "source": [
    "# binary if team is home or not\n",
    "\n",
    "full_record['Home_Field_Advantage'] = np.where(full_record.HomeTeam == 'Man City', 1, 0)"
   ]
  },
  {
   "cell_type": "code",
   "execution_count": 48,
   "metadata": {},
   "outputs": [],
   "source": [
    "# full_record['Accum_home_reds'] = full_record.Red_A[full_record.HomeTeam == 'Man City'].rolling(10).sum()"
   ]
  },
  {
   "cell_type": "code",
   "execution_count": 49,
   "metadata": {},
   "outputs": [],
   "source": [
    "# full_record['Accum_away_reds'] = full_record.Red_A[full_record.AwayTeam == 'Man City'].rolling(10).sum()"
   ]
  },
  {
   "cell_type": "code",
   "execution_count": 50,
   "metadata": {
    "tags": []
   },
   "outputs": [
    {
     "output_type": "stream",
     "name": "stdout",
     "text": "<class 'pandas.core.frame.DataFrame'>\nDatetimeIndex: 380 entries, 2019-12-05 to 2009-08-15\nData columns (total 22 columns):\n #   Column                Non-Null Count  Dtype  \n---  ------                --------------  -----  \n 0   HomeTeam              380 non-null    object \n 1   AwayTeam              380 non-null    object \n 2   Final_Goals_H         380 non-null    int64  \n 3   Final_Goals_A         380 non-null    int64  \n 4   Final_Result          380 non-null    object \n 5   Shots_H               380 non-null    int64  \n 6   Shots_A               380 non-null    int64  \n 7   Target_Shots_H        380 non-null    int64  \n 8   Target_Shots_A        380 non-null    int64  \n 9   Fouls_H               380 non-null    int64  \n 10  Fouls_A               380 non-null    int64  \n 11  Corners_H             380 non-null    int64  \n 12  Corners_A             380 non-null    int64  \n 13  Yellow_H              380 non-null    int64  \n 14  Yellow_A              380 non-null    int64  \n 15  Red_H                 380 non-null    int64  \n 16  Red_A                 380 non-null    int64  \n 17  Season                380 non-null    int64  \n 18  Home_Final_H          380 non-null    float64\n 19  Away_Final_A          380 non-null    float64\n 20  Final_D               380 non-null    float64\n 21  Home_Field_Advantage  380 non-null    int64  \ndtypes: float64(3), int64(16), object(3)\nmemory usage: 68.3+ KB\n"
    }
   ],
   "source": [
    "full_record.info()"
   ]
  },
  {
   "cell_type": "code",
   "execution_count": 51,
   "metadata": {},
   "outputs": [],
   "source": [
    "full_record.drop(['HomeTeam', 'AwayTeam', 'Final_Result'], axis=1, inplace=True)"
   ]
  },
  {
   "cell_type": "code",
   "execution_count": 52,
   "metadata": {
    "tags": []
   },
   "outputs": [
    {
     "output_type": "stream",
     "name": "stdout",
     "text": "<class 'pandas.core.frame.DataFrame'>\nDatetimeIndex: 380 entries, 2019-12-05 to 2009-08-15\nData columns (total 19 columns):\n #   Column                Non-Null Count  Dtype  \n---  ------                --------------  -----  \n 0   Final_Goals_H         380 non-null    int64  \n 1   Final_Goals_A         380 non-null    int64  \n 2   Shots_H               380 non-null    int64  \n 3   Shots_A               380 non-null    int64  \n 4   Target_Shots_H        380 non-null    int64  \n 5   Target_Shots_A        380 non-null    int64  \n 6   Fouls_H               380 non-null    int64  \n 7   Fouls_A               380 non-null    int64  \n 8   Corners_H             380 non-null    int64  \n 9   Corners_A             380 non-null    int64  \n 10  Yellow_H              380 non-null    int64  \n 11  Yellow_A              380 non-null    int64  \n 12  Red_H                 380 non-null    int64  \n 13  Red_A                 380 non-null    int64  \n 14  Season                380 non-null    int64  \n 15  Home_Final_H          380 non-null    float64\n 16  Away_Final_A          380 non-null    float64\n 17  Final_D               380 non-null    float64\n 18  Home_Field_Advantage  380 non-null    int64  \ndtypes: float64(3), int64(16)\nmemory usage: 59.4 KB\n"
    }
   ],
   "source": [
    "full_record.info()"
   ]
  },
  {
   "cell_type": "code",
   "execution_count": 53,
   "metadata": {},
   "outputs": [],
   "source": [
    "mask = full_record.Home_Field_Advantage.astype(dtype='bool')\n",
    "# mask, ~mask"
   ]
  },
  {
   "cell_type": "code",
   "execution_count": 54,
   "metadata": {},
   "outputs": [],
   "source": [
    "# copy3 = full_record.copy()\n",
    "full_record.Home_Field_Advantage = full_record.Home_Field_Advantage.astype(dtype='bool')"
   ]
  },
  {
   "cell_type": "markdown",
   "metadata": {},
   "source": [
    "### convert back to int for training"
   ]
  },
  {
   "cell_type": "code",
   "execution_count": 55,
   "metadata": {},
   "outputs": [],
   "source": [
    "# df.Home_Field_Advantage = dfd.Home_Field_Advantage.astype(dtype='int64')\n",
    "# copy3.head()"
   ]
  },
  {
   "cell_type": "code",
   "execution_count": 56,
   "metadata": {},
   "outputs": [],
   "source": [
    "full_record['Shot_Accuracy_H'] = np.where(full_record.Home_Field_Advantage, full_record.Target_Shots_H/full_record.Shots_H, 0)"
   ]
  },
  {
   "cell_type": "code",
   "execution_count": 57,
   "metadata": {},
   "outputs": [],
   "source": [
    "full_record['Shot_Accuracy_A'] = np.where(~full_record.Home_Field_Advantage, full_record.Target_Shots_A/full_record.Shots_A, 0)"
   ]
  },
  {
   "cell_type": "code",
   "execution_count": 58,
   "metadata": {},
   "outputs": [
    {
     "output_type": "execute_result",
     "data": {
      "text/plain": "23"
     },
     "metadata": {},
     "execution_count": 58
    }
   ],
   "source": [
    "len(stat_features)"
   ]
  },
  {
   "cell_type": "code",
   "execution_count": 59,
   "metadata": {
    "tags": []
   },
   "outputs": [
    {
     "output_type": "stream",
     "name": "stdout",
     "text": "<class 'pandas.core.frame.DataFrame'>\nDatetimeIndex: 380 entries, 2019-12-05 to 2009-08-15\nData columns (total 21 columns):\n #   Column                Non-Null Count  Dtype  \n---  ------                --------------  -----  \n 0   Final_Goals_H         380 non-null    int64  \n 1   Final_Goals_A         380 non-null    int64  \n 2   Shots_H               380 non-null    int64  \n 3   Shots_A               380 non-null    int64  \n 4   Target_Shots_H        380 non-null    int64  \n 5   Target_Shots_A        380 non-null    int64  \n 6   Fouls_H               380 non-null    int64  \n 7   Fouls_A               380 non-null    int64  \n 8   Corners_H             380 non-null    int64  \n 9   Corners_A             380 non-null    int64  \n 10  Yellow_H              380 non-null    int64  \n 11  Yellow_A              380 non-null    int64  \n 12  Red_H                 380 non-null    int64  \n 13  Red_A                 380 non-null    int64  \n 14  Season                380 non-null    int64  \n 15  Home_Final_H          380 non-null    float64\n 16  Away_Final_A          380 non-null    float64\n 17  Final_D               380 non-null    float64\n 18  Home_Field_Advantage  380 non-null    bool   \n 19  Shot_Accuracy_H       380 non-null    float64\n 20  Shot_Accuracy_A       380 non-null    float64\ndtypes: bool(1), float64(5), int64(15)\nmemory usage: 62.7 KB\n"
    }
   ],
   "source": [
    "full_record.info()"
   ]
  },
  {
   "cell_type": "code",
   "execution_count": 60,
   "metadata": {},
   "outputs": [],
   "source": [
    "####'need more data engineering'\n",
    "# fig, ax = plt.subplots(figsize=(10,10))\n",
    "# reds = [full_record.Accum_home_reds, full_record.Accum_away_reds]\n",
    "\n",
    "# # ax.plot(full_record.Final_Goals_H);"
   ]
  },
  {
   "cell_type": "code",
   "execution_count": 61,
   "metadata": {},
   "outputs": [],
   "source": [
    "full_record.drop(['Shots_H', 'Shots_A', 'Target_Shots_H', 'Target_Shots_A'], axis=1, inplace=True)"
   ]
  },
  {
   "cell_type": "code",
   "execution_count": 62,
   "metadata": {},
   "outputs": [
    {
     "output_type": "execute_result",
     "data": {
      "text/plain": "(array([1, 6, 3, 0, 2, 5, 4, 7]),\n 1    98\n 0    89\n 2    85\n 3    57\n 4    29\n 5    13\n 6     7\n 7     2\n Name: Final_Goals_H, dtype: int64)"
     },
     "metadata": {},
     "execution_count": 62
    }
   ],
   "source": [
    "full_record.Final_Goals_H.unique(), full_record.Final_Goals_H.value_counts()"
   ]
  },
  {
   "cell_type": "code",
   "execution_count": 63,
   "metadata": {},
   "outputs": [
    {
     "output_type": "execute_result",
     "data": {
      "text/plain": "(array([1, 6, 3, 0, 2, 5, 4, 7]),\n 1    98\n 0    89\n 2    85\n 3    57\n 4    29\n 5    13\n 6     7\n 7     2\n Name: Final_Goals_H, dtype: int64)"
     },
     "metadata": {},
     "execution_count": 63
    }
   ],
   "source": [
    "full_record.Final_Goals_H.unique(), full_record.Final_Goals_H.value_counts()"
   ]
  },
  {
   "cell_type": "code",
   "execution_count": 64,
   "metadata": {
    "tags": []
   },
   "outputs": [
    {
     "output_type": "stream",
     "name": "stdout",
     "text": "<class 'pandas.core.frame.DataFrame'>\nDatetimeIndex: 380 entries, 2019-12-05 to 2009-08-15\nData columns (total 17 columns):\n #   Column                Non-Null Count  Dtype  \n---  ------                --------------  -----  \n 0   Final_Goals_H         380 non-null    int64  \n 1   Final_Goals_A         380 non-null    int64  \n 2   Fouls_H               380 non-null    int64  \n 3   Fouls_A               380 non-null    int64  \n 4   Corners_H             380 non-null    int64  \n 5   Corners_A             380 non-null    int64  \n 6   Yellow_H              380 non-null    int64  \n 7   Yellow_A              380 non-null    int64  \n 8   Red_H                 380 non-null    int64  \n 9   Red_A                 380 non-null    int64  \n 10  Season                380 non-null    int64  \n 11  Home_Final_H          380 non-null    float64\n 12  Away_Final_A          380 non-null    float64\n 13  Final_D               380 non-null    float64\n 14  Home_Field_Advantage  380 non-null    bool   \n 15  Shot_Accuracy_H       380 non-null    float64\n 16  Shot_Accuracy_A       380 non-null    float64\ndtypes: bool(1), float64(5), int64(11)\nmemory usage: 50.8 KB\n"
    }
   ],
   "source": [
    "full_record.info()"
   ]
  },
  {
   "cell_type": "markdown",
   "metadata": {},
   "source": [
    "# Create features that only pertain to team in question\n",
    "## Need to address 10 total features, 5 unique feature aspects"
   ]
  },
  {
   "cell_type": "markdown",
   "metadata": {},
   "source": [
    "## Final Goals"
   ]
  },
  {
   "cell_type": "code",
   "execution_count": 65,
   "metadata": {},
   "outputs": [],
   "source": [
    "full_record.Final_Goals_H = np.where(full_record.Home_Field_Advantage, full_record.Final_Goals_H, 0)"
   ]
  },
  {
   "cell_type": "code",
   "execution_count": 66,
   "metadata": {},
   "outputs": [],
   "source": [
    "full_record.Final_Goals_A = np.where(~full_record.Home_Field_Advantage, full_record.Final_Goals_A, 0)"
   ]
  },
  {
   "cell_type": "markdown",
   "metadata": {},
   "source": [
    "## Fouls"
   ]
  },
  {
   "cell_type": "code",
   "execution_count": 67,
   "metadata": {},
   "outputs": [],
   "source": [
    "full_record.Fouls_H = np.where(full_record.Home_Field_Advantage, full_record.Fouls_H, 0)"
   ]
  },
  {
   "cell_type": "code",
   "execution_count": 68,
   "metadata": {},
   "outputs": [],
   "source": [
    "full_record.Fouls_A = np.where(~full_record.Home_Field_Advantage, full_record.Fouls_A, 0)"
   ]
  },
  {
   "cell_type": "markdown",
   "metadata": {},
   "source": [
    "## Corners"
   ]
  },
  {
   "cell_type": "code",
   "execution_count": 69,
   "metadata": {},
   "outputs": [],
   "source": [
    "full_record.Corners_H = np.where(full_record.Home_Field_Advantage, full_record.Corners_H, 0)"
   ]
  },
  {
   "cell_type": "code",
   "execution_count": 70,
   "metadata": {},
   "outputs": [],
   "source": [
    "full_record.Corners_A = np.where(~full_record.Home_Field_Advantage, full_record.Corners_A, 0)"
   ]
  },
  {
   "cell_type": "markdown",
   "metadata": {},
   "source": [
    "## Yellows"
   ]
  },
  {
   "cell_type": "code",
   "execution_count": 71,
   "metadata": {},
   "outputs": [],
   "source": [
    "full_record.Yellow_H = np.where(full_record.Home_Field_Advantage, full_record.Yellow_H, 0)"
   ]
  },
  {
   "cell_type": "code",
   "execution_count": 72,
   "metadata": {},
   "outputs": [],
   "source": [
    "full_record.Yellow_A = np.where(~full_record.Home_Field_Advantage, full_record.Yellow_A, 0)"
   ]
  },
  {
   "cell_type": "markdown",
   "metadata": {},
   "source": [
    "## Reds"
   ]
  },
  {
   "cell_type": "code",
   "execution_count": 73,
   "metadata": {},
   "outputs": [],
   "source": [
    "full_record.Red_H = np.where(full_record.Home_Field_Advantage, full_record.Red_H, 0)"
   ]
  },
  {
   "cell_type": "code",
   "execution_count": 74,
   "metadata": {},
   "outputs": [],
   "source": [
    "full_record.Red_A = np.where(~full_record.Home_Field_Advantage, full_record.Red_A, 0)"
   ]
  },
  {
   "cell_type": "markdown",
   "metadata": {},
   "source": [
    "# new df"
   ]
  },
  {
   "cell_type": "code",
   "execution_count": 75,
   "metadata": {},
   "outputs": [
    {
     "output_type": "execute_result",
     "data": {
      "text/plain": "            Final_Goals_H  Final_Goals_A  Fouls_H  Fouls_A  Corners_H  \\\nDate                                                                    \n2019-12-05              0              4        0        8          0   \n2019-10-02              6              0        9        0          2   \n2019-09-03              3              0       11        0          9   \n2019-06-05              1              0       12        0         11   \n2019-06-02              0              2        0        6          0   \n\n            Corners_A  Yellow_H  Yellow_A  Red_H  Red_A  Season  Home_Final_H  \\\nDate                                                                            \n2019-12-05          6         0         0      0      0      10           0.0   \n2019-10-02          0         1         0      0      0      10           1.0   \n2019-09-03          0         1         0      0      0      10           1.0   \n2019-06-05          0         3         0      0      0      10           1.0   \n2019-06-02          6         0         1      0      0      10           0.0   \n\n            Away_Final_A  Final_D  Home_Field_Advantage  Shot_Accuracy_H  \\\nDate                                                                       \n2019-12-05           1.0      0.0                 False         0.000000   \n2019-10-02           0.0      0.0                  True         0.600000   \n2019-09-03           0.0      0.0                  True         0.473684   \n2019-06-05           0.0      0.0                  True         0.263158   \n2019-06-02           1.0      0.0                 False         0.000000   \n\n            Shot_Accuracy_A  \nDate                         \n2019-12-05         0.450000  \n2019-10-02         0.000000  \n2019-09-03         0.000000  \n2019-06-05         0.000000  \n2019-06-02         0.266667  ",
      "text/html": "<div>\n<style scoped>\n    .dataframe tbody tr th:only-of-type {\n        vertical-align: middle;\n    }\n\n    .dataframe tbody tr th {\n        vertical-align: top;\n    }\n\n    .dataframe thead th {\n        text-align: right;\n    }\n</style>\n<table border=\"1\" class=\"dataframe\">\n  <thead>\n    <tr style=\"text-align: right;\">\n      <th></th>\n      <th>Final_Goals_H</th>\n      <th>Final_Goals_A</th>\n      <th>Fouls_H</th>\n      <th>Fouls_A</th>\n      <th>Corners_H</th>\n      <th>Corners_A</th>\n      <th>Yellow_H</th>\n      <th>Yellow_A</th>\n      <th>Red_H</th>\n      <th>Red_A</th>\n      <th>Season</th>\n      <th>Home_Final_H</th>\n      <th>Away_Final_A</th>\n      <th>Final_D</th>\n      <th>Home_Field_Advantage</th>\n      <th>Shot_Accuracy_H</th>\n      <th>Shot_Accuracy_A</th>\n    </tr>\n    <tr>\n      <th>Date</th>\n      <th></th>\n      <th></th>\n      <th></th>\n      <th></th>\n      <th></th>\n      <th></th>\n      <th></th>\n      <th></th>\n      <th></th>\n      <th></th>\n      <th></th>\n      <th></th>\n      <th></th>\n      <th></th>\n      <th></th>\n      <th></th>\n      <th></th>\n    </tr>\n  </thead>\n  <tbody>\n    <tr>\n      <th>2019-12-05</th>\n      <td>0</td>\n      <td>4</td>\n      <td>0</td>\n      <td>8</td>\n      <td>0</td>\n      <td>6</td>\n      <td>0</td>\n      <td>0</td>\n      <td>0</td>\n      <td>0</td>\n      <td>10</td>\n      <td>0.0</td>\n      <td>1.0</td>\n      <td>0.0</td>\n      <td>False</td>\n      <td>0.000000</td>\n      <td>0.450000</td>\n    </tr>\n    <tr>\n      <th>2019-10-02</th>\n      <td>6</td>\n      <td>0</td>\n      <td>9</td>\n      <td>0</td>\n      <td>2</td>\n      <td>0</td>\n      <td>1</td>\n      <td>0</td>\n      <td>0</td>\n      <td>0</td>\n      <td>10</td>\n      <td>1.0</td>\n      <td>0.0</td>\n      <td>0.0</td>\n      <td>True</td>\n      <td>0.600000</td>\n      <td>0.000000</td>\n    </tr>\n    <tr>\n      <th>2019-09-03</th>\n      <td>3</td>\n      <td>0</td>\n      <td>11</td>\n      <td>0</td>\n      <td>9</td>\n      <td>0</td>\n      <td>1</td>\n      <td>0</td>\n      <td>0</td>\n      <td>0</td>\n      <td>10</td>\n      <td>1.0</td>\n      <td>0.0</td>\n      <td>0.0</td>\n      <td>True</td>\n      <td>0.473684</td>\n      <td>0.000000</td>\n    </tr>\n    <tr>\n      <th>2019-06-05</th>\n      <td>1</td>\n      <td>0</td>\n      <td>12</td>\n      <td>0</td>\n      <td>11</td>\n      <td>0</td>\n      <td>3</td>\n      <td>0</td>\n      <td>0</td>\n      <td>0</td>\n      <td>10</td>\n      <td>1.0</td>\n      <td>0.0</td>\n      <td>0.0</td>\n      <td>True</td>\n      <td>0.263158</td>\n      <td>0.000000</td>\n    </tr>\n    <tr>\n      <th>2019-06-02</th>\n      <td>0</td>\n      <td>2</td>\n      <td>0</td>\n      <td>6</td>\n      <td>0</td>\n      <td>6</td>\n      <td>0</td>\n      <td>1</td>\n      <td>0</td>\n      <td>0</td>\n      <td>10</td>\n      <td>0.0</td>\n      <td>1.0</td>\n      <td>0.0</td>\n      <td>False</td>\n      <td>0.000000</td>\n      <td>0.266667</td>\n    </tr>\n  </tbody>\n</table>\n</div>"
     },
     "metadata": {},
     "execution_count": 75
    }
   ],
   "source": [
    "full_record.head()"
   ]
  },
  {
   "cell_type": "code",
   "execution_count": 76,
   "metadata": {
    "tags": []
   },
   "outputs": [
    {
     "output_type": "stream",
     "name": "stdout",
     "text": "<class 'pandas.core.frame.DataFrame'>\nDatetimeIndex: 380 entries, 2019-12-05 to 2009-08-15\nData columns (total 17 columns):\n #   Column                Non-Null Count  Dtype  \n---  ------                --------------  -----  \n 0   Final_Goals_H         380 non-null    int64  \n 1   Final_Goals_A         380 non-null    int64  \n 2   Fouls_H               380 non-null    int64  \n 3   Fouls_A               380 non-null    int64  \n 4   Corners_H             380 non-null    int64  \n 5   Corners_A             380 non-null    int64  \n 6   Yellow_H              380 non-null    int64  \n 7   Yellow_A              380 non-null    int64  \n 8   Red_H                 380 non-null    int64  \n 9   Red_A                 380 non-null    int64  \n 10  Season                380 non-null    int64  \n 11  Home_Final_H          380 non-null    float64\n 12  Away_Final_A          380 non-null    float64\n 13  Final_D               380 non-null    float64\n 14  Home_Field_Advantage  380 non-null    bool   \n 15  Shot_Accuracy_H       380 non-null    float64\n 16  Shot_Accuracy_A       380 non-null    float64\ndtypes: bool(1), float64(5), int64(11)\nmemory usage: 50.8 KB\n"
    }
   ],
   "source": [
    "full_record.info()"
   ]
  },
  {
   "cell_type": "code",
   "execution_count": 77,
   "metadata": {},
   "outputs": [
    {
     "output_type": "execute_result",
     "data": {
      "text/plain": "17"
     },
     "metadata": {},
     "execution_count": 77
    }
   ],
   "source": [
    "eng_feature_list = ['home_goals', 'away_goals', 'home_fouls', 'away_fouls', 'home_corners', 'away_corners', 'home_yellows', 'away_yellows', 'home_reds', 'away_reds', 'season_num', 'home_win', 'away_win', 'draw', 'home_field_advantage', 'home_on_target_accuracy', 'away_on_target_accuracy']\n",
    "len(eng_feature_list)"
   ]
  },
  {
   "cell_type": "code",
   "execution_count": 78,
   "metadata": {},
   "outputs": [
    {
     "output_type": "execute_result",
     "data": {
      "text/plain": "17"
     },
     "metadata": {},
     "execution_count": 78
    }
   ],
   "source": [
    "ordered_eng_feature_list = ['home_field_advantage', 'home_goals', 'away_goals','home_on_target_accuracy', 'away_on_target_accuracy', 'home_fouls', 'away_fouls', 'home_reds', 'away_reds', 'home_yellows','away_yellows', 'home_win', 'away_win', 'draw', 'home_corners', 'away_corners', 'season_num']\n",
    "len(ordered_eng_feature_list)"
   ]
  },
  {
   "cell_type": "code",
   "execution_count": 79,
   "metadata": {
    "tags": []
   },
   "outputs": [],
   "source": [
    "# copy = full_record.copy()\n",
    "full_record.columns = eng_feature_list\n",
    "# copy.info()"
   ]
  },
  {
   "cell_type": "code",
   "execution_count": 80,
   "metadata": {},
   "outputs": [],
   "source": [
    "full_record = full_record[ordered_eng_feature_list]"
   ]
  },
  {
   "cell_type": "code",
   "execution_count": 81,
   "metadata": {
    "tags": []
   },
   "outputs": [
    {
     "output_type": "stream",
     "name": "stdout",
     "text": "<class 'pandas.core.frame.DataFrame'>\nDatetimeIndex: 380 entries, 2019-12-05 to 2009-08-15\nData columns (total 17 columns):\n #   Column                   Non-Null Count  Dtype  \n---  ------                   --------------  -----  \n 0   home_field_advantage     380 non-null    bool   \n 1   home_goals               380 non-null    int64  \n 2   away_goals               380 non-null    int64  \n 3   home_on_target_accuracy  380 non-null    float64\n 4   away_on_target_accuracy  380 non-null    float64\n 5   home_fouls               380 non-null    int64  \n 6   away_fouls               380 non-null    int64  \n 7   home_reds                380 non-null    int64  \n 8   away_reds                380 non-null    int64  \n 9   home_yellows             380 non-null    int64  \n 10  away_yellows             380 non-null    int64  \n 11  home_win                 380 non-null    float64\n 12  away_win                 380 non-null    float64\n 13  draw                     380 non-null    float64\n 14  home_corners             380 non-null    int64  \n 15  away_corners             380 non-null    int64  \n 16  season_num               380 non-null    int64  \ndtypes: bool(1), float64(5), int64(11)\nmemory usage: 50.8 KB\n"
    }
   ],
   "source": [
    "full_record.info()"
   ]
  },
  {
   "cell_type": "code",
   "execution_count": 82,
   "metadata": {},
   "outputs": [
    {
     "output_type": "execute_result",
     "data": {
      "text/plain": "            home_field_advantage  home_goals  away_goals  \\\nDate                                                       \n2019-12-05                 False           0           4   \n2019-10-02                  True           6           0   \n2019-09-03                  True           3           0   \n2019-06-05                  True           1           0   \n2019-06-02                 False           0           2   \n\n            home_on_target_accuracy  away_on_target_accuracy  home_fouls  \\\nDate                                                                       \n2019-12-05                 0.000000                 0.450000           0   \n2019-10-02                 0.600000                 0.000000           9   \n2019-09-03                 0.473684                 0.000000          11   \n2019-06-05                 0.263158                 0.000000          12   \n2019-06-02                 0.000000                 0.266667           0   \n\n            away_fouls  home_reds  away_reds  home_yellows  away_yellows  \\\nDate                                                                       \n2019-12-05           8          0          0             0             0   \n2019-10-02           0          0          0             1             0   \n2019-09-03           0          0          0             1             0   \n2019-06-05           0          0          0             3             0   \n2019-06-02           6          0          0             0             1   \n\n            home_win  away_win  draw  home_corners  away_corners  season_num  \nDate                                                                          \n2019-12-05       0.0       1.0   0.0             0             6          10  \n2019-10-02       1.0       0.0   0.0             2             0          10  \n2019-09-03       1.0       0.0   0.0             9             0          10  \n2019-06-05       1.0       0.0   0.0            11             0          10  \n2019-06-02       0.0       1.0   0.0             0             6          10  ",
      "text/html": "<div>\n<style scoped>\n    .dataframe tbody tr th:only-of-type {\n        vertical-align: middle;\n    }\n\n    .dataframe tbody tr th {\n        vertical-align: top;\n    }\n\n    .dataframe thead th {\n        text-align: right;\n    }\n</style>\n<table border=\"1\" class=\"dataframe\">\n  <thead>\n    <tr style=\"text-align: right;\">\n      <th></th>\n      <th>home_field_advantage</th>\n      <th>home_goals</th>\n      <th>away_goals</th>\n      <th>home_on_target_accuracy</th>\n      <th>away_on_target_accuracy</th>\n      <th>home_fouls</th>\n      <th>away_fouls</th>\n      <th>home_reds</th>\n      <th>away_reds</th>\n      <th>home_yellows</th>\n      <th>away_yellows</th>\n      <th>home_win</th>\n      <th>away_win</th>\n      <th>draw</th>\n      <th>home_corners</th>\n      <th>away_corners</th>\n      <th>season_num</th>\n    </tr>\n    <tr>\n      <th>Date</th>\n      <th></th>\n      <th></th>\n      <th></th>\n      <th></th>\n      <th></th>\n      <th></th>\n      <th></th>\n      <th></th>\n      <th></th>\n      <th></th>\n      <th></th>\n      <th></th>\n      <th></th>\n      <th></th>\n      <th></th>\n      <th></th>\n      <th></th>\n    </tr>\n  </thead>\n  <tbody>\n    <tr>\n      <th>2019-12-05</th>\n      <td>False</td>\n      <td>0</td>\n      <td>4</td>\n      <td>0.000000</td>\n      <td>0.450000</td>\n      <td>0</td>\n      <td>8</td>\n      <td>0</td>\n      <td>0</td>\n      <td>0</td>\n      <td>0</td>\n      <td>0.0</td>\n      <td>1.0</td>\n      <td>0.0</td>\n      <td>0</td>\n      <td>6</td>\n      <td>10</td>\n    </tr>\n    <tr>\n      <th>2019-10-02</th>\n      <td>True</td>\n      <td>6</td>\n      <td>0</td>\n      <td>0.600000</td>\n      <td>0.000000</td>\n      <td>9</td>\n      <td>0</td>\n      <td>0</td>\n      <td>0</td>\n      <td>1</td>\n      <td>0</td>\n      <td>1.0</td>\n      <td>0.0</td>\n      <td>0.0</td>\n      <td>2</td>\n      <td>0</td>\n      <td>10</td>\n    </tr>\n    <tr>\n      <th>2019-09-03</th>\n      <td>True</td>\n      <td>3</td>\n      <td>0</td>\n      <td>0.473684</td>\n      <td>0.000000</td>\n      <td>11</td>\n      <td>0</td>\n      <td>0</td>\n      <td>0</td>\n      <td>1</td>\n      <td>0</td>\n      <td>1.0</td>\n      <td>0.0</td>\n      <td>0.0</td>\n      <td>9</td>\n      <td>0</td>\n      <td>10</td>\n    </tr>\n    <tr>\n      <th>2019-06-05</th>\n      <td>True</td>\n      <td>1</td>\n      <td>0</td>\n      <td>0.263158</td>\n      <td>0.000000</td>\n      <td>12</td>\n      <td>0</td>\n      <td>0</td>\n      <td>0</td>\n      <td>3</td>\n      <td>0</td>\n      <td>1.0</td>\n      <td>0.0</td>\n      <td>0.0</td>\n      <td>11</td>\n      <td>0</td>\n      <td>10</td>\n    </tr>\n    <tr>\n      <th>2019-06-02</th>\n      <td>False</td>\n      <td>0</td>\n      <td>2</td>\n      <td>0.000000</td>\n      <td>0.266667</td>\n      <td>0</td>\n      <td>6</td>\n      <td>0</td>\n      <td>0</td>\n      <td>0</td>\n      <td>1</td>\n      <td>0.0</td>\n      <td>1.0</td>\n      <td>0.0</td>\n      <td>0</td>\n      <td>6</td>\n      <td>10</td>\n    </tr>\n  </tbody>\n</table>\n</div>"
     },
     "metadata": {},
     "execution_count": 82
    }
   ],
   "source": [
    "full_record.head()"
   ]
  },
  {
   "cell_type": "code",
   "execution_count": 83,
   "metadata": {},
   "outputs": [
    {
     "output_type": "execute_result",
     "data": {
      "text/plain": "<matplotlib.axes._subplots.AxesSubplot at 0x7fb620ba6cd0>"
     },
     "metadata": {},
     "execution_count": 83
    },
    {
     "output_type": "display_data",
     "data": {
      "text/plain": "<Figure size 432x288 with 1 Axes>",
      "image/svg+xml": "<?xml version=\"1.0\" encoding=\"utf-8\" standalone=\"no\"?>\n<!DOCTYPE svg PUBLIC \"-//W3C//DTD SVG 1.1//EN\"\n  \"http://www.w3.org/Graphics/SVG/1.1/DTD/svg11.dtd\">\n<!-- Created with matplotlib (https://matplotlib.org/) -->\n<svg height=\"252.024627pt\" version=\"1.1\" viewBox=\"0 0 378.465625 252.024627\" width=\"378.465625pt\" xmlns=\"http://www.w3.org/2000/svg\" xmlns:xlink=\"http://www.w3.org/1999/xlink\">\n <defs>\n  <style type=\"text/css\">\n*{stroke-linecap:butt;stroke-linejoin:round;}\n  </style>\n </defs>\n <g id=\"figure_1\">\n  <g id=\"patch_1\">\n   <path d=\"M 0 252.024627 \nL 378.465625 252.024627 \nL 378.465625 0 \nL 0 0 \nz\n\" style=\"fill:none;\"/>\n  </g>\n  <g id=\"axes_1\">\n   <g id=\"patch_2\">\n    <path d=\"M 36.465625 203.04 \nL 371.265625 203.04 \nL 371.265625 7.2 \nL 36.465625 7.2 \nz\n\" style=\"fill:#ffffff;\"/>\n   </g>\n   <g id=\"matplotlib.axis_1\">\n    <g id=\"xtick_1\">\n     <g id=\"line2d_1\">\n      <defs>\n       <path d=\"M 0 0 \nL 0 3.5 \n\" id=\"me7c66846a5\" style=\"stroke:#000000;stroke-width:0.8;\"/>\n      </defs>\n      <g>\n       <use style=\"stroke:#000000;stroke-width:0.8;\" x=\"62.562767\" xlink:href=\"#me7c66846a5\" y=\"203.04\"/>\n      </g>\n     </g>\n     <g id=\"text_1\">\n      <!-- 2010 -->\n      <defs>\n       <path d=\"M 19.1875 8.296875 \nL 53.609375 8.296875 \nL 53.609375 0 \nL 7.328125 0 \nL 7.328125 8.296875 \nQ 12.9375 14.109375 22.625 23.890625 \nQ 32.328125 33.6875 34.8125 36.53125 \nQ 39.546875 41.84375 41.421875 45.53125 \nQ 43.3125 49.21875 43.3125 52.78125 \nQ 43.3125 58.59375 39.234375 62.25 \nQ 35.15625 65.921875 28.609375 65.921875 \nQ 23.96875 65.921875 18.8125 64.3125 \nQ 13.671875 62.703125 7.8125 59.421875 \nL 7.8125 69.390625 \nQ 13.765625 71.78125 18.9375 73 \nQ 24.125 74.21875 28.421875 74.21875 \nQ 39.75 74.21875 46.484375 68.546875 \nQ 53.21875 62.890625 53.21875 53.421875 \nQ 53.21875 48.921875 51.53125 44.890625 \nQ 49.859375 40.875 45.40625 35.40625 \nQ 44.1875 33.984375 37.640625 27.21875 \nQ 31.109375 20.453125 19.1875 8.296875 \nz\n\" id=\"DejaVuSans-50\"/>\n       <path d=\"M 31.78125 66.40625 \nQ 24.171875 66.40625 20.328125 58.90625 \nQ 16.5 51.421875 16.5 36.375 \nQ 16.5 21.390625 20.328125 13.890625 \nQ 24.171875 6.390625 31.78125 6.390625 \nQ 39.453125 6.390625 43.28125 13.890625 \nQ 47.125 21.390625 47.125 36.375 \nQ 47.125 51.421875 43.28125 58.90625 \nQ 39.453125 66.40625 31.78125 66.40625 \nz\nM 31.78125 74.21875 \nQ 44.046875 74.21875 50.515625 64.515625 \nQ 56.984375 54.828125 56.984375 36.375 \nQ 56.984375 17.96875 50.515625 8.265625 \nQ 44.046875 -1.421875 31.78125 -1.421875 \nQ 19.53125 -1.421875 13.0625 8.265625 \nQ 6.59375 17.96875 6.59375 36.375 \nQ 6.59375 54.828125 13.0625 64.515625 \nQ 19.53125 74.21875 31.78125 74.21875 \nz\n\" id=\"DejaVuSans-48\"/>\n       <path d=\"M 12.40625 8.296875 \nL 28.515625 8.296875 \nL 28.515625 63.921875 \nL 10.984375 60.40625 \nL 10.984375 69.390625 \nL 28.421875 72.90625 \nL 38.28125 72.90625 \nL 38.28125 8.296875 \nL 54.390625 8.296875 \nL 54.390625 0 \nL 12.40625 0 \nz\n\" id=\"DejaVuSans-49\"/>\n      </defs>\n      <g transform=\"translate(39.482577 229.34544)rotate(-30)scale(0.1 -0.1)\">\n       <use xlink:href=\"#DejaVuSans-50\"/>\n       <use x=\"63.623047\" xlink:href=\"#DejaVuSans-48\"/>\n       <use x=\"127.246094\" xlink:href=\"#DejaVuSans-49\"/>\n       <use x=\"190.869141\" xlink:href=\"#DejaVuSans-48\"/>\n      </g>\n     </g>\n    </g>\n    <g id=\"xtick_2\">\n     <g id=\"line2d_2\">\n      <g>\n       <use style=\"stroke:#000000;stroke-width:0.8;\" x=\"122.726714\" xlink:href=\"#me7c66846a5\" y=\"203.04\"/>\n      </g>\n     </g>\n     <g id=\"text_2\">\n      <!-- 2012 -->\n      <g transform=\"translate(99.646523 229.34544)rotate(-30)scale(0.1 -0.1)\">\n       <use xlink:href=\"#DejaVuSans-50\"/>\n       <use x=\"63.623047\" xlink:href=\"#DejaVuSans-48\"/>\n       <use x=\"127.246094\" xlink:href=\"#DejaVuSans-49\"/>\n       <use x=\"190.869141\" xlink:href=\"#DejaVuSans-50\"/>\n      </g>\n     </g>\n    </g>\n    <g id=\"xtick_3\">\n     <g id=\"line2d_3\">\n      <g>\n       <use style=\"stroke:#000000;stroke-width:0.8;\" x=\"182.973076\" xlink:href=\"#me7c66846a5\" y=\"203.04\"/>\n      </g>\n     </g>\n     <g id=\"text_3\">\n      <!-- 2014 -->\n      <defs>\n       <path d=\"M 37.796875 64.3125 \nL 12.890625 25.390625 \nL 37.796875 25.390625 \nz\nM 35.203125 72.90625 \nL 47.609375 72.90625 \nL 47.609375 25.390625 \nL 58.015625 25.390625 \nL 58.015625 17.1875 \nL 47.609375 17.1875 \nL 47.609375 0 \nL 37.796875 0 \nL 37.796875 17.1875 \nL 4.890625 17.1875 \nL 4.890625 26.703125 \nz\n\" id=\"DejaVuSans-52\"/>\n      </defs>\n      <g transform=\"translate(159.892886 229.34544)rotate(-30)scale(0.1 -0.1)\">\n       <use xlink:href=\"#DejaVuSans-50\"/>\n       <use x=\"63.623047\" xlink:href=\"#DejaVuSans-48\"/>\n       <use x=\"127.246094\" xlink:href=\"#DejaVuSans-49\"/>\n       <use x=\"190.869141\" xlink:href=\"#DejaVuSans-52\"/>\n      </g>\n     </g>\n    </g>\n    <g id=\"xtick_4\">\n     <g id=\"line2d_4\">\n      <g>\n       <use style=\"stroke:#000000;stroke-width:0.8;\" x=\"243.137023\" xlink:href=\"#me7c66846a5\" y=\"203.04\"/>\n      </g>\n     </g>\n     <g id=\"text_4\">\n      <!-- 2016 -->\n      <defs>\n       <path d=\"M 33.015625 40.375 \nQ 26.375 40.375 22.484375 35.828125 \nQ 18.609375 31.296875 18.609375 23.390625 \nQ 18.609375 15.53125 22.484375 10.953125 \nQ 26.375 6.390625 33.015625 6.390625 \nQ 39.65625 6.390625 43.53125 10.953125 \nQ 47.40625 15.53125 47.40625 23.390625 \nQ 47.40625 31.296875 43.53125 35.828125 \nQ 39.65625 40.375 33.015625 40.375 \nz\nM 52.59375 71.296875 \nL 52.59375 62.3125 \nQ 48.875 64.0625 45.09375 64.984375 \nQ 41.3125 65.921875 37.59375 65.921875 \nQ 27.828125 65.921875 22.671875 59.328125 \nQ 17.53125 52.734375 16.796875 39.40625 \nQ 19.671875 43.65625 24.015625 45.921875 \nQ 28.375 48.1875 33.59375 48.1875 \nQ 44.578125 48.1875 50.953125 41.515625 \nQ 57.328125 34.859375 57.328125 23.390625 \nQ 57.328125 12.15625 50.6875 5.359375 \nQ 44.046875 -1.421875 33.015625 -1.421875 \nQ 20.359375 -1.421875 13.671875 8.265625 \nQ 6.984375 17.96875 6.984375 36.375 \nQ 6.984375 53.65625 15.1875 63.9375 \nQ 23.390625 74.21875 37.203125 74.21875 \nQ 40.921875 74.21875 44.703125 73.484375 \nQ 48.484375 72.75 52.59375 71.296875 \nz\n\" id=\"DejaVuSans-54\"/>\n      </defs>\n      <g transform=\"translate(220.056833 229.34544)rotate(-30)scale(0.1 -0.1)\">\n       <use xlink:href=\"#DejaVuSans-50\"/>\n       <use x=\"63.623047\" xlink:href=\"#DejaVuSans-48\"/>\n       <use x=\"127.246094\" xlink:href=\"#DejaVuSans-49\"/>\n       <use x=\"190.869141\" xlink:href=\"#DejaVuSans-54\"/>\n      </g>\n     </g>\n    </g>\n    <g id=\"xtick_5\">\n     <g id=\"line2d_5\">\n      <g>\n       <use style=\"stroke:#000000;stroke-width:0.8;\" x=\"303.383386\" xlink:href=\"#me7c66846a5\" y=\"203.04\"/>\n      </g>\n     </g>\n     <g id=\"text_5\">\n      <!-- 2018 -->\n      <defs>\n       <path d=\"M 31.78125 34.625 \nQ 24.75 34.625 20.71875 30.859375 \nQ 16.703125 27.09375 16.703125 20.515625 \nQ 16.703125 13.921875 20.71875 10.15625 \nQ 24.75 6.390625 31.78125 6.390625 \nQ 38.8125 6.390625 42.859375 10.171875 \nQ 46.921875 13.96875 46.921875 20.515625 \nQ 46.921875 27.09375 42.890625 30.859375 \nQ 38.875 34.625 31.78125 34.625 \nz\nM 21.921875 38.8125 \nQ 15.578125 40.375 12.03125 44.71875 \nQ 8.5 49.078125 8.5 55.328125 \nQ 8.5 64.0625 14.71875 69.140625 \nQ 20.953125 74.21875 31.78125 74.21875 \nQ 42.671875 74.21875 48.875 69.140625 \nQ 55.078125 64.0625 55.078125 55.328125 \nQ 55.078125 49.078125 51.53125 44.71875 \nQ 48 40.375 41.703125 38.8125 \nQ 48.828125 37.15625 52.796875 32.3125 \nQ 56.78125 27.484375 56.78125 20.515625 \nQ 56.78125 9.90625 50.3125 4.234375 \nQ 43.84375 -1.421875 31.78125 -1.421875 \nQ 19.734375 -1.421875 13.25 4.234375 \nQ 6.78125 9.90625 6.78125 20.515625 \nQ 6.78125 27.484375 10.78125 32.3125 \nQ 14.796875 37.15625 21.921875 38.8125 \nz\nM 18.3125 54.390625 \nQ 18.3125 48.734375 21.84375 45.5625 \nQ 25.390625 42.390625 31.78125 42.390625 \nQ 38.140625 42.390625 41.71875 45.5625 \nQ 45.3125 48.734375 45.3125 54.390625 \nQ 45.3125 60.0625 41.71875 63.234375 \nQ 38.140625 66.40625 31.78125 66.40625 \nQ 25.390625 66.40625 21.84375 63.234375 \nQ 18.3125 60.0625 18.3125 54.390625 \nz\n\" id=\"DejaVuSans-56\"/>\n      </defs>\n      <g transform=\"translate(280.303196 229.34544)rotate(-30)scale(0.1 -0.1)\">\n       <use xlink:href=\"#DejaVuSans-50\"/>\n       <use x=\"63.623047\" xlink:href=\"#DejaVuSans-48\"/>\n       <use x=\"127.246094\" xlink:href=\"#DejaVuSans-49\"/>\n       <use x=\"190.869141\" xlink:href=\"#DejaVuSans-56\"/>\n      </g>\n     </g>\n    </g>\n    <g id=\"xtick_6\">\n     <g id=\"line2d_6\">\n      <g>\n       <use style=\"stroke:#000000;stroke-width:0.8;\" x=\"363.547332\" xlink:href=\"#me7c66846a5\" y=\"203.04\"/>\n      </g>\n     </g>\n     <g id=\"text_6\">\n      <!-- 2020 -->\n      <g transform=\"translate(340.467142 229.34544)rotate(-30)scale(0.1 -0.1)\">\n       <use xlink:href=\"#DejaVuSans-50\"/>\n       <use x=\"63.623047\" xlink:href=\"#DejaVuSans-48\"/>\n       <use x=\"127.246094\" xlink:href=\"#DejaVuSans-50\"/>\n       <use x=\"190.869141\" xlink:href=\"#DejaVuSans-48\"/>\n      </g>\n     </g>\n    </g>\n    <g id=\"text_7\">\n     <!-- Date -->\n     <defs>\n      <path d=\"M 19.671875 64.796875 \nL 19.671875 8.109375 \nL 31.59375 8.109375 \nQ 46.6875 8.109375 53.6875 14.9375 \nQ 60.6875 21.78125 60.6875 36.53125 \nQ 60.6875 51.171875 53.6875 57.984375 \nQ 46.6875 64.796875 31.59375 64.796875 \nz\nM 9.8125 72.90625 \nL 30.078125 72.90625 \nQ 51.265625 72.90625 61.171875 64.09375 \nQ 71.09375 55.28125 71.09375 36.53125 \nQ 71.09375 17.671875 61.125 8.828125 \nQ 51.171875 0 30.078125 0 \nL 9.8125 0 \nz\n\" id=\"DejaVuSans-68\"/>\n      <path d=\"M 34.28125 27.484375 \nQ 23.390625 27.484375 19.1875 25 \nQ 14.984375 22.515625 14.984375 16.5 \nQ 14.984375 11.71875 18.140625 8.90625 \nQ 21.296875 6.109375 26.703125 6.109375 \nQ 34.1875 6.109375 38.703125 11.40625 \nQ 43.21875 16.703125 43.21875 25.484375 \nL 43.21875 27.484375 \nz\nM 52.203125 31.203125 \nL 52.203125 0 \nL 43.21875 0 \nL 43.21875 8.296875 \nQ 40.140625 3.328125 35.546875 0.953125 \nQ 30.953125 -1.421875 24.3125 -1.421875 \nQ 15.921875 -1.421875 10.953125 3.296875 \nQ 6 8.015625 6 15.921875 \nQ 6 25.140625 12.171875 29.828125 \nQ 18.359375 34.515625 30.609375 34.515625 \nL 43.21875 34.515625 \nL 43.21875 35.40625 \nQ 43.21875 41.609375 39.140625 45 \nQ 35.0625 48.390625 27.6875 48.390625 \nQ 23 48.390625 18.546875 47.265625 \nQ 14.109375 46.140625 10.015625 43.890625 \nL 10.015625 52.203125 \nQ 14.9375 54.109375 19.578125 55.046875 \nQ 24.21875 56 28.609375 56 \nQ 40.484375 56 46.34375 49.84375 \nQ 52.203125 43.703125 52.203125 31.203125 \nz\n\" id=\"DejaVuSans-97\"/>\n      <path d=\"M 18.3125 70.21875 \nL 18.3125 54.6875 \nL 36.8125 54.6875 \nL 36.8125 47.703125 \nL 18.3125 47.703125 \nL 18.3125 18.015625 \nQ 18.3125 11.328125 20.140625 9.421875 \nQ 21.96875 7.515625 27.59375 7.515625 \nL 36.8125 7.515625 \nL 36.8125 0 \nL 27.59375 0 \nQ 17.1875 0 13.234375 3.875 \nQ 9.28125 7.765625 9.28125 18.015625 \nL 9.28125 47.703125 \nL 2.6875 47.703125 \nL 2.6875 54.6875 \nL 9.28125 54.6875 \nL 9.28125 70.21875 \nz\n\" id=\"DejaVuSans-116\"/>\n      <path d=\"M 56.203125 29.59375 \nL 56.203125 25.203125 \nL 14.890625 25.203125 \nQ 15.484375 15.921875 20.484375 11.0625 \nQ 25.484375 6.203125 34.421875 6.203125 \nQ 39.59375 6.203125 44.453125 7.46875 \nQ 49.3125 8.734375 54.109375 11.28125 \nL 54.109375 2.78125 \nQ 49.265625 0.734375 44.1875 -0.34375 \nQ 39.109375 -1.421875 33.890625 -1.421875 \nQ 20.796875 -1.421875 13.15625 6.1875 \nQ 5.515625 13.8125 5.515625 26.8125 \nQ 5.515625 40.234375 12.765625 48.109375 \nQ 20.015625 56 32.328125 56 \nQ 43.359375 56 49.78125 48.890625 \nQ 56.203125 41.796875 56.203125 29.59375 \nz\nM 47.21875 32.234375 \nQ 47.125 39.59375 43.09375 43.984375 \nQ 39.0625 48.390625 32.421875 48.390625 \nQ 24.90625 48.390625 20.390625 44.140625 \nQ 15.875 39.890625 15.1875 32.171875 \nz\n\" id=\"DejaVuSans-101\"/>\n     </defs>\n     <g transform=\"translate(191.914844 242.74494)scale(0.1 -0.1)\">\n      <use xlink:href=\"#DejaVuSans-68\"/>\n      <use x=\"77.001953\" xlink:href=\"#DejaVuSans-97\"/>\n      <use x=\"138.28125\" xlink:href=\"#DejaVuSans-116\"/>\n      <use x=\"177.490234\" xlink:href=\"#DejaVuSans-101\"/>\n     </g>\n    </g>\n   </g>\n   <g id=\"matplotlib.axis_2\">\n    <g id=\"ytick_1\">\n     <g id=\"line2d_7\">\n      <defs>\n       <path d=\"M 0 0 \nL -3.5 0 \n\" id=\"mb60eac25a2\" style=\"stroke:#000000;stroke-width:0.8;\"/>\n      </defs>\n      <g>\n       <use style=\"stroke:#000000;stroke-width:0.8;\" x=\"36.465625\" xlink:href=\"#mb60eac25a2\" y=\"194.138182\"/>\n      </g>\n     </g>\n     <g id=\"text_8\">\n      <!-- 0.00 -->\n      <defs>\n       <path d=\"M 10.6875 12.40625 \nL 21 12.40625 \nL 21 0 \nL 10.6875 0 \nz\n\" id=\"DejaVuSans-46\"/>\n      </defs>\n      <g transform=\"translate(7.2 197.937401)scale(0.1 -0.1)\">\n       <use xlink:href=\"#DejaVuSans-48\"/>\n       <use x=\"63.623047\" xlink:href=\"#DejaVuSans-46\"/>\n       <use x=\"95.410156\" xlink:href=\"#DejaVuSans-48\"/>\n       <use x=\"159.033203\" xlink:href=\"#DejaVuSans-48\"/>\n      </g>\n     </g>\n    </g>\n    <g id=\"ytick_2\">\n     <g id=\"line2d_8\">\n      <g>\n       <use style=\"stroke:#000000;stroke-width:0.8;\" x=\"36.465625\" xlink:href=\"#mb60eac25a2\" y=\"171.883636\"/>\n      </g>\n     </g>\n     <g id=\"text_9\">\n      <!-- 0.25 -->\n      <defs>\n       <path d=\"M 10.796875 72.90625 \nL 49.515625 72.90625 \nL 49.515625 64.59375 \nL 19.828125 64.59375 \nL 19.828125 46.734375 \nQ 21.96875 47.46875 24.109375 47.828125 \nQ 26.265625 48.1875 28.421875 48.1875 \nQ 40.625 48.1875 47.75 41.5 \nQ 54.890625 34.8125 54.890625 23.390625 \nQ 54.890625 11.625 47.5625 5.09375 \nQ 40.234375 -1.421875 26.90625 -1.421875 \nQ 22.3125 -1.421875 17.546875 -0.640625 \nQ 12.796875 0.140625 7.71875 1.703125 \nL 7.71875 11.625 \nQ 12.109375 9.234375 16.796875 8.0625 \nQ 21.484375 6.890625 26.703125 6.890625 \nQ 35.15625 6.890625 40.078125 11.328125 \nQ 45.015625 15.765625 45.015625 23.390625 \nQ 45.015625 31 40.078125 35.4375 \nQ 35.15625 39.890625 26.703125 39.890625 \nQ 22.75 39.890625 18.8125 39.015625 \nQ 14.890625 38.140625 10.796875 36.28125 \nz\n\" id=\"DejaVuSans-53\"/>\n      </defs>\n      <g transform=\"translate(7.2 175.682855)scale(0.1 -0.1)\">\n       <use xlink:href=\"#DejaVuSans-48\"/>\n       <use x=\"63.623047\" xlink:href=\"#DejaVuSans-46\"/>\n       <use x=\"95.410156\" xlink:href=\"#DejaVuSans-50\"/>\n       <use x=\"159.033203\" xlink:href=\"#DejaVuSans-53\"/>\n      </g>\n     </g>\n    </g>\n    <g id=\"ytick_3\">\n     <g id=\"line2d_9\">\n      <g>\n       <use style=\"stroke:#000000;stroke-width:0.8;\" x=\"36.465625\" xlink:href=\"#mb60eac25a2\" y=\"149.629091\"/>\n      </g>\n     </g>\n     <g id=\"text_10\">\n      <!-- 0.50 -->\n      <g transform=\"translate(7.2 153.42831)scale(0.1 -0.1)\">\n       <use xlink:href=\"#DejaVuSans-48\"/>\n       <use x=\"63.623047\" xlink:href=\"#DejaVuSans-46\"/>\n       <use x=\"95.410156\" xlink:href=\"#DejaVuSans-53\"/>\n       <use x=\"159.033203\" xlink:href=\"#DejaVuSans-48\"/>\n      </g>\n     </g>\n    </g>\n    <g id=\"ytick_4\">\n     <g id=\"line2d_10\">\n      <g>\n       <use style=\"stroke:#000000;stroke-width:0.8;\" x=\"36.465625\" xlink:href=\"#mb60eac25a2\" y=\"127.374545\"/>\n      </g>\n     </g>\n     <g id=\"text_11\">\n      <!-- 0.75 -->\n      <defs>\n       <path d=\"M 8.203125 72.90625 \nL 55.078125 72.90625 \nL 55.078125 68.703125 \nL 28.609375 0 \nL 18.3125 0 \nL 43.21875 64.59375 \nL 8.203125 64.59375 \nz\n\" id=\"DejaVuSans-55\"/>\n      </defs>\n      <g transform=\"translate(7.2 131.173764)scale(0.1 -0.1)\">\n       <use xlink:href=\"#DejaVuSans-48\"/>\n       <use x=\"63.623047\" xlink:href=\"#DejaVuSans-46\"/>\n       <use x=\"95.410156\" xlink:href=\"#DejaVuSans-55\"/>\n       <use x=\"159.033203\" xlink:href=\"#DejaVuSans-53\"/>\n      </g>\n     </g>\n    </g>\n    <g id=\"ytick_5\">\n     <g id=\"line2d_11\">\n      <g>\n       <use style=\"stroke:#000000;stroke-width:0.8;\" x=\"36.465625\" xlink:href=\"#mb60eac25a2\" y=\"105.12\"/>\n      </g>\n     </g>\n     <g id=\"text_12\">\n      <!-- 1.00 -->\n      <g transform=\"translate(7.2 108.919219)scale(0.1 -0.1)\">\n       <use xlink:href=\"#DejaVuSans-49\"/>\n       <use x=\"63.623047\" xlink:href=\"#DejaVuSans-46\"/>\n       <use x=\"95.410156\" xlink:href=\"#DejaVuSans-48\"/>\n       <use x=\"159.033203\" xlink:href=\"#DejaVuSans-48\"/>\n      </g>\n     </g>\n    </g>\n    <g id=\"ytick_6\">\n     <g id=\"line2d_12\">\n      <g>\n       <use style=\"stroke:#000000;stroke-width:0.8;\" x=\"36.465625\" xlink:href=\"#mb60eac25a2\" y=\"82.865455\"/>\n      </g>\n     </g>\n     <g id=\"text_13\">\n      <!-- 1.25 -->\n      <g transform=\"translate(7.2 86.664673)scale(0.1 -0.1)\">\n       <use xlink:href=\"#DejaVuSans-49\"/>\n       <use x=\"63.623047\" xlink:href=\"#DejaVuSans-46\"/>\n       <use x=\"95.410156\" xlink:href=\"#DejaVuSans-50\"/>\n       <use x=\"159.033203\" xlink:href=\"#DejaVuSans-53\"/>\n      </g>\n     </g>\n    </g>\n    <g id=\"ytick_7\">\n     <g id=\"line2d_13\">\n      <g>\n       <use style=\"stroke:#000000;stroke-width:0.8;\" x=\"36.465625\" xlink:href=\"#mb60eac25a2\" y=\"60.610909\"/>\n      </g>\n     </g>\n     <g id=\"text_14\">\n      <!-- 1.50 -->\n      <g transform=\"translate(7.2 64.410128)scale(0.1 -0.1)\">\n       <use xlink:href=\"#DejaVuSans-49\"/>\n       <use x=\"63.623047\" xlink:href=\"#DejaVuSans-46\"/>\n       <use x=\"95.410156\" xlink:href=\"#DejaVuSans-53\"/>\n       <use x=\"159.033203\" xlink:href=\"#DejaVuSans-48\"/>\n      </g>\n     </g>\n    </g>\n    <g id=\"ytick_8\">\n     <g id=\"line2d_14\">\n      <g>\n       <use style=\"stroke:#000000;stroke-width:0.8;\" x=\"36.465625\" xlink:href=\"#mb60eac25a2\" y=\"38.356364\"/>\n      </g>\n     </g>\n     <g id=\"text_15\">\n      <!-- 1.75 -->\n      <g transform=\"translate(7.2 42.155582)scale(0.1 -0.1)\">\n       <use xlink:href=\"#DejaVuSans-49\"/>\n       <use x=\"63.623047\" xlink:href=\"#DejaVuSans-46\"/>\n       <use x=\"95.410156\" xlink:href=\"#DejaVuSans-55\"/>\n       <use x=\"159.033203\" xlink:href=\"#DejaVuSans-53\"/>\n      </g>\n     </g>\n    </g>\n    <g id=\"ytick_9\">\n     <g id=\"line2d_15\">\n      <g>\n       <use style=\"stroke:#000000;stroke-width:0.8;\" x=\"36.465625\" xlink:href=\"#mb60eac25a2\" y=\"16.101818\"/>\n      </g>\n     </g>\n     <g id=\"text_16\">\n      <!-- 2.00 -->\n      <g transform=\"translate(7.2 19.901037)scale(0.1 -0.1)\">\n       <use xlink:href=\"#DejaVuSans-50\"/>\n       <use x=\"63.623047\" xlink:href=\"#DejaVuSans-46\"/>\n       <use x=\"95.410156\" xlink:href=\"#DejaVuSans-48\"/>\n       <use x=\"159.033203\" xlink:href=\"#DejaVuSans-48\"/>\n      </g>\n     </g>\n    </g>\n   </g>\n   <g id=\"line2d_16\">\n    <path clip-path=\"url(#p570ad97986)\" d=\"M 51.683807 194.138182 \nL 70.804404 194.138182 \nL 70.88682 105.12 \nL 71.298902 194.138182 \nL 85.886598 194.138182 \nL 86.958011 105.12 \nL 88.276673 194.138182 \nL 88.606338 194.138182 \nL 91.655744 105.12 \nL 92.315075 194.138182 \nL 116.298237 194.138182 \nL 117.452066 105.12 \nL 119.18281 194.138182 \nL 127.259614 194.138182 \nL 127.671695 105.12 \nL 127.836528 194.138182 \nL 202.83542 194.138182 \nL 204.64858 105.12 \nL 206.873822 194.138182 \nL 246.763343 194.138182 \nL 248.988585 16.101818 \nL 249.647916 194.138182 \nL 263.493865 194.138182 \nL 264.565278 105.12 \nL 266.872936 194.138182 \nL 274.94974 194.138182 \nL 275.85632 105.12 \nL 279.070558 194.138182 \nL 291.020931 194.138182 \nL 292.422009 105.12 \nL 293.98792 194.138182 \nL 356.047443 194.138182 \nL 356.047443 194.138182 \n\" style=\"fill:none;stroke:#1f77b4;stroke-linecap:square;stroke-width:1.5;\"/>\n   </g>\n   <g id=\"patch_3\">\n    <path d=\"M 36.465625 203.04 \nL 36.465625 7.2 \n\" style=\"fill:none;stroke:#000000;stroke-linecap:square;stroke-linejoin:miter;stroke-width:0.8;\"/>\n   </g>\n   <g id=\"patch_4\">\n    <path d=\"M 371.265625 203.04 \nL 371.265625 7.2 \n\" style=\"fill:none;stroke:#000000;stroke-linecap:square;stroke-linejoin:miter;stroke-width:0.8;\"/>\n   </g>\n   <g id=\"patch_5\">\n    <path d=\"M 36.465625 203.04 \nL 371.265625 203.04 \n\" style=\"fill:none;stroke:#000000;stroke-linecap:square;stroke-linejoin:miter;stroke-width:0.8;\"/>\n   </g>\n   <g id=\"patch_6\">\n    <path d=\"M 36.465625 7.2 \nL 371.265625 7.2 \n\" style=\"fill:none;stroke:#000000;stroke-linecap:square;stroke-linejoin:miter;stroke-width:0.8;\"/>\n   </g>\n  </g>\n </g>\n <defs>\n  <clipPath id=\"p570ad97986\">\n   <rect height=\"195.84\" width=\"334.8\" x=\"36.465625\" y=\"7.2\"/>\n  </clipPath>\n </defs>\n</svg>\n",
      "image/png": "[encoded data removed]"
     },
     "metadata": {
      "needs_background": "light"
     }
    }
   ],
   "source": [
    "full_record.home_reds[full_record.home_field_advantage].plot()"
   ]
  },
  {
   "cell_type": "code",
   "execution_count": 84,
   "metadata": {},
   "outputs": [
    {
     "output_type": "execute_result",
     "data": {
      "text/plain": "            home_field_advantage  home_goals  away_goals  \\\nDate                                                       \n2019-12-05                 False           0           4   \n2019-10-02                  True           6           0   \n2019-09-03                  True           3           0   \n2019-06-05                  True           1           0   \n2019-06-02                 False           0           2   \n\n            home_on_target_accuracy  away_on_target_accuracy  home_fouls  \\\nDate                                                                       \n2019-12-05                 0.000000                 0.450000           0   \n2019-10-02                 0.600000                 0.000000           9   \n2019-09-03                 0.473684                 0.000000          11   \n2019-06-05                 0.263158                 0.000000          12   \n2019-06-02                 0.000000                 0.266667           0   \n\n            away_fouls  home_reds  away_reds  home_yellows  away_yellows  \\\nDate                                                                       \n2019-12-05           8          0          0             0             0   \n2019-10-02           0          0          0             1             0   \n2019-09-03           0          0          0             1             0   \n2019-06-05           0          0          0             3             0   \n2019-06-02           6          0          0             0             1   \n\n            home_win  away_win  draw  home_corners  away_corners  season_num  \nDate                                                                          \n2019-12-05       0.0       1.0   0.0             0             6          10  \n2019-10-02       1.0       0.0   0.0             2             0          10  \n2019-09-03       1.0       0.0   0.0             9             0          10  \n2019-06-05       1.0       0.0   0.0            11             0          10  \n2019-06-02       0.0       1.0   0.0             0             6          10  ",
      "text/html": "<div>\n<style scoped>\n    .dataframe tbody tr th:only-of-type {\n        vertical-align: middle;\n    }\n\n    .dataframe tbody tr th {\n        vertical-align: top;\n    }\n\n    .dataframe thead th {\n        text-align: right;\n    }\n</style>\n<table border=\"1\" class=\"dataframe\">\n  <thead>\n    <tr style=\"text-align: right;\">\n      <th></th>\n      <th>home_field_advantage</th>\n      <th>home_goals</th>\n      <th>away_goals</th>\n      <th>home_on_target_accuracy</th>\n      <th>away_on_target_accuracy</th>\n      <th>home_fouls</th>\n      <th>away_fouls</th>\n      <th>home_reds</th>\n      <th>away_reds</th>\n      <th>home_yellows</th>\n      <th>away_yellows</th>\n      <th>home_win</th>\n      <th>away_win</th>\n      <th>draw</th>\n      <th>home_corners</th>\n      <th>away_corners</th>\n      <th>season_num</th>\n    </tr>\n    <tr>\n      <th>Date</th>\n      <th></th>\n      <th></th>\n      <th></th>\n      <th></th>\n      <th></th>\n      <th></th>\n      <th></th>\n      <th></th>\n      <th></th>\n      <th></th>\n      <th></th>\n      <th></th>\n      <th></th>\n      <th></th>\n      <th></th>\n      <th></th>\n      <th></th>\n    </tr>\n  </thead>\n  <tbody>\n    <tr>\n      <th>2019-12-05</th>\n      <td>False</td>\n      <td>0</td>\n      <td>4</td>\n      <td>0.000000</td>\n      <td>0.450000</td>\n      <td>0</td>\n      <td>8</td>\n      <td>0</td>\n      <td>0</td>\n      <td>0</td>\n      <td>0</td>\n      <td>0.0</td>\n      <td>1.0</td>\n      <td>0.0</td>\n      <td>0</td>\n      <td>6</td>\n      <td>10</td>\n    </tr>\n    <tr>\n      <th>2019-10-02</th>\n      <td>True</td>\n      <td>6</td>\n      <td>0</td>\n      <td>0.600000</td>\n      <td>0.000000</td>\n      <td>9</td>\n      <td>0</td>\n      <td>0</td>\n      <td>0</td>\n      <td>1</td>\n      <td>0</td>\n      <td>1.0</td>\n      <td>0.0</td>\n      <td>0.0</td>\n      <td>2</td>\n      <td>0</td>\n      <td>10</td>\n    </tr>\n    <tr>\n      <th>2019-09-03</th>\n      <td>True</td>\n      <td>3</td>\n      <td>0</td>\n      <td>0.473684</td>\n      <td>0.000000</td>\n      <td>11</td>\n      <td>0</td>\n      <td>0</td>\n      <td>0</td>\n      <td>1</td>\n      <td>0</td>\n      <td>1.0</td>\n      <td>0.0</td>\n      <td>0.0</td>\n      <td>9</td>\n      <td>0</td>\n      <td>10</td>\n    </tr>\n    <tr>\n      <th>2019-06-05</th>\n      <td>True</td>\n      <td>1</td>\n      <td>0</td>\n      <td>0.263158</td>\n      <td>0.000000</td>\n      <td>12</td>\n      <td>0</td>\n      <td>0</td>\n      <td>0</td>\n      <td>3</td>\n      <td>0</td>\n      <td>1.0</td>\n      <td>0.0</td>\n      <td>0.0</td>\n      <td>11</td>\n      <td>0</td>\n      <td>10</td>\n    </tr>\n    <tr>\n      <th>2019-06-02</th>\n      <td>False</td>\n      <td>0</td>\n      <td>2</td>\n      <td>0.000000</td>\n      <td>0.266667</td>\n      <td>0</td>\n      <td>6</td>\n      <td>0</td>\n      <td>0</td>\n      <td>0</td>\n      <td>1</td>\n      <td>0.0</td>\n      <td>1.0</td>\n      <td>0.0</td>\n      <td>0</td>\n      <td>6</td>\n      <td>10</td>\n    </tr>\n  </tbody>\n</table>\n</div>"
     },
     "metadata": {},
     "execution_count": 84
    }
   ],
   "source": [
    "full_record.head()"
   ]
  },
  {
   "cell_type": "code",
   "execution_count": 85,
   "metadata": {},
   "outputs": [],
   "source": [
    "from sklearn.model_selection import train_test_split\n",
    "from sklearn.ensemble import RandomForestClassifier\n",
    "from sklearn.metrics import confusion_matrix, precision_score, recall_score"
   ]
  },
  {
   "cell_type": "code",
   "execution_count": 91,
   "metadata": {},
   "outputs": [],
   "source": [
    "df = full_record.copy()"
   ]
  },
  {
   "cell_type": "code",
   "execution_count": 88,
   "metadata": {},
   "outputs": [],
   "source": [
    "y = df.pop('home_reds')"
   ]
  },
  {
   "cell_type": "code",
   "execution_count": 89,
   "metadata": {},
   "outputs": [],
   "source": [
    "X = df.values"
   ]
  },
  {
   "cell_type": "code",
   "execution_count": 94,
   "metadata": {},
   "outputs": [
    {
     "output_type": "execute_result",
     "data": {
      "text/plain": "            home_field_advantage  home_goals  away_goals  \\\nDate                                                       \n2017-08-04                  True           3           0   \n2017-08-03                  True           0           0   \n2017-06-05                  True           5           0   \n2017-05-21                 False           0           5   \n2017-05-16                  True           3           0   \n...                          ...         ...         ...   \n2009-09-20                 False           0           3   \n2009-09-12                  True           4           0   \n2009-08-30                 False           0           1   \n2009-08-22                  True           1           0   \n2009-08-15                 False           0           2   \n\n            home_on_target_accuracy  away_on_target_accuracy  home_fouls  \\\nDate                                                                       \n2017-08-04                 0.304348                 0.000000           6   \n2017-08-03                 0.083333                 0.000000           8   \n2017-06-05                 0.461538                 0.000000          12   \n2017-05-21                 0.000000                 0.600000           0   \n2017-05-16                 0.476190                 0.000000           8   \n...                             ...                      ...         ...   \n2009-09-20                 0.000000                 0.600000           0   \n2009-09-12                 0.600000                 0.000000          13   \n2009-08-30                 0.000000                 0.666667           0   \n2009-08-22                 0.687500                 0.000000           7   \n2009-08-15                 0.000000                 0.625000           0   \n\n            away_fouls  home_reds  away_reds  home_yellows  away_yellows  \\\nDate                                                                       \n2017-08-04           0          0          0             0             0   \n2017-08-03           0          0          0             1             0   \n2017-06-05           0          0          0             1             0   \n2017-05-21          10          0          0             0             0   \n2017-05-16           0          0          0             1             0   \n...                ...        ...        ...           ...           ...   \n2009-09-20          14          0          0             0             2   \n2009-09-12           0          0          0             3             0   \n2009-08-30           7          0          0             0             1   \n2009-08-22           0          0          0             0             0   \n2009-08-15           9          0          0             0             1   \n\n            home_win  away_win  draw  home_corners  away_corners  season_num  \nDate                                                                          \n2017-08-04       1.0       0.0   0.0             7             0           8  \n2017-08-03       0.0       0.0   1.0             8             0           8  \n2017-06-05       1.0       0.0   0.0             9             0           8  \n2017-05-21       0.0       1.0   0.0             0             5           8  \n2017-05-16       1.0       0.0   0.0             7             0           8  \n...              ...       ...   ...           ...           ...         ...  \n2009-09-20       0.0       0.0   0.0             0             1           1  \n2009-09-12       1.0       0.0   0.0             3             0           1  \n2009-08-30       0.0       1.0   0.0             0            11           1  \n2009-08-22       1.0       0.0   0.0             5             0           1  \n2009-08-15       0.0       1.0   0.0             0             4           1  \n\n[304 rows x 17 columns]",
      "text/html": "<div>\n<style scoped>\n    .dataframe tbody tr th:only-of-type {\n        vertical-align: middle;\n    }\n\n    .dataframe tbody tr th {\n        vertical-align: top;\n    }\n\n    .dataframe thead th {\n        text-align: right;\n    }\n</style>\n<table border=\"1\" class=\"dataframe\">\n  <thead>\n    <tr style=\"text-align: right;\">\n      <th></th>\n      <th>home_field_advantage</th>\n      <th>home_goals</th>\n      <th>away_goals</th>\n      <th>home_on_target_accuracy</th>\n      <th>away_on_target_accuracy</th>\n      <th>home_fouls</th>\n      <th>away_fouls</th>\n      <th>home_reds</th>\n      <th>away_reds</th>\n      <th>home_yellows</th>\n      <th>away_yellows</th>\n      <th>home_win</th>\n      <th>away_win</th>\n      <th>draw</th>\n      <th>home_corners</th>\n      <th>away_corners</th>\n      <th>season_num</th>\n    </tr>\n    <tr>\n      <th>Date</th>\n      <th></th>\n      <th></th>\n      <th></th>\n      <th></th>\n      <th></th>\n      <th></th>\n      <th></th>\n      <th></th>\n      <th></th>\n      <th></th>\n      <th></th>\n      <th></th>\n      <th></th>\n      <th></th>\n      <th></th>\n      <th></th>\n      <th></th>\n    </tr>\n  </thead>\n  <tbody>\n    <tr>\n      <th>2017-08-04</th>\n      <td>True</td>\n      <td>3</td>\n      <td>0</td>\n      <td>0.304348</td>\n      <td>0.000000</td>\n      <td>6</td>\n      <td>0</td>\n      <td>0</td>\n      <td>0</td>\n      <td>0</td>\n      <td>0</td>\n      <td>1.0</td>\n      <td>0.0</td>\n      <td>0.0</td>\n      <td>7</td>\n      <td>0</td>\n      <td>8</td>\n    </tr>\n    <tr>\n      <th>2017-08-03</th>\n      <td>True</td>\n      <td>0</td>\n      <td>0</td>\n      <td>0.083333</td>\n      <td>0.000000</td>\n      <td>8</td>\n      <td>0</td>\n      <td>0</td>\n      <td>0</td>\n      <td>1</td>\n      <td>0</td>\n      <td>0.0</td>\n      <td>0.0</td>\n      <td>1.0</td>\n      <td>8</td>\n      <td>0</td>\n      <td>8</td>\n    </tr>\n    <tr>\n      <th>2017-06-05</th>\n      <td>True</td>\n      <td>5</td>\n      <td>0</td>\n      <td>0.461538</td>\n      <td>0.000000</td>\n      <td>12</td>\n      <td>0</td>\n      <td>0</td>\n      <td>0</td>\n      <td>1</td>\n      <td>0</td>\n      <td>1.0</td>\n      <td>0.0</td>\n      <td>0.0</td>\n      <td>9</td>\n      <td>0</td>\n      <td>8</td>\n    </tr>\n    <tr>\n      <th>2017-05-21</th>\n      <td>False</td>\n      <td>0</td>\n      <td>5</td>\n      <td>0.000000</td>\n      <td>0.600000</td>\n      <td>0</td>\n      <td>10</td>\n      <td>0</td>\n      <td>0</td>\n      <td>0</td>\n      <td>0</td>\n      <td>0.0</td>\n      <td>1.0</td>\n      <td>0.0</td>\n      <td>0</td>\n      <td>5</td>\n      <td>8</td>\n    </tr>\n    <tr>\n      <th>2017-05-16</th>\n      <td>True</td>\n      <td>3</td>\n      <td>0</td>\n      <td>0.476190</td>\n      <td>0.000000</td>\n      <td>8</td>\n      <td>0</td>\n      <td>0</td>\n      <td>0</td>\n      <td>1</td>\n      <td>0</td>\n      <td>1.0</td>\n      <td>0.0</td>\n      <td>0.0</td>\n      <td>7</td>\n      <td>0</td>\n      <td>8</td>\n    </tr>\n    <tr>\n      <th>...</th>\n      <td>...</td>\n      <td>...</td>\n      <td>...</td>\n      <td>...</td>\n      <td>...</td>\n      <td>...</td>\n      <td>...</td>\n      <td>...</td>\n      <td>...</td>\n      <td>...</td>\n      <td>...</td>\n      <td>...</td>\n      <td>...</td>\n      <td>...</td>\n      <td>...</td>\n      <td>...</td>\n      <td>...</td>\n    </tr>\n    <tr>\n      <th>2009-09-20</th>\n      <td>False</td>\n      <td>0</td>\n      <td>3</td>\n      <td>0.000000</td>\n      <td>0.600000</td>\n      <td>0</td>\n      <td>14</td>\n      <td>0</td>\n      <td>0</td>\n      <td>0</td>\n      <td>2</td>\n      <td>0.0</td>\n      <td>0.0</td>\n      <td>0.0</td>\n      <td>0</td>\n      <td>1</td>\n      <td>1</td>\n    </tr>\n    <tr>\n      <th>2009-09-12</th>\n      <td>True</td>\n      <td>4</td>\n      <td>0</td>\n      <td>0.600000</td>\n      <td>0.000000</td>\n      <td>13</td>\n      <td>0</td>\n      <td>0</td>\n      <td>0</td>\n      <td>3</td>\n      <td>0</td>\n      <td>1.0</td>\n      <td>0.0</td>\n      <td>0.0</td>\n      <td>3</td>\n      <td>0</td>\n      <td>1</td>\n    </tr>\n    <tr>\n      <th>2009-08-30</th>\n      <td>False</td>\n      <td>0</td>\n      <td>1</td>\n      <td>0.000000</td>\n      <td>0.666667</td>\n      <td>0</td>\n      <td>7</td>\n      <td>0</td>\n      <td>0</td>\n      <td>0</td>\n      <td>1</td>\n      <td>0.0</td>\n      <td>1.0</td>\n      <td>0.0</td>\n      <td>0</td>\n      <td>11</td>\n      <td>1</td>\n    </tr>\n    <tr>\n      <th>2009-08-22</th>\n      <td>True</td>\n      <td>1</td>\n      <td>0</td>\n      <td>0.687500</td>\n      <td>0.000000</td>\n      <td>7</td>\n      <td>0</td>\n      <td>0</td>\n      <td>0</td>\n      <td>0</td>\n      <td>0</td>\n      <td>1.0</td>\n      <td>0.0</td>\n      <td>0.0</td>\n      <td>5</td>\n      <td>0</td>\n      <td>1</td>\n    </tr>\n    <tr>\n      <th>2009-08-15</th>\n      <td>False</td>\n      <td>0</td>\n      <td>2</td>\n      <td>0.000000</td>\n      <td>0.625000</td>\n      <td>0</td>\n      <td>9</td>\n      <td>0</td>\n      <td>0</td>\n      <td>0</td>\n      <td>1</td>\n      <td>0.0</td>\n      <td>1.0</td>\n      <td>0.0</td>\n      <td>0</td>\n      <td>4</td>\n      <td>1</td>\n    </tr>\n  </tbody>\n</table>\n<p>304 rows × 17 columns</p>\n</div>"
     },
     "metadata": {},
     "execution_count": 94
    }
   ],
   "source": [
    "df[df.season_num <= 8]"
   ]
  },
  {
   "cell_type": "code",
   "execution_count": 98,
   "metadata": {},
   "outputs": [
    {
     "output_type": "execute_result",
     "data": {
      "text/plain": "(304, 76, 380)"
     },
     "metadata": {},
     "execution_count": 98
    }
   ],
   "source": [
    "8 * 38, 2 * 38, 10 * 38"
   ]
  },
  {
   "cell_type": "code",
   "execution_count": 96,
   "metadata": {},
   "outputs": [],
   "source": [
    "train, test = df[df.season_num <=8], df[df.season_num > 8]"
   ]
  },
  {
   "cell_type": "code",
   "execution_count": 99,
   "metadata": {},
   "outputs": [
    {
     "output_type": "execute_result",
     "data": {
      "text/plain": "(304, 76)"
     },
     "metadata": {},
     "execution_count": 99
    }
   ],
   "source": [
    "len(train), len(test)"
   ]
  },
  {
   "cell_type": "code",
   "execution_count": null,
   "metadata": {},
   "outputs": [],
   "source": []
  }
 ]
}